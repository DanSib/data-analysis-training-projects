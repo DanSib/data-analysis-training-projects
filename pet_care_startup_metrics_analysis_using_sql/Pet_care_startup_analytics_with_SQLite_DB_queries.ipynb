{
 "cells": [
  {
   "cell_type": "markdown",
   "metadata": {},
   "source": [
    "---"
   ]
  },
  {
   "cell_type": "markdown",
   "metadata": {},
   "source": [
    "# Test task: data analysis for a pet care start-up\n",
    "## 'SQLite database queries'\n",
    "### This is the analysis from the data of a small pet care start-up.\n",
    "### I will explore the database, then perform several analytical steps using SQL queries.\n",
    "### There will be Conversations and Bookings analysis.\n",
    "### Daily Booking Rate and Take Rate. As well as A/B tests.\n",
    "##### Performed by: Denis Shishkin [<a href=\"https://github.com/DanSib\" target=\"_blank\">github.com/DanSib</a>]"
   ]
  },
  {
   "cell_type": "markdown",
   "metadata": {},
   "source": [
    "<a name=\"Head\"></a>\n",
    "\n",
    "### TABLE OF CONTENTS:\n",
    "\n",
    "* [Data Source: 8 tables](#0.5)\n",
    "\n",
    "* [Part 1. Exploring the Database (Test run)](#1.0)\n",
    "> * [Part 1. Task 1. Users' number](#1.1)\n",
    "> * [Part 1. Task 2. Users' number per period](#1.2)\n",
    "> * [Part 1. Task 3. Percentage of users who have added pets](#1.3)\n",
    "> * [Part 1. Task 4. Average number of pets added by users](#1.4)\n",
    "> * [Part 1. Task 5. Percentage of pets play well with cats](#1.5)\n",
    "\n",
    "* [Part 2. Conversations and Bookings](#2.0)\n",
    "> * [Part 2. Task 1. Services and average price per each service type](#2.1)\n",
    "> * [Part 2. Task 2. Numbers and booking rate by service](#2.2)\n",
    "> * [Part 2. Task 3. Cancellation rates for each service](#2.3)\n",
    "> * [Part 2. Task 4. Reviews by type and share analysis](#2.4)\n",
    "\n",
    "* [Part 3. Recent Daily Booking Rate](#3.0)\n",
    "> * [Part 3. Task 1. Daily booking rate before snapshot](#3.1)\n",
    "> * [Part 3. Task 2. Trand analysis](#3.2)\n",
    "\n",
    "* [Part 4. Analyzing Take Rate](#4.0)\n",
    "> * [Part 4. Task 1. Gross billings and net revenue, monthly report](#4.1)\n",
    "> * [Part 4. Task 2. Aggregate take rate (percentage of gross billings that is net revenue)](#4.2)\n",
    "> * [Part 4. Task 3. Take Rate trend analysis](#4.3)\n",
    "> * [Part 4. Task 4. Take Rate change causes - plots](#4.4)\n",
    "\n",
    "* [Part 5. New Conversation Flow](#5.0)\n",
    "> * [Part 5. Task 1. Hypothesis check: does new conversation page offer higher booking rate?](#5.1)\n",
    "> * [Part 5. Task 2. Is this change statistically significant?](#5.2)\n",
    "> * [Part 5. Task 3. Recommendations](#5.3)\n",
    "\n",
    "* [Summary](#6.0)"
   ]
  },
  {
   "cell_type": "markdown",
   "metadata": {},
   "source": [
    "<a name=\"TOP\"></a><a href=\"#END\"><font size=\"0.5\">TO THE END</font></a><a name=\"0.2\"></a><br/>"
   ]
  },
  {
   "cell_type": "markdown",
   "metadata": {},
   "source": [
    "<a href=\"#Head\"><font size=\"1.5\">BACK TO CONTENTS</font></a><a name=\"0.5\"></a><br/>\n",
    "\n",
    "### Database: db26.sqlite3\n",
    "\n",
    "> * 8 tables\n",
    ">> * conversations_conversation.csv\n",
    ">> * conversations_conversation_pets.csv\n",
    ">> * conversations_message.csv\n",
    ">> * conversations_review.csv\n",
    ">> * people_person.csv\n",
    ">> * people_testsegmentation.csv\n",
    ">> * pets_pet.csv\n",
    ">> * services_service.csv"
   ]
  },
  {
   "cell_type": "markdown",
   "metadata": {},
   "source": [
    "### Get libs and connection to Database"
   ]
  },
  {
   "cell_type": "code",
   "execution_count": 1,
   "metadata": {},
   "outputs": [],
   "source": [
    "import pandas as pd\n",
    "import numpy as np\n",
    "import sqlite3 as sql\n",
    "from plotly import graph_objects as go\n",
    "import plotly.express as px\n",
    "from plotly.subplots import make_subplots\n",
    "import matplotlib.pyplot as plt\n",
    "import matplotlib.dates as mdates\n",
    "import matplotlib.ticker as ticker\n",
    "import seaborn as sns\n",
    "from scipy import stats as st\n",
    "import math as mth\n",
    "import warnings"
   ]
  },
  {
   "cell_type": "code",
   "execution_count": 2,
   "metadata": {},
   "outputs": [],
   "source": [
    "pd.set_option('display.max_rows', 100)\n",
    "pd.set_option('display.max_columns', 100)\n",
    "pd.set_option('display.width', 115)\n",
    "warnings.filterwarnings('ignore')"
   ]
  },
  {
   "cell_type": "code",
   "execution_count": 3,
   "metadata": {},
   "outputs": [],
   "source": [
    "# create connection to db\n",
    "database = 'D:\\EDA_GIT_Projects\\Rover Material\\db26.sqlite3'\n",
    "connection = sql.connect(database)"
   ]
  },
  {
   "cell_type": "markdown",
   "metadata": {},
   "source": [
    "<a href=\"#Head\"><font size=\"1.5\">BACK TO CONTENTS</font></a><a name=\"1.0\"></a><br/>\n",
    "\n",
    "## I. Exploring the Database (Test run)"
   ]
  },
  {
   "cell_type": "markdown",
   "metadata": {},
   "source": [
    "<a href=\"#Head\"><font size=\"1.5\">BACK TO CONTENTS</font></a><a name=\"1.1\"></a><br/>\n",
    "\n",
    "### 1.1. How many users have signed up? The answer is 64416."
   ]
  },
  {
   "cell_type": "code",
   "execution_count": 4,
   "metadata": {},
   "outputs": [
    {
     "data": {
      "text/html": [
       "<div>\n",
       "<style scoped>\n",
       "    .dataframe tbody tr th:only-of-type {\n",
       "        vertical-align: middle;\n",
       "    }\n",
       "\n",
       "    .dataframe tbody tr th {\n",
       "        vertical-align: top;\n",
       "    }\n",
       "\n",
       "    .dataframe thead th {\n",
       "        text-align: right;\n",
       "    }\n",
       "</style>\n",
       "<table border=\"1\" class=\"dataframe\">\n",
       "  <thead>\n",
       "    <tr style=\"text-align: right;\">\n",
       "      <th></th>\n",
       "      <th>user_id_count</th>\n",
       "    </tr>\n",
       "  </thead>\n",
       "  <tbody>\n",
       "    <tr>\n",
       "      <th>0</th>\n",
       "      <td>64416</td>\n",
       "    </tr>\n",
       "  </tbody>\n",
       "</table>\n",
       "</div>"
      ],
      "text/plain": [
       "   user_id_count\n",
       "0          64416"
      ]
     },
     "execution_count": 4,
     "metadata": {},
     "output_type": "execute_result"
    }
   ],
   "source": [
    "users_signed_up_total = pd.read_sql_query(\n",
    "'''\n",
    "SELECT COUNT(*) AS user_id_count FROM people_person;\n",
    "'''\n",
    ", connection)\n",
    "users_signed_up_total"
   ]
  },
  {
   "cell_type": "code",
   "execution_count": 5,
   "metadata": {},
   "outputs": [
    {
     "data": {
      "text/html": [
       "<div>\n",
       "<style scoped>\n",
       "    .dataframe tbody tr th:only-of-type {\n",
       "        vertical-align: middle;\n",
       "    }\n",
       "\n",
       "    .dataframe tbody tr th {\n",
       "        vertical-align: top;\n",
       "    }\n",
       "\n",
       "    .dataframe thead th {\n",
       "        text-align: right;\n",
       "    }\n",
       "</style>\n",
       "<table border=\"1\" class=\"dataframe\">\n",
       "  <thead>\n",
       "    <tr style=\"text-align: right;\">\n",
       "      <th></th>\n",
       "      <th>user_id_count</th>\n",
       "    </tr>\n",
       "  </thead>\n",
       "  <tbody>\n",
       "    <tr>\n",
       "      <th>0</th>\n",
       "      <td>64416</td>\n",
       "    </tr>\n",
       "  </tbody>\n",
       "</table>\n",
       "</div>"
      ],
      "text/plain": [
       "   user_id_count\n",
       "0          64416"
      ]
     },
     "execution_count": 5,
     "metadata": {},
     "output_type": "execute_result"
    }
   ],
   "source": [
    "users_signed_up_total_v2 = pd.read_sql_query(\n",
    "'''\n",
    "SELECT COUNT (DISTINCT id) AS user_id_count FROM people_person;\n",
    "'''\n",
    ", connection)\n",
    "users_signed_up_total_v2"
   ]
  },
  {
   "cell_type": "markdown",
   "metadata": {},
   "source": [
    "<a href=\"#Head\"><font size=\"1.5\">BACK TO CONTENTS</font></a><a name=\"1.2\"></a><br/>\n",
    "\n",
    "### 1.2. How many users signed up prior to 2017-01-12? The answer is 35500."
   ]
  },
  {
   "cell_type": "code",
   "execution_count": 6,
   "metadata": {},
   "outputs": [
    {
     "data": {
      "text/html": [
       "<div>\n",
       "<style scoped>\n",
       "    .dataframe tbody tr th:only-of-type {\n",
       "        vertical-align: middle;\n",
       "    }\n",
       "\n",
       "    .dataframe tbody tr th {\n",
       "        vertical-align: top;\n",
       "    }\n",
       "\n",
       "    .dataframe thead th {\n",
       "        text-align: right;\n",
       "    }\n",
       "</style>\n",
       "<table border=\"1\" class=\"dataframe\">\n",
       "  <thead>\n",
       "    <tr style=\"text-align: right;\">\n",
       "      <th></th>\n",
       "      <th>user_id_count</th>\n",
       "    </tr>\n",
       "  </thead>\n",
       "  <tbody>\n",
       "    <tr>\n",
       "      <th>0</th>\n",
       "      <td>35500</td>\n",
       "    </tr>\n",
       "  </tbody>\n",
       "</table>\n",
       "</div>"
      ],
      "text/plain": [
       "   user_id_count\n",
       "0          35500"
      ]
     },
     "execution_count": 6,
     "metadata": {},
     "output_type": "execute_result"
    }
   ],
   "source": [
    "users_signed_up_before = pd.read_sql_query(\n",
    "'''\n",
    "SELECT COUNT (DISTINCT id) AS user_id_count FROM people_person WHERE date_joined < '2017-01-12';\n",
    "'''\n",
    ", connection)\n",
    "users_signed_up_before"
   ]
  },
  {
   "cell_type": "markdown",
   "metadata": {},
   "source": [
    "<a href=\"#Head\"><font size=\"1.5\">BACK TO CONTENTS</font></a><a name=\"1.3\"></a><br/>\n",
    "\n",
    "### 1.3. What percentage of users have added pets? The answer is 80.44%."
   ]
  },
  {
   "cell_type": "code",
   "execution_count": 7,
   "metadata": {},
   "outputs": [
    {
     "data": {
      "text/html": [
       "<div>\n",
       "<style scoped>\n",
       "    .dataframe tbody tr th:only-of-type {\n",
       "        vertical-align: middle;\n",
       "    }\n",
       "\n",
       "    .dataframe tbody tr th {\n",
       "        vertical-align: top;\n",
       "    }\n",
       "\n",
       "    .dataframe thead th {\n",
       "        text-align: right;\n",
       "    }\n",
       "</style>\n",
       "<table border=\"1\" class=\"dataframe\">\n",
       "  <thead>\n",
       "    <tr style=\"text-align: right;\">\n",
       "      <th></th>\n",
       "      <th>users_with_pets_perc</th>\n",
       "    </tr>\n",
       "  </thead>\n",
       "  <tbody>\n",
       "    <tr>\n",
       "      <th>0</th>\n",
       "      <td>80.44</td>\n",
       "    </tr>\n",
       "  </tbody>\n",
       "</table>\n",
       "</div>"
      ],
      "text/plain": [
       "  users_with_pets_perc\n",
       "0                80.44"
      ]
     },
     "execution_count": 7,
     "metadata": {},
     "output_type": "execute_result"
    }
   ],
   "source": [
    "users_added_pets_perc = pd.read_sql_query(\n",
    "'''\n",
    "SELECT\n",
    "    -- pets_pet.pet_owner AS pet_owners,\n",
    "    -- COUNT (DISTINCT people_person.id) AS all_users,\n",
    "    printf (\"%.2f\", CAST (pets_pet.pet_owner as real) * 100 / COUNT (DISTINCT people_person.id)) AS users_with_pets_perc\n",
    "FROM\n",
    "    people_person,\n",
    "    (\n",
    "    SELECT \n",
    "        COUNT (DISTINCT owner_id) AS pet_owner \n",
    "    FROM \n",
    "        pets_pet\n",
    "    ) AS pets_pet\n",
    ";\n",
    "'''\n",
    ", connection)\n",
    "users_added_pets_perc"
   ]
  },
  {
   "cell_type": "markdown",
   "metadata": {},
   "source": [
    "<a href=\"#Head\"><font size=\"1.5\">BACK TO CONTENTS</font></a><a name=\"1.4\"></a><br/>\n",
    "\n",
    "### 1.4. Of those users, how many pets have they added on average? The answer is 1.496."
   ]
  },
  {
   "cell_type": "code",
   "execution_count": 8,
   "metadata": {},
   "outputs": [
    {
     "data": {
      "text/html": [
       "<div>\n",
       "<style scoped>\n",
       "    .dataframe tbody tr th:only-of-type {\n",
       "        vertical-align: middle;\n",
       "    }\n",
       "\n",
       "    .dataframe tbody tr th {\n",
       "        vertical-align: top;\n",
       "    }\n",
       "\n",
       "    .dataframe thead th {\n",
       "        text-align: right;\n",
       "    }\n",
       "</style>\n",
       "<table border=\"1\" class=\"dataframe\">\n",
       "  <thead>\n",
       "    <tr style=\"text-align: right;\">\n",
       "      <th></th>\n",
       "      <th>pets_per_user_avg</th>\n",
       "    </tr>\n",
       "  </thead>\n",
       "  <tbody>\n",
       "    <tr>\n",
       "      <th>0</th>\n",
       "      <td>1.496</td>\n",
       "    </tr>\n",
       "  </tbody>\n",
       "</table>\n",
       "</div>"
      ],
      "text/plain": [
       "  pets_per_user_avg\n",
       "0             1.496"
      ]
     },
     "execution_count": 8,
     "metadata": {},
     "output_type": "execute_result"
    }
   ],
   "source": [
    "pets_per_user_avg = pd.read_sql_query(\n",
    "'''\n",
    "SELECT\n",
    "    -- COUNT (DISTINCT owner_id) AS all_owners,\n",
    "    -- COUNT (DISTINCT id) AS all_pets,\n",
    "    printf (\"%.3f\", COUNT (DISTINCT id) / CAST (COUNT (DISTINCT owner_id) as real) ) AS pets_per_user_avg\n",
    "FROM\n",
    "    pets_pet;\n",
    "'''\n",
    ", connection)\n",
    "pets_per_user_avg"
   ]
  },
  {
   "cell_type": "markdown",
   "metadata": {},
   "source": [
    "<a href=\"#Head\"><font size=\"1.5\">BACK TO CONTENTS</font></a><a name=\"1.5\"></a><br/>\n",
    "\n",
    "### 1.5. What percentage of pets play well with cats? The answer is 24.78%."
   ]
  },
  {
   "cell_type": "code",
   "execution_count": 9,
   "metadata": {},
   "outputs": [
    {
     "data": {
      "text/html": [
       "<div>\n",
       "<style scoped>\n",
       "    .dataframe tbody tr th:only-of-type {\n",
       "        vertical-align: middle;\n",
       "    }\n",
       "\n",
       "    .dataframe tbody tr th {\n",
       "        vertical-align: top;\n",
       "    }\n",
       "\n",
       "    .dataframe thead th {\n",
       "        text-align: right;\n",
       "    }\n",
       "</style>\n",
       "<table border=\"1\" class=\"dataframe\">\n",
       "  <thead>\n",
       "    <tr style=\"text-align: right;\">\n",
       "      <th></th>\n",
       "      <th>perc_of_well_with_cats</th>\n",
       "    </tr>\n",
       "  </thead>\n",
       "  <tbody>\n",
       "    <tr>\n",
       "      <th>0</th>\n",
       "      <td>24.78</td>\n",
       "    </tr>\n",
       "  </tbody>\n",
       "</table>\n",
       "</div>"
      ],
      "text/plain": [
       "  perc_of_well_with_cats\n",
       "0                  24.78"
      ]
     },
     "execution_count": 9,
     "metadata": {},
     "output_type": "execute_result"
    }
   ],
   "source": [
    "pets_well_w_cats_perc = pd.read_sql_query(\n",
    "'''\n",
    "SELECT\n",
    "    printf (\"%.2f\", AVG (plays_cats) * 100) AS perc_of_well_with_cats\n",
    "FROM\n",
    "    pets_pet;\n",
    "'''\n",
    ", connection)\n",
    "pets_well_w_cats_perc"
   ]
  },
  {
   "cell_type": "markdown",
   "metadata": {},
   "source": [
    "---"
   ]
  },
  {
   "cell_type": "markdown",
   "metadata": {},
   "source": [
    "<a href=\"#Head\"><font size=\"1.5\">BACK TO CONTENTS</font></a><a name=\"2.0\"></a><br/>\n",
    "\n",
    "## II. Conversations and Bookings"
   ]
  },
  {
   "cell_type": "markdown",
   "metadata": {},
   "source": [
    "* Some users can offer pet care services\n",
    "* When an owner needs pet care, they can create a conversation with another user that offers the service they are interested in\n",
    "* After exchanging some messages and possibly meeting in person, that conversation hopefully books\n",
    "* In that case, services are paid for and delivered \n",
    "* Occasionally, some conversations that have booked may be cancelled\n",
    "* Lastly, for un-cancelled bookings, both owners and sitters have the option of leaving a review\n",
    "* In the following questions, we explore these concepts"
   ]
  },
  {
   "cell_type": "markdown",
   "metadata": {},
   "source": [
    "<a href=\"#Head\"><font size=\"1.5\">BACK TO CONTENTS</font></a><a name=\"2.1\"></a><br/>\n",
    "\n",
    "### 2.1. What are the possible services and what is the average price per unit for each service type?"
   ]
  },
  {
   "cell_type": "code",
   "execution_count": 10,
   "metadata": {},
   "outputs": [
    {
     "data": {
      "text/html": [
       "<div>\n",
       "<style scoped>\n",
       "    .dataframe tbody tr th:only-of-type {\n",
       "        vertical-align: middle;\n",
       "    }\n",
       "\n",
       "    .dataframe tbody tr th {\n",
       "        vertical-align: top;\n",
       "    }\n",
       "\n",
       "    .dataframe thead th {\n",
       "        text-align: right;\n",
       "    }\n",
       "</style>\n",
       "<table border=\"1\" class=\"dataframe\">\n",
       "  <thead>\n",
       "    <tr style=\"text-align: right;\">\n",
       "      <th></th>\n",
       "      <th>list_of_services</th>\n",
       "      <th>avg_price</th>\n",
       "    </tr>\n",
       "  </thead>\n",
       "  <tbody>\n",
       "    <tr>\n",
       "      <th>0</th>\n",
       "      <td>boarding</td>\n",
       "      <td>34.51</td>\n",
       "    </tr>\n",
       "    <tr>\n",
       "      <th>1</th>\n",
       "      <td>day-care</td>\n",
       "      <td>27.01</td>\n",
       "    </tr>\n",
       "    <tr>\n",
       "      <th>2</th>\n",
       "      <td>dog-walking</td>\n",
       "      <td>21.98</td>\n",
       "    </tr>\n",
       "  </tbody>\n",
       "</table>\n",
       "</div>"
      ],
      "text/plain": [
       "  list_of_services avg_price\n",
       "0         boarding     34.51\n",
       "1         day-care     27.01\n",
       "2      dog-walking     21.98"
      ]
     },
     "execution_count": 10,
     "metadata": {},
     "output_type": "execute_result"
    }
   ],
   "source": [
    "avg_price_per_service = pd.read_sql_query(\n",
    "'''\n",
    "SELECT\n",
    "    service_type AS list_of_services,\n",
    "    printf (\"%.2f\", AVG (price) ) AS avg_price\n",
    "FROM\n",
    "    services_service\n",
    "GROUP BY\n",
    "    service_type;\n",
    "'''\n",
    ", connection)\n",
    "avg_price_per_service"
   ]
  },
  {
   "cell_type": "code",
   "execution_count": 11,
   "metadata": {},
   "outputs": [],
   "source": [
    "avg_price_per_service['avg_price'] = avg_price_per_service['avg_price'].astype('float')"
   ]
  },
  {
   "cell_type": "code",
   "execution_count": 12,
   "metadata": {},
   "outputs": [
    {
     "data": {
      "image/png": "[encoded data removed]",
      "text/plain": [
       "<Figure size 432x288 with 1 Axes>"
      ]
     },
     "metadata": {
      "needs_background": "light"
     },
     "output_type": "display_data"
    }
   ],
   "source": [
    "# Bar Chart for Average Price per Unit by Service Type\n",
    "\n",
    "ax = sns.barplot(x='list_of_services', y='avg_price', data=avg_price_per_service, hue='list_of_services')\n",
    "ax.set_title('Average price per unit for each service type', fontsize=20)\n",
    "ax.set_xlabel('Service type', fontsize=16)\n",
    "ax.set_ylabel('Average price per unit, $', fontsize=16)\n",
    "\n",
    "labels=['Boarding','Day-care','Dog-walking']\n",
    "hue, l = ax.get_legend_handles_labels()\n",
    "ax.legend(hue, labels, title='Service Types', loc=4)\n",
    "\n",
    "plt.show()"
   ]
  },
  {
   "cell_type": "markdown",
   "metadata": {},
   "source": [
    "* Average price per service differs from one to another:\n",
    "> * Boarding - the highest price near 34.5 Dollars\n",
    "> * Day-care - second price with 27 Dollars\n",
    "> * Dog-walking - lowest price per service with 22 Dollars"
   ]
  },
  {
   "cell_type": "markdown",
   "metadata": {},
   "source": [
    "<a href=\"#Head\"><font size=\"1.5\">BACK TO CONTENTS</font></a><a name=\"2.2\"></a><br/>\n",
    "\n",
    "### 2.2. \n",
    "### How many requests have there been for each service type and what percentage of those have booked? \n",
    "### The percentage of those that have booked is called booking rate, i.e. what is the booking rate by service?"
   ]
  },
  {
   "cell_type": "code",
   "execution_count": 13,
   "metadata": {},
   "outputs": [
    {
     "data": {
      "text/html": [
       "<div>\n",
       "<style scoped>\n",
       "    .dataframe tbody tr th:only-of-type {\n",
       "        vertical-align: middle;\n",
       "    }\n",
       "\n",
       "    .dataframe tbody tr th {\n",
       "        vertical-align: top;\n",
       "    }\n",
       "\n",
       "    .dataframe thead th {\n",
       "        text-align: right;\n",
       "    }\n",
       "</style>\n",
       "<table border=\"1\" class=\"dataframe\">\n",
       "  <thead>\n",
       "    <tr style=\"text-align: right;\">\n",
       "      <th></th>\n",
       "      <th>list_of_services</th>\n",
       "      <th>requests_number</th>\n",
       "      <th>booked_number</th>\n",
       "      <th>booking_rate</th>\n",
       "    </tr>\n",
       "  </thead>\n",
       "  <tbody>\n",
       "    <tr>\n",
       "      <th>0</th>\n",
       "      <td>boarding</td>\n",
       "      <td>26665</td>\n",
       "      <td>10862</td>\n",
       "      <td>40.74</td>\n",
       "    </tr>\n",
       "    <tr>\n",
       "      <th>1</th>\n",
       "      <td>day-care</td>\n",
       "      <td>26362</td>\n",
       "      <td>9417</td>\n",
       "      <td>35.72</td>\n",
       "    </tr>\n",
       "    <tr>\n",
       "      <th>2</th>\n",
       "      <td>dog-walking</td>\n",
       "      <td>26716</td>\n",
       "      <td>12811</td>\n",
       "      <td>47.95</td>\n",
       "    </tr>\n",
       "  </tbody>\n",
       "</table>\n",
       "</div>"
      ],
      "text/plain": [
       "  list_of_services  requests_number  booked_number booking_rate\n",
       "0         boarding            26665          10862        40.74\n",
       "1         day-care            26362           9417        35.72\n",
       "2      dog-walking            26716          12811        47.95"
      ]
     },
     "execution_count": 13,
     "metadata": {},
     "output_type": "execute_result"
    }
   ],
   "source": [
    "request_per_service_type = pd.read_sql_query(\n",
    "'''\n",
    "SELECT\n",
    "    services_service.service_type AS list_of_services,\n",
    "    COUNT (conversations_conversation.id) AS requests_number,\n",
    "    COUNT (conversations_conversation.booked_at) AS booked_number,\n",
    "    printf (\"%.2f\", \n",
    "        COUNT (conversations_conversation.booked_at) *100 / \n",
    "            CAST (COUNT (conversations_conversation.id) as real) ) AS booking_rate\n",
    "FROM\n",
    "    conversations_conversation\n",
    "LEFT JOIN services_service ON services_service.id = conversations_conversation.service_id\n",
    "GROUP BY\n",
    "    services_service.service_type;\n",
    "'''\n",
    ", connection)\n",
    "request_per_service_type"
   ]
  },
  {
   "cell_type": "code",
   "execution_count": 14,
   "metadata": {},
   "outputs": [],
   "source": [
    "request_per_service_type['booking_rate'] = request_per_service_type['booking_rate'].astype('float')"
   ]
  },
  {
   "cell_type": "code",
   "execution_count": 15,
   "metadata": {},
   "outputs": [
    {
     "data": {
      "image/png": "[encoded data removed]",
      "text/plain": [
       "<Figure size 432x288 with 1 Axes>"
      ]
     },
     "metadata": {
      "needs_background": "light"
     },
     "output_type": "display_data"
    }
   ],
   "source": [
    "# Bar Chart for Booking Rates by Service Type\n",
    "\n",
    "ax = sns.barplot(x='list_of_services', y='booking_rate', data=request_per_service_type, hue='list_of_services')\n",
    "ax.set_title('Booking Rate per Service', fontsize=20)\n",
    "ax.set_xlabel('Service type', fontsize=16)\n",
    "ax.set_ylabel('Booking rate, %', fontsize=16)\n",
    "\n",
    "labels=['Boarding','Day-care','Dog-walking']\n",
    "hue, l = ax.get_legend_handles_labels()\n",
    "ax.legend(hue, labels, title='Service Types', loc=4)\n",
    "\n",
    "plt.show()"
   ]
  },
  {
   "cell_type": "markdown",
   "metadata": {},
   "source": [
    "* Booking rate per service:\n",
    "> * Boarding - 41%\n",
    "> * Day-care - 36%\n",
    "> * Dog-walking - 48%, the highest among all"
   ]
  },
  {
   "cell_type": "markdown",
   "metadata": {},
   "source": [
    "<a href=\"#Head\"><font size=\"1.5\">BACK TO CONTENTS</font></a><a name=\"2.3\"></a><br/>\n",
    "\n",
    "### 2.3. What are the cancellation rates for each service?"
   ]
  },
  {
   "cell_type": "code",
   "execution_count": 16,
   "metadata": {},
   "outputs": [
    {
     "data": {
      "text/html": [
       "<div>\n",
       "<style scoped>\n",
       "    .dataframe tbody tr th:only-of-type {\n",
       "        vertical-align: middle;\n",
       "    }\n",
       "\n",
       "    .dataframe tbody tr th {\n",
       "        vertical-align: top;\n",
       "    }\n",
       "\n",
       "    .dataframe thead th {\n",
       "        text-align: right;\n",
       "    }\n",
       "</style>\n",
       "<table border=\"1\" class=\"dataframe\">\n",
       "  <thead>\n",
       "    <tr style=\"text-align: right;\">\n",
       "      <th></th>\n",
       "      <th>list_of_services</th>\n",
       "      <th>requests_number</th>\n",
       "      <th>booked_number</th>\n",
       "      <th>booking_rate</th>\n",
       "      <th>cancelled_number</th>\n",
       "      <th>cancelled_rate</th>\n",
       "    </tr>\n",
       "  </thead>\n",
       "  <tbody>\n",
       "    <tr>\n",
       "      <th>0</th>\n",
       "      <td>boarding</td>\n",
       "      <td>26665</td>\n",
       "      <td>10862</td>\n",
       "      <td>40.74</td>\n",
       "      <td>1051</td>\n",
       "      <td>9.68</td>\n",
       "    </tr>\n",
       "    <tr>\n",
       "      <th>1</th>\n",
       "      <td>day-care</td>\n",
       "      <td>26362</td>\n",
       "      <td>9417</td>\n",
       "      <td>35.72</td>\n",
       "      <td>919</td>\n",
       "      <td>9.76</td>\n",
       "    </tr>\n",
       "    <tr>\n",
       "      <th>2</th>\n",
       "      <td>dog-walking</td>\n",
       "      <td>26716</td>\n",
       "      <td>12811</td>\n",
       "      <td>47.95</td>\n",
       "      <td>1218</td>\n",
       "      <td>9.51</td>\n",
       "    </tr>\n",
       "  </tbody>\n",
       "</table>\n",
       "</div>"
      ],
      "text/plain": [
       "  list_of_services  requests_number  booked_number booking_rate  cancelled_number cancelled_rate\n",
       "0         boarding            26665          10862        40.74              1051           9.68\n",
       "1         day-care            26362           9417        35.72               919           9.76\n",
       "2      dog-walking            26716          12811        47.95              1218           9.51"
      ]
     },
     "execution_count": 16,
     "metadata": {},
     "output_type": "execute_result"
    }
   ],
   "source": [
    "cancellation_rates_per_service_type = pd.read_sql_query(\n",
    "'''\n",
    "SELECT\n",
    "    services_service.service_type AS list_of_services,\n",
    "    COUNT (conversations_conversation.id) AS requests_number,\n",
    "    COUNT (conversations_conversation.booked_at) AS booked_number,\n",
    "    printf (\"%.2f\", \n",
    "        COUNT (conversations_conversation.booked_at) *100 / \n",
    "            CAST (COUNT (conversations_conversation.id) as real) ) AS booking_rate,\n",
    "    COUNT (conversations_conversation.cancelled_at) AS cancelled_number,\n",
    "    printf (\"%.2f\", \n",
    "        COUNT (conversations_conversation.cancelled_at) *100 / \n",
    "            CAST (COUNT (conversations_conversation.booked_at) as real) ) AS cancelled_rate\n",
    "FROM\n",
    "    conversations_conversation\n",
    "LEFT JOIN services_service ON services_service.id = conversations_conversation.service_id\n",
    "GROUP BY\n",
    "    services_service.service_type;\n",
    "'''\n",
    ", connection)\n",
    "cancellation_rates_per_service_type"
   ]
  },
  {
   "cell_type": "code",
   "execution_count": 17,
   "metadata": {},
   "outputs": [
    {
     "name": "stdout",
     "output_type": "stream",
     "text": [
      "<class 'pandas.core.frame.DataFrame'>\n",
      "RangeIndex: 3 entries, 0 to 2\n",
      "Data columns (total 6 columns):\n",
      " #   Column            Non-Null Count  Dtype \n",
      "---  ------            --------------  ----- \n",
      " 0   list_of_services  3 non-null      object\n",
      " 1   requests_number   3 non-null      int64 \n",
      " 2   booked_number     3 non-null      int64 \n",
      " 3   booking_rate      3 non-null      object\n",
      " 4   cancelled_number  3 non-null      int64 \n",
      " 5   cancelled_rate    3 non-null      object\n",
      "dtypes: int64(3), object(3)\n",
      "memory usage: 272.0+ bytes\n"
     ]
    }
   ],
   "source": [
    "cancellation_rates_per_service_type.info()"
   ]
  },
  {
   "cell_type": "code",
   "execution_count": 18,
   "metadata": {},
   "outputs": [],
   "source": [
    "cancellation_rates_per_service_type['cancelled_rate'] = cancellation_rates_per_service_type['cancelled_rate'].astype('float')"
   ]
  },
  {
   "cell_type": "code",
   "execution_count": 19,
   "metadata": {},
   "outputs": [
    {
     "data": {
      "image/png": "[encoded data removed]",
      "text/plain": [
       "<Figure size 432x288 with 1 Axes>"
      ]
     },
     "metadata": {
      "needs_background": "light"
     },
     "output_type": "display_data"
    }
   ],
   "source": [
    "# Bar Chart for Cancellation Rates by Service Type\n",
    "\n",
    "ax = sns.barplot(x='list_of_services', y='cancelled_rate', data=cancellation_rates_per_service_type, hue='list_of_services')\n",
    "ax.set_title('Cancellation Rates for each Service', fontsize=20)\n",
    "ax.set_xlabel('Service type', fontsize=16)\n",
    "ax.set_ylabel('Cancellation rate, %', fontsize=16)\n",
    "\n",
    "labels=['Boarding','Day-care','Dog-walking']\n",
    "hue, l = ax.get_legend_handles_labels()\n",
    "ax.legend(hue, labels, title='Service Types', loc=4)\n",
    "\n",
    "plt.show()"
   ]
  },
  {
   "cell_type": "markdown",
   "metadata": {},
   "source": [
    "* Cancellation rates by service:\n",
    "> * Boarding - 9.7%\n",
    "> * Day-care - 9.8%\n",
    "> * Dog-walking - 9.5% - the lowest cancellation rate among all"
   ]
  },
  {
   "cell_type": "markdown",
   "metadata": {},
   "source": [
    "<a href=\"#Head\"><font size=\"1.5\">BACK TO CONTENTS</font></a><a name=\"2.4\"></a><br/>\n",
    "\n",
    "### 2.4. \n",
    "### For un-cancelled bookings, is the owner or provider more likely to leave a review and which tends to leave better reviews? \n",
    "### How would you narrate this finding to a business partner? \n",
    "### Feel free to use whatever “proof” you need to share these findings (visualizations, graphs, talking points, etc.)."
   ]
  },
  {
   "cell_type": "code",
   "execution_count": 20,
   "metadata": {},
   "outputs": [
    {
     "data": {
      "text/html": [
       "<div>\n",
       "<style scoped>\n",
       "    .dataframe tbody tr th:only-of-type {\n",
       "        vertical-align: middle;\n",
       "    }\n",
       "\n",
       "    .dataframe tbody tr th {\n",
       "        vertical-align: top;\n",
       "    }\n",
       "\n",
       "    .dataframe thead th {\n",
       "        text-align: right;\n",
       "    }\n",
       "</style>\n",
       "<table border=\"1\" class=\"dataframe\">\n",
       "  <thead>\n",
       "    <tr style=\"text-align: right;\">\n",
       "      <th></th>\n",
       "      <th>stars</th>\n",
       "      <th>requester_review_number</th>\n",
       "      <th>requester_review_share</th>\n",
       "      <th>provider_review_number</th>\n",
       "      <th>provider_review_share</th>\n",
       "      <th>requester_review_perc</th>\n",
       "      <th>provider_review_perc</th>\n",
       "    </tr>\n",
       "  </thead>\n",
       "  <tbody>\n",
       "    <tr>\n",
       "      <th>0</th>\n",
       "      <td>1</td>\n",
       "      <td>1368</td>\n",
       "      <td>6.08</td>\n",
       "      <td>683</td>\n",
       "      <td>11.30</td>\n",
       "      <td>66.70</td>\n",
       "      <td>33.30</td>\n",
       "    </tr>\n",
       "    <tr>\n",
       "      <th>1</th>\n",
       "      <td>2</td>\n",
       "      <td>1359</td>\n",
       "      <td>6.04</td>\n",
       "      <td>673</td>\n",
       "      <td>11.14</td>\n",
       "      <td>66.88</td>\n",
       "      <td>33.12</td>\n",
       "    </tr>\n",
       "    <tr>\n",
       "      <th>2</th>\n",
       "      <td>3</td>\n",
       "      <td>1246</td>\n",
       "      <td>5.54</td>\n",
       "      <td>651</td>\n",
       "      <td>10.77</td>\n",
       "      <td>65.68</td>\n",
       "      <td>34.32</td>\n",
       "    </tr>\n",
       "    <tr>\n",
       "      <th>3</th>\n",
       "      <td>4</td>\n",
       "      <td>1324</td>\n",
       "      <td>5.89</td>\n",
       "      <td>680</td>\n",
       "      <td>11.25</td>\n",
       "      <td>66.07</td>\n",
       "      <td>33.93</td>\n",
       "    </tr>\n",
       "    <tr>\n",
       "      <th>4</th>\n",
       "      <td>5</td>\n",
       "      <td>17196</td>\n",
       "      <td>76.45</td>\n",
       "      <td>3356</td>\n",
       "      <td>55.54</td>\n",
       "      <td>83.67</td>\n",
       "      <td>16.33</td>\n",
       "    </tr>\n",
       "  </tbody>\n",
       "</table>\n",
       "</div>"
      ],
      "text/plain": [
       "   stars  requester_review_number requester_review_share  provider_review_number provider_review_share  \\\n",
       "0      1                     1368                   6.08                     683                 11.30   \n",
       "1      2                     1359                   6.04                     673                 11.14   \n",
       "2      3                     1246                   5.54                     651                 10.77   \n",
       "3      4                     1324                   5.89                     680                 11.25   \n",
       "4      5                    17196                  76.45                    3356                 55.54   \n",
       "\n",
       "  requester_review_perc provider_review_perc  \n",
       "0                 66.70                33.30  \n",
       "1                 66.88                33.12  \n",
       "2                 65.68                34.32  \n",
       "3                 66.07                33.93  \n",
       "4                 83.67                16.33  "
      ]
     },
     "execution_count": 20,
     "metadata": {},
     "output_type": "execute_result"
    }
   ],
   "source": [
    "reviews_study = pd.read_sql_query(\n",
    "'''\n",
    "SELECT\n",
    "    --conversations_conversation.id,\n",
    "    --conversations_conversation.cancelled_at,\n",
    "    conversations_review.stars,\n",
    "    --conversations_review.reviewer_id,\n",
    "    --conversations_conversation.requester_id,\n",
    "    --services_service.provider_id,\n",
    "    SUM (CASE WHEN reviewer_id == requester_id THEN 1 ELSE 0 END) AS requester_review_number,\n",
    "    printf (\"%.2f\", \n",
    "        SUM (CASE WHEN reviewer_id == requester_id THEN 1 ELSE 0 END) *100 / 22493.00) AS requester_review_share, \n",
    "        --need to find automation to sum column after GROUP BY--\n",
    "    SUM (CASE WHEN reviewer_id == provider_id THEN 1 ELSE 0 END) AS provider_review_number,\n",
    "    printf (\"%.2f\", \n",
    "        SUM (CASE WHEN reviewer_id == provider_id THEN 1 ELSE 0 END) *100 / 6043.00) AS provider_review_share,    \n",
    "    printf (\"%.2f\", \n",
    "        AVG (CASE WHEN reviewer_id == requester_id THEN 1 ELSE 0 END) *100) AS requester_review_perc,\n",
    "    printf (\"%.2f\", \n",
    "        AVG (CASE WHEN reviewer_id == provider_id THEN 1 ELSE 0 END) *100) AS provider_review_perc\n",
    "FROM\n",
    "    conversations_conversation\n",
    "LEFT JOIN conversations_review ON conversations_review.conversation_id = conversations_conversation.id\n",
    "LEFT JOIN services_service ON services_service.id = conversations_conversation.service_id\n",
    "WHERE\n",
    "    conversations_review.stars IS NOT NULL\n",
    "GROUP BY\n",
    "    stars;\n",
    "'''\n",
    ", connection)\n",
    "reviews_study"
   ]
  },
  {
   "cell_type": "code",
   "execution_count": 21,
   "metadata": {},
   "outputs": [
    {
     "data": {
      "image/png": "[encoded data removed]",
      "text/plain": [
       "<Figure size 1008x432 with 2 Axes>"
      ]
     },
     "metadata": {},
     "output_type": "display_data"
    }
   ],
   "source": [
    "# Pie Charts for Review Share by Rating Star\n",
    "\n",
    "#labels = reviews_study['stars']\n",
    "labels = '1 Star', '2 Stars', '3 Stars', '4 Stars', '5 Stars'\n",
    "sizes1 = reviews_study['requester_review_number']\n",
    "sizes2 = reviews_study['provider_review_number']\n",
    "\n",
    "fig, (ax1, ax2) = plt.subplots(1, 2, figsize=(14,6))\n",
    "\n",
    "ax1.pie(sizes1, labels=labels, autopct='%1.1f%%', startangle=90, pctdistance=0.7, labeldistance=1.1)\n",
    "ax1.set(title='Given by Owners')\n",
    "\n",
    "ax2.pie(sizes2, labels=labels, autopct='%1.1f%%', startangle=90, pctdistance=0.7, labeldistance=1.1)\n",
    "ax2.set(title='Given by Service Providers')\n",
    "\n",
    "fig.suptitle('Share in Reviews for each rating', fontsize=20)\n",
    "\n",
    "plt.show()"
   ]
  },
  {
   "cell_type": "markdown",
   "metadata": {},
   "source": [
    "#### Comment:\n",
    "\n",
    "* Reviews:\n",
    "> * number of reviews: requesters (owners) give 5 times more reviews than providers\n",
    "> * owners tend to give more 5-star reviews from total number (76%), providers give reviews to other stars twice more than requestors: ~11% vs. ~6%\n",
    "> * totally owners’ shares by each star are at least two times higher than providers\n",
    "* Average price per service differs from one to another:\n",
    "> * Boarding - the highest price near 34.5 Dollars\n",
    "> * Day-care - second price with 27 Dollars\n",
    "> * Dog-walking - lowest price per service with 22 Dollars\n",
    "* Booking rate per service:\n",
    "> * Boarding - 41%\n",
    "> * Day-care - 36%\n",
    "> * Dog-walking - 48%, the highest among all\n",
    "* Cancellation rates by service:\n",
    "> * Boarding - 9.7%\n",
    "> * Day-care - 9.8%\n",
    "> * Dog-walking - 9.5% - the lowest cancellation rate among all"
   ]
  },
  {
   "cell_type": "markdown",
   "metadata": {},
   "source": [
    "---"
   ]
  },
  {
   "cell_type": "markdown",
   "metadata": {},
   "source": [
    "<a href=\"#Head\"><font size=\"1.5\">BACK TO CONTENTS</font></a><a name=\"3.0\"></a><br/>\n",
    "\n",
    "## III. Recent Daily Booking Rate"
   ]
  },
  {
   "attachments": {
    "image.png": {
     "image/png": "[encoded data removed]"
    }
   },
   "cell_type": "markdown",
   "metadata": {},
   "source": [
    "* The snapshot of this database was taken on 2017-07-11 at midnight and only contains data reflecting events prior to that date\n",
    "* A junior analyst is investigating daily booking rate during the days prior to the snapshot and is concerned about an apparent downward trend\n",
    "* You are tasked with helping them out. This is the chart they produced:\n",
    "![image.png](attachment:image.png)"
   ]
  },
  {
   "cell_type": "markdown",
   "metadata": {},
   "source": [
    "<a href=\"#Head\"><font size=\"1.5\">BACK TO CONTENTS</font></a><a name=\"3.1\"></a><br/>\n",
    "\n",
    "### 3.1. First, let us reproduce their results. \n",
    "* 1)\tWhat is the daily booking rate (defined in Question II.2) for each of the 90 days prior to the snapshot? \n",
    "* 2)\tDo you also find a downward trend?"
   ]
  },
  {
   "cell_type": "code",
   "execution_count": 22,
   "metadata": {},
   "outputs": [
    {
     "data": {
      "text/html": [
       "<div>\n",
       "<style scoped>\n",
       "    .dataframe tbody tr th:only-of-type {\n",
       "        vertical-align: middle;\n",
       "    }\n",
       "\n",
       "    .dataframe tbody tr th {\n",
       "        vertical-align: top;\n",
       "    }\n",
       "\n",
       "    .dataframe thead th {\n",
       "        text-align: right;\n",
       "    }\n",
       "</style>\n",
       "<table border=\"1\" class=\"dataframe\">\n",
       "  <thead>\n",
       "    <tr style=\"text-align: right;\">\n",
       "      <th></th>\n",
       "      <th>date</th>\n",
       "      <th>requests_number</th>\n",
       "      <th>bookings_number</th>\n",
       "      <th>booking_rate</th>\n",
       "    </tr>\n",
       "  </thead>\n",
       "  <tbody>\n",
       "    <tr>\n",
       "      <th>0</th>\n",
       "      <td>2017-04-12</td>\n",
       "      <td>213</td>\n",
       "      <td>108</td>\n",
       "      <td>50.70</td>\n",
       "    </tr>\n",
       "    <tr>\n",
       "      <th>1</th>\n",
       "      <td>2017-04-13</td>\n",
       "      <td>226</td>\n",
       "      <td>103</td>\n",
       "      <td>45.58</td>\n",
       "    </tr>\n",
       "    <tr>\n",
       "      <th>2</th>\n",
       "      <td>2017-04-14</td>\n",
       "      <td>213</td>\n",
       "      <td>93</td>\n",
       "      <td>43.66</td>\n",
       "    </tr>\n",
       "    <tr>\n",
       "      <th>3</th>\n",
       "      <td>2017-04-15</td>\n",
       "      <td>213</td>\n",
       "      <td>87</td>\n",
       "      <td>40.85</td>\n",
       "    </tr>\n",
       "    <tr>\n",
       "      <th>4</th>\n",
       "      <td>2017-04-16</td>\n",
       "      <td>206</td>\n",
       "      <td>94</td>\n",
       "      <td>45.63</td>\n",
       "    </tr>\n",
       "  </tbody>\n",
       "</table>\n",
       "</div>"
      ],
      "text/plain": [
       "         date  requests_number  bookings_number booking_rate\n",
       "0  2017-04-12              213              108        50.70\n",
       "1  2017-04-13              226              103        45.58\n",
       "2  2017-04-14              213               93        43.66\n",
       "3  2017-04-15              213               87        40.85\n",
       "4  2017-04-16              206               94        45.63"
      ]
     },
     "execution_count": 22,
     "metadata": {},
     "output_type": "execute_result"
    }
   ],
   "source": [
    "booking_rate_90days = pd.read_sql_query(\n",
    "'''\n",
    "SELECT\n",
    "    date(conversations_conversation.added) AS date,\n",
    "    COUNT (date(conversations_conversation.added)) AS requests_number,\n",
    "    COUNT (date(conversations_conversation.booked_at)) AS bookings_number,\n",
    "    printf (\"%.2f\", \n",
    "        COUNT (date(conversations_conversation.booked_at)) *100 / \n",
    "            CAST (COUNT (date(conversations_conversation.added)) as real) ) AS booking_rate\n",
    "FROM\n",
    "    conversations_conversation\n",
    "WHERE\n",
    "    date(conversations_conversation.added) BETWEEN '2017-04-12' AND '2017-07-10'\n",
    "GROUP BY\n",
    "    date\n",
    "ORDER BY\n",
    "    date\n",
    ";\n",
    "'''\n",
    ", connection)\n",
    "booking_rate_90days.head()"
   ]
  },
  {
   "cell_type": "code",
   "execution_count": 23,
   "metadata": {},
   "outputs": [
    {
     "data": {
      "text/html": [
       "<div>\n",
       "<style scoped>\n",
       "    .dataframe tbody tr th:only-of-type {\n",
       "        vertical-align: middle;\n",
       "    }\n",
       "\n",
       "    .dataframe tbody tr th {\n",
       "        vertical-align: top;\n",
       "    }\n",
       "\n",
       "    .dataframe thead th {\n",
       "        text-align: right;\n",
       "    }\n",
       "</style>\n",
       "<table border=\"1\" class=\"dataframe\">\n",
       "  <thead>\n",
       "    <tr style=\"text-align: right;\">\n",
       "      <th></th>\n",
       "      <th>date</th>\n",
       "      <th>requests_number</th>\n",
       "      <th>bookings_number</th>\n",
       "      <th>booking_rate</th>\n",
       "    </tr>\n",
       "  </thead>\n",
       "  <tbody>\n",
       "    <tr>\n",
       "      <th>85</th>\n",
       "      <td>2017-07-06</td>\n",
       "      <td>269</td>\n",
       "      <td>111</td>\n",
       "      <td>41.26</td>\n",
       "    </tr>\n",
       "    <tr>\n",
       "      <th>86</th>\n",
       "      <td>2017-07-07</td>\n",
       "      <td>278</td>\n",
       "      <td>91</td>\n",
       "      <td>32.73</td>\n",
       "    </tr>\n",
       "    <tr>\n",
       "      <th>87</th>\n",
       "      <td>2017-07-08</td>\n",
       "      <td>274</td>\n",
       "      <td>66</td>\n",
       "      <td>24.09</td>\n",
       "    </tr>\n",
       "    <tr>\n",
       "      <th>88</th>\n",
       "      <td>2017-07-09</td>\n",
       "      <td>320</td>\n",
       "      <td>70</td>\n",
       "      <td>21.88</td>\n",
       "    </tr>\n",
       "    <tr>\n",
       "      <th>89</th>\n",
       "      <td>2017-07-10</td>\n",
       "      <td>290</td>\n",
       "      <td>18</td>\n",
       "      <td>6.21</td>\n",
       "    </tr>\n",
       "  </tbody>\n",
       "</table>\n",
       "</div>"
      ],
      "text/plain": [
       "          date  requests_number  bookings_number booking_rate\n",
       "85  2017-07-06              269              111        41.26\n",
       "86  2017-07-07              278               91        32.73\n",
       "87  2017-07-08              274               66        24.09\n",
       "88  2017-07-09              320               70        21.88\n",
       "89  2017-07-10              290               18         6.21"
      ]
     },
     "execution_count": 23,
     "metadata": {},
     "output_type": "execute_result"
    }
   ],
   "source": [
    "booking_rate_90days.tail()"
   ]
  },
  {
   "cell_type": "code",
   "execution_count": 24,
   "metadata": {},
   "outputs": [],
   "source": [
    "booking_rate_90days['booking_rate'] = booking_rate_90days['booking_rate'].astype('float')\n",
    "booking_rate_90days['year_month'] = pd.to_datetime(booking_rate_90days['date'], format='%Y-%m')"
   ]
  },
  {
   "cell_type": "code",
   "execution_count": 25,
   "metadata": {},
   "outputs": [
    {
     "name": "stdout",
     "output_type": "stream",
     "text": [
      "2017-04-12 00:00:00\n",
      "2017-07-10 00:00:00\n"
     ]
    }
   ],
   "source": [
    "print(booking_rate_90days['year_month'].min())\n",
    "print(booking_rate_90days['year_month'].max())"
   ]
  },
  {
   "cell_type": "code",
   "execution_count": 26,
   "metadata": {},
   "outputs": [
    {
     "data": {
      "image/png": "[encoded data removed]",
      "text/plain": [
       "<Figure size 1008x288 with 1 Axes>"
      ]
     },
     "metadata": {
      "needs_background": "light"
     },
     "output_type": "display_data"
    }
   ],
   "source": [
    "# Line Chart for Booking Rate per given Period: 2017-04-12, 2017-07-10\n",
    "\n",
    "plt.figure(figsize=(14,4))\n",
    "sns.set(style=\"darkgrid\")\n",
    "\n",
    "ax = sns.lineplot(x='year_month', y='booking_rate', data=booking_rate_90days, linewidth=4)\n",
    "\n",
    "ax.set_title('Booking Rate at Period, Apr12-Jul10', fontsize=20)\n",
    "ax.set_xlabel('Date', fontsize=16)\n",
    "ax.set_ylabel('Booking Rate, %', fontsize=16)\n",
    "\n",
    "months = mdates.MonthLocator()\n",
    "years = mdates.YearLocator()\n",
    "years_monthsFmt = mdates.DateFormatter('%Y-%m')\n",
    "\n",
    "#ax.xaxis.set_major_locator(months)\n",
    "#ax.xaxis.set_minor_locator(months)\n",
    "ax.xaxis.set_major_formatter(years_monthsFmt)\n",
    "\n",
    "plt.show()"
   ]
  },
  {
   "cell_type": "markdown",
   "metadata": {},
   "source": [
    "> * We have reproduced the results of initial query and we observe a downward trend in Jul 08-10, 2017"
   ]
  },
  {
   "cell_type": "markdown",
   "metadata": {},
   "source": [
    "<a href=\"#Head\"><font size=\"1.5\">BACK TO CONTENTS</font></a><a name=\"3.2\"></a><br/>\n",
    "\n",
    "### 3.2. \n",
    "### Can you narrate a reason why this trend exists? \n",
    "### Is there a reason to be concerned?"
   ]
  },
  {
   "cell_type": "code",
   "execution_count": 27,
   "metadata": {},
   "outputs": [
    {
     "data": {
      "text/html": [
       "<div>\n",
       "<style scoped>\n",
       "    .dataframe tbody tr th:only-of-type {\n",
       "        vertical-align: middle;\n",
       "    }\n",
       "\n",
       "    .dataframe tbody tr th {\n",
       "        vertical-align: top;\n",
       "    }\n",
       "\n",
       "    .dataframe thead th {\n",
       "        text-align: right;\n",
       "    }\n",
       "</style>\n",
       "<table border=\"1\" class=\"dataframe\">\n",
       "  <thead>\n",
       "    <tr style=\"text-align: right;\">\n",
       "      <th></th>\n",
       "      <th>id</th>\n",
       "      <th>start_date</th>\n",
       "      <th>end_date</th>\n",
       "      <th>units</th>\n",
       "      <th>added</th>\n",
       "      <th>booking_total</th>\n",
       "      <th>cancellation_fault</th>\n",
       "      <th>requester_id</th>\n",
       "      <th>service_id</th>\n",
       "      <th>booked_at</th>\n",
       "      <th>cancelled_at</th>\n",
       "    </tr>\n",
       "  </thead>\n",
       "  <tbody>\n",
       "    <tr>\n",
       "      <th>0</th>\n",
       "      <td>208503</td>\n",
       "      <td>2017-07-20</td>\n",
       "      <td>2017-07-23</td>\n",
       "      <td>3</td>\n",
       "      <td>2017-07-10 12:30:09.961107</td>\n",
       "      <td>69</td>\n",
       "      <td>None</td>\n",
       "      <td>64149</td>\n",
       "      <td>94055</td>\n",
       "      <td>2017-07-11 03:08:27.991870</td>\n",
       "      <td>None</td>\n",
       "    </tr>\n",
       "    <tr>\n",
       "      <th>1</th>\n",
       "      <td>209229</td>\n",
       "      <td>2017-07-20</td>\n",
       "      <td>2017-07-22</td>\n",
       "      <td>2</td>\n",
       "      <td>2017-07-10 13:29:06.923471</td>\n",
       "      <td>132</td>\n",
       "      <td>None</td>\n",
       "      <td>63305</td>\n",
       "      <td>85060</td>\n",
       "      <td>2017-07-11 16:46:19.541943</td>\n",
       "      <td>None</td>\n",
       "    </tr>\n",
       "    <tr>\n",
       "      <th>2</th>\n",
       "      <td>218100</td>\n",
       "      <td>2017-07-17</td>\n",
       "      <td>2017-07-23</td>\n",
       "      <td>6</td>\n",
       "      <td>2017-07-10 09:42:24.175297</td>\n",
       "      <td>96</td>\n",
       "      <td>None</td>\n",
       "      <td>57293</td>\n",
       "      <td>80112</td>\n",
       "      <td>2017-07-11 16:26:11.679306</td>\n",
       "      <td>None</td>\n",
       "    </tr>\n",
       "    <tr>\n",
       "      <th>3</th>\n",
       "      <td>219743</td>\n",
       "      <td>2017-07-21</td>\n",
       "      <td>2017-07-26</td>\n",
       "      <td>5</td>\n",
       "      <td>2017-07-10 17:19:45.975326</td>\n",
       "      <td>190</td>\n",
       "      <td>None</td>\n",
       "      <td>56247</td>\n",
       "      <td>77245</td>\n",
       "      <td>2017-07-11 13:00:18.732453</td>\n",
       "      <td>None</td>\n",
       "    </tr>\n",
       "    <tr>\n",
       "      <th>4</th>\n",
       "      <td>220160</td>\n",
       "      <td>2017-07-18</td>\n",
       "      <td>2017-07-24</td>\n",
       "      <td>6</td>\n",
       "      <td>2017-07-10 14:16:30.102356</td>\n",
       "      <td>168</td>\n",
       "      <td>None</td>\n",
       "      <td>56000</td>\n",
       "      <td>96991</td>\n",
       "      <td>2017-07-11 11:24:16.313224</td>\n",
       "      <td>None</td>\n",
       "    </tr>\n",
       "  </tbody>\n",
       "</table>\n",
       "</div>"
      ],
      "text/plain": [
       "       id  start_date    end_date  units                       added  booking_total cancellation_fault  \\\n",
       "0  208503  2017-07-20  2017-07-23      3  2017-07-10 12:30:09.961107             69               None   \n",
       "1  209229  2017-07-20  2017-07-22      2  2017-07-10 13:29:06.923471            132               None   \n",
       "2  218100  2017-07-17  2017-07-23      6  2017-07-10 09:42:24.175297             96               None   \n",
       "3  219743  2017-07-21  2017-07-26      5  2017-07-10 17:19:45.975326            190               None   \n",
       "4  220160  2017-07-18  2017-07-24      6  2017-07-10 14:16:30.102356            168               None   \n",
       "\n",
       "   requester_id  service_id                   booked_at cancelled_at  \n",
       "0         64149       94055  2017-07-11 03:08:27.991870         None  \n",
       "1         63305       85060  2017-07-11 16:46:19.541943         None  \n",
       "2         57293       80112  2017-07-11 16:26:11.679306         None  \n",
       "3         56247       77245  2017-07-11 13:00:18.732453         None  \n",
       "4         56000       96991  2017-07-11 11:24:16.313224         None  "
      ]
     },
     "execution_count": 27,
     "metadata": {},
     "output_type": "execute_result"
    }
   ],
   "source": [
    "booking_rate_downward_check = pd.read_sql_query(\n",
    "'''\n",
    "SELECT \n",
    "    *\n",
    "FROM\n",
    "    conversations_conversation\n",
    "WHERE\n",
    "    date(conversations_conversation.added) BETWEEN '2017-07-10' AND '2017-07-10' AND\n",
    "    date(conversations_conversation.booked_at) IS NOT NULL\n",
    ";\n",
    "'''\n",
    ", connection)\n",
    "booking_rate_downward_check.head()"
   ]
  },
  {
   "cell_type": "markdown",
   "metadata": {},
   "source": [
    "#### Comment:\n",
    "\n",
    "> * As soon as we have the snapshot of the database which was taken on 2017-07-11 at midnight and only contains data reflecting events prior to that date, there is no data with conversations happened later than this cut and not all of the bookings were uploaded\n",
    "> * There no reason to be concerned about it, data will be uploaded later with next update\n",
    "> * It would be correct to analyse the period using sorting on the columns \"end_date\" or \"start_date\" of the period of services provided to be sure requestor has already received or would receive a service "
   ]
  },
  {
   "cell_type": "markdown",
   "metadata": {},
   "source": [
    "---"
   ]
  },
  {
   "cell_type": "markdown",
   "metadata": {},
   "source": [
    "<a href=\"#Head\"><font size=\"1.5\">BACK TO CONTENTS</font></a><a name=\"4.0\"></a><br/>\n",
    "\n",
    "## IV. Analyzing Take Rate"
   ]
  },
  {
   "cell_type": "markdown",
   "metadata": {},
   "source": [
    "* In order to do the next exercise, you will need to understand the fee structure for this company\n",
    "* Each user has a fee associated with their account (recorded on people_person)\n",
    "* If that user books as an owner, the company charges an owner fee (in addition to the booking total) that is a percentage of the booking total (to a maximum of 50 Dollars) \n",
    "* Also, each service has a fee amount (recorded on services_service)"
   ]
  },
  {
   "cell_type": "markdown",
   "metadata": {},
   "source": [
    "* Before a provider receives their payment, the company takes a percentage of the booking total as dictated by that fee\n",
    "* As an example, suppose an owner has a fee amount of 5% and books with a service that has a fee amount of 15% \n",
    "* If the booking was for 100 Dollars, then the owner would get charged 105 Dollars (adding the owner’s fee)\n",
    "* The 5 Dollar owner fee would go to the company\n",
    "* An additional 15 Dollars would also go to the company since the service had a 15% fee associated to it\n",
    "* The remaining 85 Dollars would go to the provider"
   ]
  },
  {
   "attachments": {
    "image.png": {
     "image/png": "[encoded data removed]"
    }
   },
   "cell_type": "markdown",
   "metadata": {},
   "source": [
    "* To summarize:\n",
    "![image.png](attachment:image.png)"
   ]
  },
  {
   "cell_type": "markdown",
   "metadata": {},
   "source": [
    "<a href=\"#Head\"><font size=\"1.5\">BACK TO CONTENTS</font></a><a name=\"4.1\"></a><br/>\n",
    "\n",
    "### 4.1. In each month, what were the gross billings and net revenue? \n",
    "* (Note: month is determined by when the request actually booked, i.e. booked_at)"
   ]
  },
  {
   "cell_type": "code",
   "execution_count": 28,
   "metadata": {},
   "outputs": [
    {
     "data": {
      "text/html": [
       "<div>\n",
       "<style scoped>\n",
       "    .dataframe tbody tr th:only-of-type {\n",
       "        vertical-align: middle;\n",
       "    }\n",
       "\n",
       "    .dataframe tbody tr th {\n",
       "        vertical-align: top;\n",
       "    }\n",
       "\n",
       "    .dataframe thead th {\n",
       "        text-align: right;\n",
       "    }\n",
       "</style>\n",
       "<table border=\"1\" class=\"dataframe\">\n",
       "  <thead>\n",
       "    <tr style=\"text-align: right;\">\n",
       "      <th></th>\n",
       "      <th>date</th>\n",
       "      <th>year</th>\n",
       "      <th>month</th>\n",
       "      <th>booking_total</th>\n",
       "      <th>requester_id</th>\n",
       "      <th>service_id</th>\n",
       "      <th>fee_owner_perc</th>\n",
       "      <th>fee_service_perc</th>\n",
       "      <th>gross_billing</th>\n",
       "      <th>owner_fee</th>\n",
       "      <th>service_fee</th>\n",
       "      <th>net_revenue</th>\n",
       "    </tr>\n",
       "  </thead>\n",
       "  <tbody>\n",
       "    <tr>\n",
       "      <th>0</th>\n",
       "      <td>2015-07-20</td>\n",
       "      <td>2015</td>\n",
       "      <td>07</td>\n",
       "      <td>140</td>\n",
       "      <td>47405</td>\n",
       "      <td>77257</td>\n",
       "      <td>0.02</td>\n",
       "      <td>0.15</td>\n",
       "      <td>142.80</td>\n",
       "      <td>2.80</td>\n",
       "      <td>21.00</td>\n",
       "      <td>23.80</td>\n",
       "    </tr>\n",
       "    <tr>\n",
       "      <th>1</th>\n",
       "      <td>2015-07-21</td>\n",
       "      <td>2015</td>\n",
       "      <td>07</td>\n",
       "      <td>46</td>\n",
       "      <td>58799</td>\n",
       "      <td>77267</td>\n",
       "      <td>0.02</td>\n",
       "      <td>0.15</td>\n",
       "      <td>46.92</td>\n",
       "      <td>0.92</td>\n",
       "      <td>6.90</td>\n",
       "      <td>7.82</td>\n",
       "    </tr>\n",
       "    <tr>\n",
       "      <th>2</th>\n",
       "      <td>2015-07-21</td>\n",
       "      <td>2015</td>\n",
       "      <td>07</td>\n",
       "      <td>125</td>\n",
       "      <td>15305</td>\n",
       "      <td>77295</td>\n",
       "      <td>0.02</td>\n",
       "      <td>0.15</td>\n",
       "      <td>127.50</td>\n",
       "      <td>2.50</td>\n",
       "      <td>18.75</td>\n",
       "      <td>21.25</td>\n",
       "    </tr>\n",
       "    <tr>\n",
       "      <th>3</th>\n",
       "      <td>2015-07-29</td>\n",
       "      <td>2015</td>\n",
       "      <td>07</td>\n",
       "      <td>532</td>\n",
       "      <td>17983</td>\n",
       "      <td>77260</td>\n",
       "      <td>0.02</td>\n",
       "      <td>0.15</td>\n",
       "      <td>542.64</td>\n",
       "      <td>10.64</td>\n",
       "      <td>79.80</td>\n",
       "      <td>90.44</td>\n",
       "    </tr>\n",
       "    <tr>\n",
       "      <th>4</th>\n",
       "      <td>2015-07-30</td>\n",
       "      <td>2015</td>\n",
       "      <td>07</td>\n",
       "      <td>192</td>\n",
       "      <td>56718</td>\n",
       "      <td>77168</td>\n",
       "      <td>0.02</td>\n",
       "      <td>0.15</td>\n",
       "      <td>195.84</td>\n",
       "      <td>3.84</td>\n",
       "      <td>28.80</td>\n",
       "      <td>32.64</td>\n",
       "    </tr>\n",
       "    <tr>\n",
       "      <th>...</th>\n",
       "      <td>...</td>\n",
       "      <td>...</td>\n",
       "      <td>...</td>\n",
       "      <td>...</td>\n",
       "      <td>...</td>\n",
       "      <td>...</td>\n",
       "      <td>...</td>\n",
       "      <td>...</td>\n",
       "      <td>...</td>\n",
       "      <td>...</td>\n",
       "      <td>...</td>\n",
       "      <td>...</td>\n",
       "    </tr>\n",
       "    <tr>\n",
       "      <th>29897</th>\n",
       "      <td>2017-07-11</td>\n",
       "      <td>2017</td>\n",
       "      <td>07</td>\n",
       "      <td>360</td>\n",
       "      <td>15793</td>\n",
       "      <td>90245</td>\n",
       "      <td>0.07</td>\n",
       "      <td>0.20</td>\n",
       "      <td>385.20</td>\n",
       "      <td>25.20</td>\n",
       "      <td>72.00</td>\n",
       "      <td>97.20</td>\n",
       "    </tr>\n",
       "    <tr>\n",
       "      <th>29898</th>\n",
       "      <td>2017-07-11</td>\n",
       "      <td>2017</td>\n",
       "      <td>07</td>\n",
       "      <td>540</td>\n",
       "      <td>15109</td>\n",
       "      <td>85984</td>\n",
       "      <td>0.07</td>\n",
       "      <td>0.15</td>\n",
       "      <td>577.80</td>\n",
       "      <td>37.80</td>\n",
       "      <td>81.00</td>\n",
       "      <td>118.80</td>\n",
       "    </tr>\n",
       "    <tr>\n",
       "      <th>29899</th>\n",
       "      <td>2017-07-11</td>\n",
       "      <td>2017</td>\n",
       "      <td>07</td>\n",
       "      <td>156</td>\n",
       "      <td>14980</td>\n",
       "      <td>79842</td>\n",
       "      <td>0.07</td>\n",
       "      <td>0.20</td>\n",
       "      <td>166.92</td>\n",
       "      <td>10.92</td>\n",
       "      <td>31.20</td>\n",
       "      <td>42.12</td>\n",
       "    </tr>\n",
       "    <tr>\n",
       "      <th>29900</th>\n",
       "      <td>2017-07-11</td>\n",
       "      <td>2017</td>\n",
       "      <td>07</td>\n",
       "      <td>468</td>\n",
       "      <td>14658</td>\n",
       "      <td>89830</td>\n",
       "      <td>0.07</td>\n",
       "      <td>0.20</td>\n",
       "      <td>500.76</td>\n",
       "      <td>32.76</td>\n",
       "      <td>93.60</td>\n",
       "      <td>126.36</td>\n",
       "    </tr>\n",
       "    <tr>\n",
       "      <th>29901</th>\n",
       "      <td>2017-07-11</td>\n",
       "      <td>2017</td>\n",
       "      <td>07</td>\n",
       "      <td>261</td>\n",
       "      <td>14546</td>\n",
       "      <td>81842</td>\n",
       "      <td>0.07</td>\n",
       "      <td>0.20</td>\n",
       "      <td>279.27</td>\n",
       "      <td>18.27</td>\n",
       "      <td>52.20</td>\n",
       "      <td>70.47</td>\n",
       "    </tr>\n",
       "  </tbody>\n",
       "</table>\n",
       "<p>29902 rows × 12 columns</p>\n",
       "</div>"
      ],
      "text/plain": [
       "             date  year month  booking_total  requester_id  service_id  fee_owner_perc  fee_service_perc  \\\n",
       "0      2015-07-20  2015    07            140         47405       77257            0.02              0.15   \n",
       "1      2015-07-21  2015    07             46         58799       77267            0.02              0.15   \n",
       "2      2015-07-21  2015    07            125         15305       77295            0.02              0.15   \n",
       "3      2015-07-29  2015    07            532         17983       77260            0.02              0.15   \n",
       "4      2015-07-30  2015    07            192         56718       77168            0.02              0.15   \n",
       "...           ...   ...   ...            ...           ...         ...             ...               ...   \n",
       "29897  2017-07-11  2017    07            360         15793       90245            0.07              0.20   \n",
       "29898  2017-07-11  2017    07            540         15109       85984            0.07              0.15   \n",
       "29899  2017-07-11  2017    07            156         14980       79842            0.07              0.20   \n",
       "29900  2017-07-11  2017    07            468         14658       89830            0.07              0.20   \n",
       "29901  2017-07-11  2017    07            261         14546       81842            0.07              0.20   \n",
       "\n",
       "       gross_billing  owner_fee  service_fee  net_revenue  \n",
       "0             142.80       2.80        21.00        23.80  \n",
       "1              46.92       0.92         6.90         7.82  \n",
       "2             127.50       2.50        18.75        21.25  \n",
       "3             542.64      10.64        79.80        90.44  \n",
       "4             195.84       3.84        28.80        32.64  \n",
       "...              ...        ...          ...          ...  \n",
       "29897         385.20      25.20        72.00        97.20  \n",
       "29898         577.80      37.80        81.00       118.80  \n",
       "29899         166.92      10.92        31.20        42.12  \n",
       "29900         500.76      32.76        93.60       126.36  \n",
       "29901         279.27      18.27        52.20        70.47  \n",
       "\n",
       "[29902 rows x 12 columns]"
      ]
     },
     "execution_count": 28,
     "metadata": {},
     "output_type": "execute_result"
    }
   ],
   "source": [
    "# prepare ground for further calculations (when \"owner_fee\" does not exceed $50)\n",
    "\n",
    "billings_base = pd.read_sql_query(\n",
    "'''\n",
    "SELECT \n",
    "    date(conversations_conversation.booked_at) AS date,\n",
    "    strftime('%Y', conversations_conversation.booked_at) AS year,\n",
    "    strftime('%m', conversations_conversation.booked_at) AS month,\n",
    "    conversations_conversation.booking_total AS booking_total,\n",
    "    conversations_conversation.requester_id AS requester_id,\n",
    "    conversations_conversation.service_id AS service_id,\n",
    "    people_person.fee AS fee_owner_perc,\n",
    "    services_service.fee AS fee_service_perc,\n",
    "    conversations_conversation.booking_total + \n",
    "        (conversations_conversation.booking_total * people_person.fee) AS gross_billing,\n",
    "    CASE\n",
    "        WHEN conversations_conversation.booking_total * people_person.fee > 50 THEN 50\n",
    "        ELSE conversations_conversation.booking_total * people_person.fee END AS owner_fee,\n",
    "    conversations_conversation.booking_total * services_service.fee AS service_fee,\n",
    "    (CASE\n",
    "        WHEN conversations_conversation.booking_total * people_person.fee > 50 THEN 50\n",
    "        ELSE conversations_conversation.booking_total * people_person.fee END) + \n",
    "        (conversations_conversation.booking_total * services_service.fee) AS net_revenue\n",
    "FROM\n",
    "    conversations_conversation\n",
    "LEFT JOIN people_person ON people_person.id = conversations_conversation.requester_id\n",
    "LEFT JOIN services_service ON services_service.id = conversations_conversation.service_id\n",
    "WHERE\n",
    "    conversations_conversation.booked_at IS NOT NULL AND\n",
    "    conversations_conversation.cancelled_at IS NULL\n",
    "ORDER BY\n",
    "    date\n",
    ";\n",
    "'''\n",
    ", connection)\n",
    "billings_base"
   ]
  },
  {
   "cell_type": "code",
   "execution_count": 29,
   "metadata": {},
   "outputs": [],
   "source": [
    "# check the formula for owner_fee + service_fee = net_revenue, where \"owner_fee\" does not exceed $50\n",
    "\n",
    "#billings_base.sort_values(by='owner_fee', ascending=False)"
   ]
  },
  {
   "cell_type": "code",
   "execution_count": 30,
   "metadata": {},
   "outputs": [
    {
     "name": "stdout",
     "output_type": "stream",
     "text": [
      "<class 'pandas.core.frame.DataFrame'>\n",
      "RangeIndex: 29902 entries, 0 to 29901\n",
      "Data columns (total 12 columns):\n",
      " #   Column            Non-Null Count  Dtype  \n",
      "---  ------            --------------  -----  \n",
      " 0   date              29902 non-null  object \n",
      " 1   year              29902 non-null  object \n",
      " 2   month             29902 non-null  object \n",
      " 3   booking_total     29902 non-null  int64  \n",
      " 4   requester_id      29902 non-null  int64  \n",
      " 5   service_id        29902 non-null  int64  \n",
      " 6   fee_owner_perc    29902 non-null  float64\n",
      " 7   fee_service_perc  29902 non-null  float64\n",
      " 8   gross_billing     29902 non-null  float64\n",
      " 9   owner_fee         29902 non-null  float64\n",
      " 10  service_fee       29902 non-null  float64\n",
      " 11  net_revenue       29902 non-null  float64\n",
      "dtypes: float64(6), int64(3), object(3)\n",
      "memory usage: 2.7+ MB\n"
     ]
    }
   ],
   "source": [
    "billings_base.info()"
   ]
  },
  {
   "cell_type": "code",
   "execution_count": 31,
   "metadata": {},
   "outputs": [
    {
     "name": "stdout",
     "output_type": "stream",
     "text": [
      "202623.45\n",
      "41614.55\n"
     ]
    }
   ],
   "source": [
    "# check the sum for random month for double-check\n",
    "\n",
    "gross_billing_check = billings_base.query('year == \"2016\" and month == \"07\"')\n",
    "#print(gross_billing_check.head())\n",
    "print(gross_billing_check['gross_billing'].sum())\n",
    "print(gross_billing_check['net_revenue'].sum())"
   ]
  },
  {
   "cell_type": "code",
   "execution_count": 32,
   "metadata": {},
   "outputs": [
    {
     "data": {
      "text/html": [
       "<div>\n",
       "<style scoped>\n",
       "    .dataframe tbody tr th:only-of-type {\n",
       "        vertical-align: middle;\n",
       "    }\n",
       "\n",
       "    .dataframe tbody tr th {\n",
       "        vertical-align: top;\n",
       "    }\n",
       "\n",
       "    .dataframe thead th {\n",
       "        text-align: right;\n",
       "    }\n",
       "</style>\n",
       "<table border=\"1\" class=\"dataframe\">\n",
       "  <thead>\n",
       "    <tr style=\"text-align: right;\">\n",
       "      <th></th>\n",
       "      <th>year_month</th>\n",
       "      <th>gross_billing</th>\n",
       "      <th>net_revenue</th>\n",
       "    </tr>\n",
       "  </thead>\n",
       "  <tbody>\n",
       "    <tr>\n",
       "      <th>0</th>\n",
       "      <td>2015-07</td>\n",
       "      <td>1055.70</td>\n",
       "      <td>175.95</td>\n",
       "    </tr>\n",
       "    <tr>\n",
       "      <th>1</th>\n",
       "      <td>2015-08</td>\n",
       "      <td>11853.42</td>\n",
       "      <td>1975.57</td>\n",
       "    </tr>\n",
       "    <tr>\n",
       "      <th>2</th>\n",
       "      <td>2015-09</td>\n",
       "      <td>19318.80</td>\n",
       "      <td>3219.80</td>\n",
       "    </tr>\n",
       "    <tr>\n",
       "      <th>3</th>\n",
       "      <td>2015-10</td>\n",
       "      <td>36275.28</td>\n",
       "      <td>6045.88</td>\n",
       "    </tr>\n",
       "    <tr>\n",
       "      <th>4</th>\n",
       "      <td>2015-11</td>\n",
       "      <td>37483.98</td>\n",
       "      <td>6247.33</td>\n",
       "    </tr>\n",
       "    <tr>\n",
       "      <th>5</th>\n",
       "      <td>2015-12</td>\n",
       "      <td>58121.94</td>\n",
       "      <td>10395.29</td>\n",
       "    </tr>\n",
       "    <tr>\n",
       "      <th>6</th>\n",
       "      <td>2016-01</td>\n",
       "      <td>72364.38</td>\n",
       "      <td>13450.03</td>\n",
       "    </tr>\n",
       "    <tr>\n",
       "      <th>7</th>\n",
       "      <td>2016-02</td>\n",
       "      <td>81072.27</td>\n",
       "      <td>15187.32</td>\n",
       "    </tr>\n",
       "    <tr>\n",
       "      <th>8</th>\n",
       "      <td>2016-03</td>\n",
       "      <td>129527.10</td>\n",
       "      <td>24320.70</td>\n",
       "    </tr>\n",
       "    <tr>\n",
       "      <th>9</th>\n",
       "      <td>2016-04</td>\n",
       "      <td>140830.95</td>\n",
       "      <td>26476.45</td>\n",
       "    </tr>\n",
       "    <tr>\n",
       "      <th>10</th>\n",
       "      <td>2016-05</td>\n",
       "      <td>158431.20</td>\n",
       "      <td>30700.65</td>\n",
       "    </tr>\n",
       "    <tr>\n",
       "      <th>11</th>\n",
       "      <td>2016-06</td>\n",
       "      <td>190730.97</td>\n",
       "      <td>38334.02</td>\n",
       "    </tr>\n",
       "    <tr>\n",
       "      <th>12</th>\n",
       "      <td>2016-07</td>\n",
       "      <td>202623.45</td>\n",
       "      <td>41614.55</td>\n",
       "    </tr>\n",
       "    <tr>\n",
       "      <th>13</th>\n",
       "      <td>2016-08</td>\n",
       "      <td>241433.07</td>\n",
       "      <td>50587.47</td>\n",
       "    </tr>\n",
       "    <tr>\n",
       "      <th>14</th>\n",
       "      <td>2016-09</td>\n",
       "      <td>263247.39</td>\n",
       "      <td>56863.74</td>\n",
       "    </tr>\n",
       "    <tr>\n",
       "      <th>15</th>\n",
       "      <td>2016-10</td>\n",
       "      <td>287814.81</td>\n",
       "      <td>62279.26</td>\n",
       "    </tr>\n",
       "    <tr>\n",
       "      <th>16</th>\n",
       "      <td>2016-11</td>\n",
       "      <td>292237.27</td>\n",
       "      <td>64639.46</td>\n",
       "    </tr>\n",
       "    <tr>\n",
       "      <th>17</th>\n",
       "      <td>2016-12</td>\n",
       "      <td>334175.04</td>\n",
       "      <td>76594.40</td>\n",
       "    </tr>\n",
       "    <tr>\n",
       "      <th>18</th>\n",
       "      <td>2017-01</td>\n",
       "      <td>346194.79</td>\n",
       "      <td>80369.05</td>\n",
       "    </tr>\n",
       "    <tr>\n",
       "      <th>19</th>\n",
       "      <td>2017-02</td>\n",
       "      <td>360644.41</td>\n",
       "      <td>84436.58</td>\n",
       "    </tr>\n",
       "    <tr>\n",
       "      <th>20</th>\n",
       "      <td>2017-03</td>\n",
       "      <td>442036.25</td>\n",
       "      <td>104283.79</td>\n",
       "    </tr>\n",
       "    <tr>\n",
       "      <th>21</th>\n",
       "      <td>2017-04</td>\n",
       "      <td>495888.60</td>\n",
       "      <td>117577.86</td>\n",
       "    </tr>\n",
       "    <tr>\n",
       "      <th>22</th>\n",
       "      <td>2017-05</td>\n",
       "      <td>557742.47</td>\n",
       "      <td>133398.89</td>\n",
       "    </tr>\n",
       "    <tr>\n",
       "      <th>23</th>\n",
       "      <td>2017-06</td>\n",
       "      <td>607619.25</td>\n",
       "      <td>146149.57</td>\n",
       "    </tr>\n",
       "    <tr>\n",
       "      <th>24</th>\n",
       "      <td>2017-07</td>\n",
       "      <td>250270.57</td>\n",
       "      <td>60152.74</td>\n",
       "    </tr>\n",
       "  </tbody>\n",
       "</table>\n",
       "</div>"
      ],
      "text/plain": [
       "   year_month  gross_billing  net_revenue\n",
       "0     2015-07        1055.70       175.95\n",
       "1     2015-08       11853.42      1975.57\n",
       "2     2015-09       19318.80      3219.80\n",
       "3     2015-10       36275.28      6045.88\n",
       "4     2015-11       37483.98      6247.33\n",
       "5     2015-12       58121.94     10395.29\n",
       "6     2016-01       72364.38     13450.03\n",
       "7     2016-02       81072.27     15187.32\n",
       "8     2016-03      129527.10     24320.70\n",
       "9     2016-04      140830.95     26476.45\n",
       "10    2016-05      158431.20     30700.65\n",
       "11    2016-06      190730.97     38334.02\n",
       "12    2016-07      202623.45     41614.55\n",
       "13    2016-08      241433.07     50587.47\n",
       "14    2016-09      263247.39     56863.74\n",
       "15    2016-10      287814.81     62279.26\n",
       "16    2016-11      292237.27     64639.46\n",
       "17    2016-12      334175.04     76594.40\n",
       "18    2017-01      346194.79     80369.05\n",
       "19    2017-02      360644.41     84436.58\n",
       "20    2017-03      442036.25    104283.79\n",
       "21    2017-04      495888.60    117577.86\n",
       "22    2017-05      557742.47    133398.89\n",
       "23    2017-06      607619.25    146149.57\n",
       "24    2017-07      250270.57     60152.74"
      ]
     },
     "execution_count": 32,
     "metadata": {},
     "output_type": "execute_result"
    }
   ],
   "source": [
    "billings = pd.read_sql_query(\n",
    "'''\n",
    "SELECT \n",
    "    --date(conversations_conversation.booked_at) AS date,\n",
    "    strftime('%Y-%m', conversations_conversation.booked_at) AS year_month,\n",
    "    --strftime('%m', conversations_conversation.booked_at) AS month,\n",
    "    --conversations_conversation.booking_total AS booking_total,\n",
    "    --conversations_conversation.requester_id AS requester_id,\n",
    "    --conversations_conversation.service_id AS service_id,\n",
    "    --people_person.fee AS fee_owner_perc,\n",
    "    --services_service.fee AS fee_service_perc,\n",
    "    SUM (conversations_conversation.booking_total + \n",
    "        (conversations_conversation.booking_total * people_person.fee)) AS gross_billing,\n",
    "    --CASE\n",
    "        --WHEN conversations_conversation.booking_total * people_person.fee > 50 THEN 50\n",
    "        --ELSE conversations_conversation.booking_total * people_person.fee END AS owner_fee,\n",
    "    --conversations_conversation.booking_total * services_service.fee AS service_fee,\n",
    "    SUM (\n",
    "    (CASE\n",
    "        WHEN conversations_conversation.booking_total * people_person.fee > 50 THEN 50\n",
    "        ELSE conversations_conversation.booking_total * people_person.fee END) + \n",
    "        (conversations_conversation.booking_total * services_service.fee)) AS net_revenue\n",
    "FROM\n",
    "    conversations_conversation\n",
    "LEFT JOIN people_person ON people_person.id = conversations_conversation.requester_id\n",
    "LEFT JOIN services_service ON services_service.id = conversations_conversation.service_id\n",
    "WHERE\n",
    "    conversations_conversation.booked_at IS NOT NULL AND\n",
    "    conversations_conversation.cancelled_at IS NULL\n",
    "GROUP BY\n",
    "    year_month\n",
    ";\n",
    "'''\n",
    ", connection)\n",
    "billings"
   ]
  },
  {
   "cell_type": "code",
   "execution_count": 33,
   "metadata": {},
   "outputs": [],
   "source": [
    "billings['year_month'] = pd.to_datetime(billings['year_month'], format='%Y-%m')"
   ]
  },
  {
   "cell_type": "code",
   "execution_count": 34,
   "metadata": {},
   "outputs": [
    {
     "data": {
      "image/png": "[encoded data removed]",
      "text/plain": [
       "<Figure size 1008x432 with 1 Axes>"
      ]
     },
     "metadata": {},
     "output_type": "display_data"
    }
   ],
   "source": [
    "# Line Chart for Gross Billings by Months\n",
    "\n",
    "plt.figure(figsize=(14,6))\n",
    "sns.set(style=\"darkgrid\")\n",
    "\n",
    "ax1 = sns.lineplot(x='year_month', y='gross_billing', data=billings, linewidth=4)\n",
    "ax1.set_title('Gross Billing by Months', fontsize=20)\n",
    "ax1.set_xlabel('Date', fontsize=16)\n",
    "\n",
    "ax1.set_ylabel('Gross Billing, $', fontsize=16)\n",
    "ylabels = ['{:,.0f}'.format(x) + 'K' for x in ax1.get_yticks()/1000]\n",
    "ax1.set_yticklabels(ylabels)\n",
    "\n",
    "months = mdates.MonthLocator()\n",
    "years = mdates.YearLocator()\n",
    "years_monthsFmt = mdates.DateFormatter('%Y-%m')\n",
    "\n",
    "#ax.xaxis.set_major_locator(months)\n",
    "#ax.xaxis.set_minor_locator(months)\n",
    "ax1.xaxis.set_major_formatter(years_monthsFmt)\n",
    "\n",
    "plt.show()"
   ]
  },
  {
   "cell_type": "code",
   "execution_count": 35,
   "metadata": {},
   "outputs": [
    {
     "data": {
      "image/png": "[encoded data removed]",
      "text/plain": [
       "<Figure size 1008x432 with 1 Axes>"
      ]
     },
     "metadata": {},
     "output_type": "display_data"
    }
   ],
   "source": [
    "# Line Chart for Net Revenues by Months\n",
    "\n",
    "plt.figure(figsize=(14,6))\n",
    "sns.set(style=\"darkgrid\")\n",
    "\n",
    "ax1 = sns.lineplot(x='year_month', y='net_revenue', data=billings, color='r', linewidth=4)\n",
    "\n",
    "ax1.set_title('Net Revenue by Months', fontsize=20)\n",
    "ax1.set_xlabel('Date', fontsize=16)\n",
    "\n",
    "ax1.set_ylabel('Net Revenue, $', fontsize=16)\n",
    "ylabels = ['{:,.0f}'.format(x) + 'K' for x in ax1.get_yticks()/1000]\n",
    "ax1.set_yticklabels(ylabels)\n",
    "\n",
    "months = mdates.MonthLocator()\n",
    "years = mdates.YearLocator()\n",
    "years_monthsFmt = mdates.DateFormatter('%Y-%m')\n",
    "\n",
    "#ax.xaxis.set_major_locator(months)\n",
    "#ax.xaxis.set_minor_locator(months)\n",
    "ax1.xaxis.set_major_formatter(years_monthsFmt)\n",
    "\n",
    "plt.show()"
   ]
  },
  {
   "cell_type": "code",
   "execution_count": 36,
   "metadata": {},
   "outputs": [
    {
     "data": {
      "image/png": "[encoded data removed]",
      "text/plain": [
       "<Figure size 1008x432 with 2 Axes>"
      ]
     },
     "metadata": {},
     "output_type": "display_data"
    }
   ],
   "source": [
    "# Line Chart for Gross Billings and Net Revenue by Months (together)\n",
    "\n",
    "plt.figure(figsize=(14,6))\n",
    "sns.set(style='darkgrid')\n",
    "\n",
    "ax1 = sns.lineplot(x='year_month', y='gross_billing', data=billings, linewidth=4)\n",
    "\n",
    "ax2 = ax1.twinx()\n",
    "ax2 = sns.lineplot(x='year_month', y='net_revenue', data=billings, color='r', linewidth=4, legend='full')\n",
    "ax2.grid(False)\n",
    "\n",
    "ax1.set_title('Gross Billing and Net Revenue by Months', fontsize=20)\n",
    "ax1.set_xlabel('Date', fontsize=16)\n",
    "\n",
    "ax1.set_ylabel('Gross Billing, $', fontsize=16)\n",
    "ylabels = ['{:,.0f}'.format(x) + 'K' for x in ax1.get_yticks()/1000]\n",
    "ax1.set_yticklabels(ylabels)\n",
    "\n",
    "ax2.set_ylabel('Net Revenue, $', fontsize=16)\n",
    "ylabels = ['{:,.0f}'.format(x) + 'K' for x in ax2.get_yticks()/1000]\n",
    "ax2.set_yticklabels(ylabels)\n",
    "\n",
    "months = mdates.MonthLocator()\n",
    "years = mdates.YearLocator()\n",
    "years_monthsFmt = mdates.DateFormatter('%Y-%m')\n",
    "\n",
    "#ax.xaxis.set_major_locator(months)\n",
    "#ax.xaxis.set_minor_locator(months)\n",
    "ax1.xaxis.set_major_formatter(years_monthsFmt)\n",
    "\n",
    "plt.show()"
   ]
  },
  {
   "cell_type": "markdown",
   "metadata": {},
   "source": [
    "> * Chart shows confidently growing figures of Gross Billing and Net Revenue over two years\n",
    "> * During 2016 Net Revenue demonstrates slightly lower trend vs. Gross Billing\n",
    "> * Since February 2017 till June 2017 we notice distinct growth in Gross Billings and Net Revenue\n",
    "> * As we already know we should not look at the 2017 July data as soon as it was not updated yet"
   ]
  },
  {
   "cell_type": "markdown",
   "metadata": {},
   "source": [
    "<a href=\"#Head\"><font size=\"1.5\">BACK TO CONTENTS</font></a><a name=\"4.2\"></a><br/>\n",
    "\n",
    "### 4.2. Define take rate to be the percentage of gross billings that is net revenue. \n",
    "\n",
    "* In the previous example, the take rate is slightly more than 19% since 20 Dollars/105 Dollars is approximately 0.1905\n",
    "* In each month, what was the aggregate take rate?"
   ]
  },
  {
   "cell_type": "code",
   "execution_count": 37,
   "metadata": {},
   "outputs": [
    {
     "data": {
      "text/html": [
       "<div>\n",
       "<style scoped>\n",
       "    .dataframe tbody tr th:only-of-type {\n",
       "        vertical-align: middle;\n",
       "    }\n",
       "\n",
       "    .dataframe tbody tr th {\n",
       "        vertical-align: top;\n",
       "    }\n",
       "\n",
       "    .dataframe thead th {\n",
       "        text-align: right;\n",
       "    }\n",
       "</style>\n",
       "<table border=\"1\" class=\"dataframe\">\n",
       "  <thead>\n",
       "    <tr style=\"text-align: right;\">\n",
       "      <th></th>\n",
       "      <th>year_month</th>\n",
       "      <th>gross_billing</th>\n",
       "      <th>net_revenue</th>\n",
       "      <th>take_rate_aggregated</th>\n",
       "    </tr>\n",
       "  </thead>\n",
       "  <tbody>\n",
       "    <tr>\n",
       "      <th>0</th>\n",
       "      <td>2015-07</td>\n",
       "      <td>1055.70</td>\n",
       "      <td>175.95</td>\n",
       "      <td>16.67</td>\n",
       "    </tr>\n",
       "    <tr>\n",
       "      <th>1</th>\n",
       "      <td>2015-08</td>\n",
       "      <td>11853.42</td>\n",
       "      <td>1975.57</td>\n",
       "      <td>16.67</td>\n",
       "    </tr>\n",
       "    <tr>\n",
       "      <th>2</th>\n",
       "      <td>2015-09</td>\n",
       "      <td>19318.80</td>\n",
       "      <td>3219.80</td>\n",
       "      <td>16.67</td>\n",
       "    </tr>\n",
       "    <tr>\n",
       "      <th>3</th>\n",
       "      <td>2015-10</td>\n",
       "      <td>36275.28</td>\n",
       "      <td>6045.88</td>\n",
       "      <td>16.67</td>\n",
       "    </tr>\n",
       "    <tr>\n",
       "      <th>4</th>\n",
       "      <td>2015-11</td>\n",
       "      <td>37483.98</td>\n",
       "      <td>6247.33</td>\n",
       "      <td>16.67</td>\n",
       "    </tr>\n",
       "    <tr>\n",
       "      <th>5</th>\n",
       "      <td>2015-12</td>\n",
       "      <td>58121.94</td>\n",
       "      <td>10395.29</td>\n",
       "      <td>17.89</td>\n",
       "    </tr>\n",
       "    <tr>\n",
       "      <th>6</th>\n",
       "      <td>2016-01</td>\n",
       "      <td>72364.38</td>\n",
       "      <td>13450.03</td>\n",
       "      <td>18.59</td>\n",
       "    </tr>\n",
       "    <tr>\n",
       "      <th>7</th>\n",
       "      <td>2016-02</td>\n",
       "      <td>81072.27</td>\n",
       "      <td>15187.32</td>\n",
       "      <td>18.73</td>\n",
       "    </tr>\n",
       "    <tr>\n",
       "      <th>8</th>\n",
       "      <td>2016-03</td>\n",
       "      <td>129527.10</td>\n",
       "      <td>24320.70</td>\n",
       "      <td>18.78</td>\n",
       "    </tr>\n",
       "    <tr>\n",
       "      <th>9</th>\n",
       "      <td>2016-04</td>\n",
       "      <td>140830.95</td>\n",
       "      <td>26476.45</td>\n",
       "      <td>18.80</td>\n",
       "    </tr>\n",
       "    <tr>\n",
       "      <th>10</th>\n",
       "      <td>2016-05</td>\n",
       "      <td>158431.20</td>\n",
       "      <td>30700.65</td>\n",
       "      <td>19.38</td>\n",
       "    </tr>\n",
       "    <tr>\n",
       "      <th>11</th>\n",
       "      <td>2016-06</td>\n",
       "      <td>190730.97</td>\n",
       "      <td>38334.02</td>\n",
       "      <td>20.10</td>\n",
       "    </tr>\n",
       "    <tr>\n",
       "      <th>12</th>\n",
       "      <td>2016-07</td>\n",
       "      <td>202623.45</td>\n",
       "      <td>41614.55</td>\n",
       "      <td>20.54</td>\n",
       "    </tr>\n",
       "    <tr>\n",
       "      <th>13</th>\n",
       "      <td>2016-08</td>\n",
       "      <td>241433.07</td>\n",
       "      <td>50587.47</td>\n",
       "      <td>20.95</td>\n",
       "    </tr>\n",
       "    <tr>\n",
       "      <th>14</th>\n",
       "      <td>2016-09</td>\n",
       "      <td>263247.39</td>\n",
       "      <td>56863.74</td>\n",
       "      <td>21.60</td>\n",
       "    </tr>\n",
       "    <tr>\n",
       "      <th>15</th>\n",
       "      <td>2016-10</td>\n",
       "      <td>287814.81</td>\n",
       "      <td>62279.26</td>\n",
       "      <td>21.64</td>\n",
       "    </tr>\n",
       "    <tr>\n",
       "      <th>16</th>\n",
       "      <td>2016-11</td>\n",
       "      <td>292237.27</td>\n",
       "      <td>64639.46</td>\n",
       "      <td>22.12</td>\n",
       "    </tr>\n",
       "    <tr>\n",
       "      <th>17</th>\n",
       "      <td>2016-12</td>\n",
       "      <td>334175.04</td>\n",
       "      <td>76594.40</td>\n",
       "      <td>22.92</td>\n",
       "    </tr>\n",
       "    <tr>\n",
       "      <th>18</th>\n",
       "      <td>2017-01</td>\n",
       "      <td>346194.79</td>\n",
       "      <td>80369.05</td>\n",
       "      <td>23.21</td>\n",
       "    </tr>\n",
       "    <tr>\n",
       "      <th>19</th>\n",
       "      <td>2017-02</td>\n",
       "      <td>360644.41</td>\n",
       "      <td>84436.58</td>\n",
       "      <td>23.41</td>\n",
       "    </tr>\n",
       "    <tr>\n",
       "      <th>20</th>\n",
       "      <td>2017-03</td>\n",
       "      <td>442036.25</td>\n",
       "      <td>104283.79</td>\n",
       "      <td>23.59</td>\n",
       "    </tr>\n",
       "    <tr>\n",
       "      <th>21</th>\n",
       "      <td>2017-04</td>\n",
       "      <td>495888.60</td>\n",
       "      <td>117577.86</td>\n",
       "      <td>23.71</td>\n",
       "    </tr>\n",
       "    <tr>\n",
       "      <th>22</th>\n",
       "      <td>2017-05</td>\n",
       "      <td>557742.47</td>\n",
       "      <td>133398.89</td>\n",
       "      <td>23.92</td>\n",
       "    </tr>\n",
       "    <tr>\n",
       "      <th>23</th>\n",
       "      <td>2017-06</td>\n",
       "      <td>607619.25</td>\n",
       "      <td>146149.57</td>\n",
       "      <td>24.05</td>\n",
       "    </tr>\n",
       "    <tr>\n",
       "      <th>24</th>\n",
       "      <td>2017-07</td>\n",
       "      <td>250270.57</td>\n",
       "      <td>60152.74</td>\n",
       "      <td>24.04</td>\n",
       "    </tr>\n",
       "  </tbody>\n",
       "</table>\n",
       "</div>"
      ],
      "text/plain": [
       "   year_month  gross_billing  net_revenue take_rate_aggregated\n",
       "0     2015-07        1055.70       175.95                16.67\n",
       "1     2015-08       11853.42      1975.57                16.67\n",
       "2     2015-09       19318.80      3219.80                16.67\n",
       "3     2015-10       36275.28      6045.88                16.67\n",
       "4     2015-11       37483.98      6247.33                16.67\n",
       "5     2015-12       58121.94     10395.29                17.89\n",
       "6     2016-01       72364.38     13450.03                18.59\n",
       "7     2016-02       81072.27     15187.32                18.73\n",
       "8     2016-03      129527.10     24320.70                18.78\n",
       "9     2016-04      140830.95     26476.45                18.80\n",
       "10    2016-05      158431.20     30700.65                19.38\n",
       "11    2016-06      190730.97     38334.02                20.10\n",
       "12    2016-07      202623.45     41614.55                20.54\n",
       "13    2016-08      241433.07     50587.47                20.95\n",
       "14    2016-09      263247.39     56863.74                21.60\n",
       "15    2016-10      287814.81     62279.26                21.64\n",
       "16    2016-11      292237.27     64639.46                22.12\n",
       "17    2016-12      334175.04     76594.40                22.92\n",
       "18    2017-01      346194.79     80369.05                23.21\n",
       "19    2017-02      360644.41     84436.58                23.41\n",
       "20    2017-03      442036.25    104283.79                23.59\n",
       "21    2017-04      495888.60    117577.86                23.71\n",
       "22    2017-05      557742.47    133398.89                23.92\n",
       "23    2017-06      607619.25    146149.57                24.05\n",
       "24    2017-07      250270.57     60152.74                24.04"
      ]
     },
     "execution_count": 37,
     "metadata": {},
     "output_type": "execute_result"
    }
   ],
   "source": [
    "take_rate_aggreg = pd.read_sql_query(\n",
    "'''\n",
    "SELECT\n",
    "    strftime('%Y-%m', conversations_conversation.booked_at) AS year_month,\n",
    "    SUM (conversations_conversation.booking_total + \n",
    "        (conversations_conversation.booking_total * people_person.fee)) AS gross_billing,\n",
    "    SUM (\n",
    "    (CASE\n",
    "        WHEN conversations_conversation.booking_total * people_person.fee > 50 THEN 50\n",
    "        ELSE conversations_conversation.booking_total * people_person.fee END) + \n",
    "        (conversations_conversation.booking_total * services_service.fee)) AS net_revenue,\n",
    "    printf (\"%.2f\", \n",
    "        SUM (\n",
    "        (CASE\n",
    "        WHEN conversations_conversation.booking_total * people_person.fee > 50 THEN 50\n",
    "        ELSE conversations_conversation.booking_total * people_person.fee END) + \n",
    "        (conversations_conversation.booking_total * services_service.fee))\n",
    "        * 100 / \n",
    "        SUM (conversations_conversation.booking_total + \n",
    "        (conversations_conversation.booking_total * people_person.fee)) \n",
    "        ) AS take_rate_aggregated\n",
    "FROM\n",
    "    conversations_conversation\n",
    "LEFT JOIN people_person ON people_person.id = conversations_conversation.requester_id\n",
    "LEFT JOIN services_service ON services_service.id = conversations_conversation.service_id\n",
    "WHERE\n",
    "    conversations_conversation.booked_at IS NOT NULL AND\n",
    "    conversations_conversation.cancelled_at IS NULL\n",
    "GROUP BY\n",
    "    year_month\n",
    ";\n",
    "'''\n",
    ", connection)\n",
    "take_rate_aggreg"
   ]
  },
  {
   "cell_type": "markdown",
   "metadata": {},
   "source": [
    "> * Data range is 25 months: Jul 2015 - Jul 2017\n",
    "> * First months of the period the take rate is almost 17%\n",
    "> * Latest data shows 24% Take Rate in Jul 2017"
   ]
  },
  {
   "cell_type": "markdown",
   "metadata": {},
   "source": [
    "<a href=\"#Head\"><font size=\"1.5\">BACK TO CONTENTS</font></a><a name=\"4.3\"></a><br/>\n",
    "\n",
    "### 4.3. Did take rate trend up or trend down or remain unchanged over time?"
   ]
  },
  {
   "cell_type": "code",
   "execution_count": 38,
   "metadata": {},
   "outputs": [],
   "source": [
    "# data for chart\n",
    "take_rate_aggreg_data = take_rate_aggreg.drop(['gross_billing','net_revenue'], axis=1)"
   ]
  },
  {
   "cell_type": "code",
   "execution_count": 39,
   "metadata": {},
   "outputs": [],
   "source": [
    "# convert data in columns to show the graph \n",
    "take_rate_aggreg_data['take_rate_aggregated'] = take_rate_aggreg_data['take_rate_aggregated'].astype('float')\n",
    "take_rate_aggreg_data['year_month'] = pd.to_datetime(take_rate_aggreg_data['year_month'].astype(str), format='%Y-%m')"
   ]
  },
  {
   "cell_type": "code",
   "execution_count": 40,
   "metadata": {},
   "outputs": [
    {
     "data": {
      "image/png": "[encoded data removed]",
      "text/plain": [
       "<Figure size 1008x288 with 1 Axes>"
      ]
     },
     "metadata": {},
     "output_type": "display_data"
    }
   ],
   "source": [
    "# Line Chart for Take Rate aggregated by Months\n",
    "\n",
    "plt.figure(figsize=(14,4))\n",
    "sns.set(style=\"darkgrid\")\n",
    "\n",
    "ax = sns.lineplot(x='year_month', y='take_rate_aggregated', data=take_rate_aggreg_data, linewidth=4)\n",
    "\n",
    "ax.set_title('Take Rate Aggregated by Months (% Net Revenue from Gross Billing)', fontsize=20)\n",
    "ax.set_xlabel('Date', fontsize=16)\n",
    "ax.set_ylabel('Take Rate, %', fontsize=16)\n",
    "\n",
    "months = mdates.MonthLocator()\n",
    "years = mdates.YearLocator()\n",
    "years_monthsFmt = mdates.DateFormatter('%Y-%m')\n",
    "\n",
    "#ax.xaxis.set_major_locator(months)\n",
    "#ax.xaxis.set_minor_locator(months)\n",
    "ax.xaxis.set_major_formatter(years_monthsFmt)\n",
    "\n",
    "plt.show()"
   ]
  },
  {
   "cell_type": "markdown",
   "metadata": {},
   "source": [
    "> * First observations in 2015 (Jul-Nov) show 16.67% as aggregated Take Rate level\n",
    "> * There is visible growth started Dec 2015 at 17.89% and reached 24.08% Jul 2017\n",
    "> * We can definitely see the growth in Net Revenue share in Gross Billings"
   ]
  },
  {
   "cell_type": "markdown",
   "metadata": {},
   "source": [
    "<a href=\"#Head\"><font size=\"1.5\">BACK TO CONTENTS</font></a><a name=\"4.4\"></a><br/>\n",
    "\n",
    "### 4.4. Take Rate change causes - analysis.\n",
    "\n",
    "* If it did change, investigate why and provide an explanation\n",
    "* Be sure to provide additional data/charts/evidence that justify your explanation\n",
    "* Any claims should be backed by data"
   ]
  },
  {
   "cell_type": "markdown",
   "metadata": {},
   "source": [
    "> * It seems that owner fee and service fee are the cause of the Take Rate change over past 24 months\n",
    "> * Let's look at the distribution of average fee level"
   ]
  },
  {
   "cell_type": "markdown",
   "metadata": {},
   "source": [
    "> * Owner Fee analysis"
   ]
  },
  {
   "cell_type": "code",
   "execution_count": 41,
   "metadata": {},
   "outputs": [],
   "source": [
    "# convert data to datetime format\n",
    "billings_base['year_month'] = pd.to_datetime(\n",
    "    billings_base['year'].astype(str) + billings_base['month'].astype(str), format='%Y%m')"
   ]
  },
  {
   "cell_type": "code",
   "execution_count": 42,
   "metadata": {},
   "outputs": [
    {
     "data": {
      "text/html": [
       "<div>\n",
       "<style scoped>\n",
       "    .dataframe tbody tr th:only-of-type {\n",
       "        vertical-align: middle;\n",
       "    }\n",
       "\n",
       "    .dataframe tbody tr th {\n",
       "        vertical-align: top;\n",
       "    }\n",
       "\n",
       "    .dataframe thead th {\n",
       "        text-align: right;\n",
       "    }\n",
       "</style>\n",
       "<table border=\"1\" class=\"dataframe\">\n",
       "  <thead>\n",
       "    <tr style=\"text-align: right;\">\n",
       "      <th></th>\n",
       "      <th>date</th>\n",
       "      <th>year</th>\n",
       "      <th>month</th>\n",
       "      <th>booking_total</th>\n",
       "      <th>requester_id</th>\n",
       "      <th>service_id</th>\n",
       "      <th>fee_owner_perc</th>\n",
       "      <th>fee_service_perc</th>\n",
       "      <th>gross_billing</th>\n",
       "      <th>owner_fee</th>\n",
       "      <th>service_fee</th>\n",
       "      <th>net_revenue</th>\n",
       "      <th>year_month</th>\n",
       "    </tr>\n",
       "  </thead>\n",
       "  <tbody>\n",
       "    <tr>\n",
       "      <th>0</th>\n",
       "      <td>2015-07-20</td>\n",
       "      <td>2015</td>\n",
       "      <td>07</td>\n",
       "      <td>140</td>\n",
       "      <td>47405</td>\n",
       "      <td>77257</td>\n",
       "      <td>0.02</td>\n",
       "      <td>0.15</td>\n",
       "      <td>142.80</td>\n",
       "      <td>2.80</td>\n",
       "      <td>21.00</td>\n",
       "      <td>23.80</td>\n",
       "      <td>2015-07-01</td>\n",
       "    </tr>\n",
       "    <tr>\n",
       "      <th>1</th>\n",
       "      <td>2015-07-21</td>\n",
       "      <td>2015</td>\n",
       "      <td>07</td>\n",
       "      <td>46</td>\n",
       "      <td>58799</td>\n",
       "      <td>77267</td>\n",
       "      <td>0.02</td>\n",
       "      <td>0.15</td>\n",
       "      <td>46.92</td>\n",
       "      <td>0.92</td>\n",
       "      <td>6.90</td>\n",
       "      <td>7.82</td>\n",
       "      <td>2015-07-01</td>\n",
       "    </tr>\n",
       "    <tr>\n",
       "      <th>2</th>\n",
       "      <td>2015-07-21</td>\n",
       "      <td>2015</td>\n",
       "      <td>07</td>\n",
       "      <td>125</td>\n",
       "      <td>15305</td>\n",
       "      <td>77295</td>\n",
       "      <td>0.02</td>\n",
       "      <td>0.15</td>\n",
       "      <td>127.50</td>\n",
       "      <td>2.50</td>\n",
       "      <td>18.75</td>\n",
       "      <td>21.25</td>\n",
       "      <td>2015-07-01</td>\n",
       "    </tr>\n",
       "    <tr>\n",
       "      <th>3</th>\n",
       "      <td>2015-07-29</td>\n",
       "      <td>2015</td>\n",
       "      <td>07</td>\n",
       "      <td>532</td>\n",
       "      <td>17983</td>\n",
       "      <td>77260</td>\n",
       "      <td>0.02</td>\n",
       "      <td>0.15</td>\n",
       "      <td>542.64</td>\n",
       "      <td>10.64</td>\n",
       "      <td>79.80</td>\n",
       "      <td>90.44</td>\n",
       "      <td>2015-07-01</td>\n",
       "    </tr>\n",
       "    <tr>\n",
       "      <th>4</th>\n",
       "      <td>2015-07-30</td>\n",
       "      <td>2015</td>\n",
       "      <td>07</td>\n",
       "      <td>192</td>\n",
       "      <td>56718</td>\n",
       "      <td>77168</td>\n",
       "      <td>0.02</td>\n",
       "      <td>0.15</td>\n",
       "      <td>195.84</td>\n",
       "      <td>3.84</td>\n",
       "      <td>28.80</td>\n",
       "      <td>32.64</td>\n",
       "      <td>2015-07-01</td>\n",
       "    </tr>\n",
       "  </tbody>\n",
       "</table>\n",
       "</div>"
      ],
      "text/plain": [
       "         date  year month  booking_total  requester_id  service_id  fee_owner_perc  fee_service_perc  \\\n",
       "0  2015-07-20  2015    07            140         47405       77257            0.02              0.15   \n",
       "1  2015-07-21  2015    07             46         58799       77267            0.02              0.15   \n",
       "2  2015-07-21  2015    07            125         15305       77295            0.02              0.15   \n",
       "3  2015-07-29  2015    07            532         17983       77260            0.02              0.15   \n",
       "4  2015-07-30  2015    07            192         56718       77168            0.02              0.15   \n",
       "\n",
       "   gross_billing  owner_fee  service_fee  net_revenue year_month  \n",
       "0         142.80       2.80        21.00        23.80 2015-07-01  \n",
       "1          46.92       0.92         6.90         7.82 2015-07-01  \n",
       "2         127.50       2.50        18.75        21.25 2015-07-01  \n",
       "3         542.64      10.64        79.80        90.44 2015-07-01  \n",
       "4         195.84       3.84        28.80        32.64 2015-07-01  "
      ]
     },
     "execution_count": 42,
     "metadata": {},
     "output_type": "execute_result"
    }
   ],
   "source": [
    "billings_base.head()"
   ]
  },
  {
   "cell_type": "code",
   "execution_count": 43,
   "metadata": {},
   "outputs": [
    {
     "name": "stdout",
     "output_type": "stream",
     "text": [
      "<class 'pandas.core.frame.DataFrame'>\n",
      "RangeIndex: 29902 entries, 0 to 29901\n",
      "Data columns (total 13 columns):\n",
      " #   Column            Non-Null Count  Dtype         \n",
      "---  ------            --------------  -----         \n",
      " 0   date              29902 non-null  object        \n",
      " 1   year              29902 non-null  object        \n",
      " 2   month             29902 non-null  object        \n",
      " 3   booking_total     29902 non-null  int64         \n",
      " 4   requester_id      29902 non-null  int64         \n",
      " 5   service_id        29902 non-null  int64         \n",
      " 6   fee_owner_perc    29902 non-null  float64       \n",
      " 7   fee_service_perc  29902 non-null  float64       \n",
      " 8   gross_billing     29902 non-null  float64       \n",
      " 9   owner_fee         29902 non-null  float64       \n",
      " 10  service_fee       29902 non-null  float64       \n",
      " 11  net_revenue       29902 non-null  float64       \n",
      " 12  year_month        29902 non-null  datetime64[ns]\n",
      "dtypes: datetime64[ns](1), float64(6), int64(3), object(3)\n",
      "memory usage: 3.0+ MB\n"
     ]
    }
   ],
   "source": [
    "billings_base.info()"
   ]
  },
  {
   "cell_type": "code",
   "execution_count": 44,
   "metadata": {},
   "outputs": [
    {
     "data": {
      "text/html": [
       "<div>\n",
       "<style scoped>\n",
       "    .dataframe tbody tr th:only-of-type {\n",
       "        vertical-align: middle;\n",
       "    }\n",
       "\n",
       "    .dataframe tbody tr th {\n",
       "        vertical-align: top;\n",
       "    }\n",
       "\n",
       "    .dataframe thead th {\n",
       "        text-align: right;\n",
       "    }\n",
       "</style>\n",
       "<table border=\"1\" class=\"dataframe\">\n",
       "  <thead>\n",
       "    <tr style=\"text-align: right;\">\n",
       "      <th></th>\n",
       "      <th>year_month</th>\n",
       "      <th>fee_owner_perc</th>\n",
       "    </tr>\n",
       "  </thead>\n",
       "  <tbody>\n",
       "    <tr>\n",
       "      <th>0</th>\n",
       "      <td>2015-07-01</td>\n",
       "      <td>0.020000</td>\n",
       "    </tr>\n",
       "    <tr>\n",
       "      <th>1</th>\n",
       "      <td>2015-08-01</td>\n",
       "      <td>0.020000</td>\n",
       "    </tr>\n",
       "    <tr>\n",
       "      <th>2</th>\n",
       "      <td>2015-09-01</td>\n",
       "      <td>0.020000</td>\n",
       "    </tr>\n",
       "    <tr>\n",
       "      <th>3</th>\n",
       "      <td>2015-10-01</td>\n",
       "      <td>0.020000</td>\n",
       "    </tr>\n",
       "    <tr>\n",
       "      <th>4</th>\n",
       "      <td>2015-11-01</td>\n",
       "      <td>0.020000</td>\n",
       "    </tr>\n",
       "    <tr>\n",
       "      <th>5</th>\n",
       "      <td>2015-12-01</td>\n",
       "      <td>0.035090</td>\n",
       "    </tr>\n",
       "    <tr>\n",
       "      <th>6</th>\n",
       "      <td>2016-01-01</td>\n",
       "      <td>0.044455</td>\n",
       "    </tr>\n",
       "    <tr>\n",
       "      <th>7</th>\n",
       "      <td>2016-02-01</td>\n",
       "      <td>0.045796</td>\n",
       "    </tr>\n",
       "    <tr>\n",
       "      <th>8</th>\n",
       "      <td>2016-03-01</td>\n",
       "      <td>0.046692</td>\n",
       "    </tr>\n",
       "    <tr>\n",
       "      <th>9</th>\n",
       "      <td>2016-04-01</td>\n",
       "      <td>0.046992</td>\n",
       "    </tr>\n",
       "    <tr>\n",
       "      <th>10</th>\n",
       "      <td>2016-05-01</td>\n",
       "      <td>0.047714</td>\n",
       "    </tr>\n",
       "    <tr>\n",
       "      <th>11</th>\n",
       "      <td>2016-06-01</td>\n",
       "      <td>0.048320</td>\n",
       "    </tr>\n",
       "    <tr>\n",
       "      <th>12</th>\n",
       "      <td>2016-07-01</td>\n",
       "      <td>0.048356</td>\n",
       "    </tr>\n",
       "    <tr>\n",
       "      <th>13</th>\n",
       "      <td>2016-08-01</td>\n",
       "      <td>0.048340</td>\n",
       "    </tr>\n",
       "    <tr>\n",
       "      <th>14</th>\n",
       "      <td>2016-09-01</td>\n",
       "      <td>0.048928</td>\n",
       "    </tr>\n",
       "    <tr>\n",
       "      <th>15</th>\n",
       "      <td>2016-10-01</td>\n",
       "      <td>0.048834</td>\n",
       "    </tr>\n",
       "    <tr>\n",
       "      <th>16</th>\n",
       "      <td>2016-11-01</td>\n",
       "      <td>0.054525</td>\n",
       "    </tr>\n",
       "    <tr>\n",
       "      <th>17</th>\n",
       "      <td>2016-12-01</td>\n",
       "      <td>0.060416</td>\n",
       "    </tr>\n",
       "    <tr>\n",
       "      <th>18</th>\n",
       "      <td>2017-01-01</td>\n",
       "      <td>0.061764</td>\n",
       "    </tr>\n",
       "    <tr>\n",
       "      <th>19</th>\n",
       "      <td>2017-02-01</td>\n",
       "      <td>0.062427</td>\n",
       "    </tr>\n",
       "    <tr>\n",
       "      <th>20</th>\n",
       "      <td>2017-03-01</td>\n",
       "      <td>0.063669</td>\n",
       "    </tr>\n",
       "    <tr>\n",
       "      <th>21</th>\n",
       "      <td>2017-04-01</td>\n",
       "      <td>0.064376</td>\n",
       "    </tr>\n",
       "    <tr>\n",
       "      <th>22</th>\n",
       "      <td>2017-05-01</td>\n",
       "      <td>0.064966</td>\n",
       "    </tr>\n",
       "    <tr>\n",
       "      <th>23</th>\n",
       "      <td>2017-06-01</td>\n",
       "      <td>0.065768</td>\n",
       "    </tr>\n",
       "    <tr>\n",
       "      <th>24</th>\n",
       "      <td>2017-07-01</td>\n",
       "      <td>0.066265</td>\n",
       "    </tr>\n",
       "  </tbody>\n",
       "</table>\n",
       "</div>"
      ],
      "text/plain": [
       "   year_month  fee_owner_perc\n",
       "0  2015-07-01        0.020000\n",
       "1  2015-08-01        0.020000\n",
       "2  2015-09-01        0.020000\n",
       "3  2015-10-01        0.020000\n",
       "4  2015-11-01        0.020000\n",
       "5  2015-12-01        0.035090\n",
       "6  2016-01-01        0.044455\n",
       "7  2016-02-01        0.045796\n",
       "8  2016-03-01        0.046692\n",
       "9  2016-04-01        0.046992\n",
       "10 2016-05-01        0.047714\n",
       "11 2016-06-01        0.048320\n",
       "12 2016-07-01        0.048356\n",
       "13 2016-08-01        0.048340\n",
       "14 2016-09-01        0.048928\n",
       "15 2016-10-01        0.048834\n",
       "16 2016-11-01        0.054525\n",
       "17 2016-12-01        0.060416\n",
       "18 2017-01-01        0.061764\n",
       "19 2017-02-01        0.062427\n",
       "20 2017-03-01        0.063669\n",
       "21 2017-04-01        0.064376\n",
       "22 2017-05-01        0.064966\n",
       "23 2017-06-01        0.065768\n",
       "24 2017-07-01        0.066265"
      ]
     },
     "execution_count": 44,
     "metadata": {},
     "output_type": "execute_result"
    }
   ],
   "source": [
    "# get average owner fee per month per period \n",
    "owner_fee_change_pivot = billings_base.pivot_table(\n",
    "    index='year_month', values='fee_owner_perc').reset_index()\n",
    "owner_fee_change_pivot"
   ]
  },
  {
   "cell_type": "code",
   "execution_count": 45,
   "metadata": {},
   "outputs": [
    {
     "data": {
      "image/png": "[encoded data removed]",
      "text/plain": [
       "<Figure size 1008x288 with 1 Axes>"
      ]
     },
     "metadata": {},
     "output_type": "display_data"
    }
   ],
   "source": [
    "# Line Chart for Owner Fee Percentage change over time by Months\n",
    "\n",
    "plt.figure(figsize=(14,4))\n",
    "sns.set(style=\"darkgrid\")\n",
    "\n",
    "ax = sns.lineplot(x='year_month', y='fee_owner_perc', data=owner_fee_change_pivot, linewidth=4)\n",
    "\n",
    "ax.set_title('Owner Fee Percentage change over time by Months', fontsize=20)\n",
    "ax.set_xlabel('Date', fontsize=16)\n",
    "ax.set_ylabel('Owner Fee Percentage, %', fontsize=16)\n",
    "\n",
    "months = mdates.MonthLocator()\n",
    "years = mdates.YearLocator()\n",
    "years_monthsFmt = mdates.DateFormatter('%Y-%m')\n",
    "\n",
    "#ax.xaxis.set_major_locator(months)\n",
    "#ax.xaxis.set_minor_locator(months)\n",
    "ax.xaxis.set_major_formatter(years_monthsFmt)\n",
    "\n",
    "plt.show()"
   ]
  },
  {
   "cell_type": "markdown",
   "metadata": {},
   "source": [
    "> * First reason for the Take Rate increase is owner fee percentage increase over time\n",
    "> * Till Dec 2015 this fee is 2% and then it made two major leaps at the beginning of 2016 and at the beginning of 2017\n",
    "> * Finally at the July 2017 the average owner fee is 6.6% vs. 2% two years before"
   ]
  },
  {
   "cell_type": "markdown",
   "metadata": {},
   "source": [
    "> * Service Fee analysis"
   ]
  },
  {
   "cell_type": "code",
   "execution_count": 46,
   "metadata": {},
   "outputs": [
    {
     "data": {
      "text/html": [
       "<div>\n",
       "<style scoped>\n",
       "    .dataframe tbody tr th:only-of-type {\n",
       "        vertical-align: middle;\n",
       "    }\n",
       "\n",
       "    .dataframe tbody tr th {\n",
       "        vertical-align: top;\n",
       "    }\n",
       "\n",
       "    .dataframe thead th {\n",
       "        text-align: right;\n",
       "    }\n",
       "</style>\n",
       "<table border=\"1\" class=\"dataframe\">\n",
       "  <thead>\n",
       "    <tr style=\"text-align: right;\">\n",
       "      <th></th>\n",
       "      <th>year_month</th>\n",
       "      <th>service_fee</th>\n",
       "    </tr>\n",
       "  </thead>\n",
       "  <tbody>\n",
       "    <tr>\n",
       "      <th>0</th>\n",
       "      <td>2015-07-01</td>\n",
       "      <td>31.050000</td>\n",
       "    </tr>\n",
       "    <tr>\n",
       "      <th>1</th>\n",
       "      <td>2015-08-01</td>\n",
       "      <td>34.179412</td>\n",
       "    </tr>\n",
       "    <tr>\n",
       "      <th>2</th>\n",
       "      <td>2015-09-01</td>\n",
       "      <td>26.064220</td>\n",
       "    </tr>\n",
       "    <tr>\n",
       "      <th>3</th>\n",
       "      <td>2015-10-01</td>\n",
       "      <td>27.640415</td>\n",
       "    </tr>\n",
       "    <tr>\n",
       "      <th>4</th>\n",
       "      <td>2015-11-01</td>\n",
       "      <td>23.966739</td>\n",
       "    </tr>\n",
       "    <tr>\n",
       "      <th>5</th>\n",
       "      <td>2015-12-01</td>\n",
       "      <td>25.368524</td>\n",
       "    </tr>\n",
       "    <tr>\n",
       "      <th>6</th>\n",
       "      <td>2016-01-01</td>\n",
       "      <td>24.636611</td>\n",
       "    </tr>\n",
       "    <tr>\n",
       "      <th>7</th>\n",
       "      <td>2016-02-01</td>\n",
       "      <td>24.683758</td>\n",
       "    </tr>\n",
       "    <tr>\n",
       "      <th>8</th>\n",
       "      <td>2016-03-01</td>\n",
       "      <td>28.042749</td>\n",
       "    </tr>\n",
       "    <tr>\n",
       "      <th>9</th>\n",
       "      <td>2016-04-01</td>\n",
       "      <td>26.622032</td>\n",
       "    </tr>\n",
       "    <tr>\n",
       "      <th>10</th>\n",
       "      <td>2016-05-01</td>\n",
       "      <td>27.070381</td>\n",
       "    </tr>\n",
       "    <tr>\n",
       "      <th>11</th>\n",
       "      <td>2016-06-01</td>\n",
       "      <td>29.006925</td>\n",
       "    </tr>\n",
       "    <tr>\n",
       "      <th>12</th>\n",
       "      <td>2016-07-01</td>\n",
       "      <td>29.433425</td>\n",
       "    </tr>\n",
       "    <tr>\n",
       "      <th>13</th>\n",
       "      <td>2016-08-01</td>\n",
       "      <td>30.762588</td>\n",
       "    </tr>\n",
       "    <tr>\n",
       "      <th>14</th>\n",
       "      <td>2016-09-01</td>\n",
       "      <td>32.518089</td>\n",
       "    </tr>\n",
       "    <tr>\n",
       "      <th>15</th>\n",
       "      <td>2016-10-01</td>\n",
       "      <td>31.680991</td>\n",
       "    </tr>\n",
       "    <tr>\n",
       "      <th>16</th>\n",
       "      <td>2016-11-01</td>\n",
       "      <td>31.015000</td>\n",
       "    </tr>\n",
       "    <tr>\n",
       "      <th>17</th>\n",
       "      <td>2016-12-01</td>\n",
       "      <td>32.435602</td>\n",
       "    </tr>\n",
       "    <tr>\n",
       "      <th>18</th>\n",
       "      <td>2017-01-01</td>\n",
       "      <td>32.077019</td>\n",
       "    </tr>\n",
       "    <tr>\n",
       "      <th>19</th>\n",
       "      <td>2017-02-01</td>\n",
       "      <td>34.124166</td>\n",
       "    </tr>\n",
       "    <tr>\n",
       "      <th>20</th>\n",
       "      <td>2017-03-01</td>\n",
       "      <td>33.306242</td>\n",
       "    </tr>\n",
       "    <tr>\n",
       "      <th>21</th>\n",
       "      <td>2017-04-01</td>\n",
       "      <td>34.500569</td>\n",
       "    </tr>\n",
       "    <tr>\n",
       "      <th>22</th>\n",
       "      <td>2017-05-01</td>\n",
       "      <td>34.015126</td>\n",
       "    </tr>\n",
       "    <tr>\n",
       "      <th>23</th>\n",
       "      <td>2017-06-01</td>\n",
       "      <td>33.957583</td>\n",
       "    </tr>\n",
       "    <tr>\n",
       "      <th>24</th>\n",
       "      <td>2017-07-01</td>\n",
       "      <td>33.456175</td>\n",
       "    </tr>\n",
       "  </tbody>\n",
       "</table>\n",
       "</div>"
      ],
      "text/plain": [
       "   year_month  service_fee\n",
       "0  2015-07-01    31.050000\n",
       "1  2015-08-01    34.179412\n",
       "2  2015-09-01    26.064220\n",
       "3  2015-10-01    27.640415\n",
       "4  2015-11-01    23.966739\n",
       "5  2015-12-01    25.368524\n",
       "6  2016-01-01    24.636611\n",
       "7  2016-02-01    24.683758\n",
       "8  2016-03-01    28.042749\n",
       "9  2016-04-01    26.622032\n",
       "10 2016-05-01    27.070381\n",
       "11 2016-06-01    29.006925\n",
       "12 2016-07-01    29.433425\n",
       "13 2016-08-01    30.762588\n",
       "14 2016-09-01    32.518089\n",
       "15 2016-10-01    31.680991\n",
       "16 2016-11-01    31.015000\n",
       "17 2016-12-01    32.435602\n",
       "18 2017-01-01    32.077019\n",
       "19 2017-02-01    34.124166\n",
       "20 2017-03-01    33.306242\n",
       "21 2017-04-01    34.500569\n",
       "22 2017-05-01    34.015126\n",
       "23 2017-06-01    33.957583\n",
       "24 2017-07-01    33.456175"
      ]
     },
     "execution_count": 46,
     "metadata": {},
     "output_type": "execute_result"
    }
   ],
   "source": [
    "# get average service fee per month per period \n",
    "service_fee_change_pivot = billings_base.pivot_table(\n",
    "    index='year_month', values='service_fee').reset_index()\n",
    "service_fee_change_pivot"
   ]
  },
  {
   "cell_type": "code",
   "execution_count": 47,
   "metadata": {},
   "outputs": [
    {
     "data": {
      "image/png": "[encoded data removed]",
      "text/plain": [
       "<Figure size 1008x288 with 1 Axes>"
      ]
     },
     "metadata": {},
     "output_type": "display_data"
    }
   ],
   "source": [
    "# Line Chart for Service Fee Percentage change over time by Months\n",
    "\n",
    "plt.figure(figsize=(14,4))\n",
    "sns.set(style=\"darkgrid\")\n",
    "\n",
    "ax = sns.lineplot(x='year_month', y='service_fee', data=service_fee_change_pivot, linewidth=4)\n",
    "\n",
    "ax.set_title('Service Fee Percentage change over time by Months', fontsize=20)\n",
    "ax.set_xlabel('Date', fontsize=16)\n",
    "ax.set_ylabel('Service Fee Percentage, %', fontsize=16)\n",
    "\n",
    "months = mdates.MonthLocator()\n",
    "years = mdates.YearLocator()\n",
    "years_monthsFmt = mdates.DateFormatter('%Y-%m')\n",
    "\n",
    "#ax.xaxis.set_major_locator(months)\n",
    "#ax.xaxis.set_minor_locator(months)\n",
    "ax.xaxis.set_major_formatter(years_monthsFmt)\n",
    "\n",
    "plt.show()"
   ]
  },
  {
   "cell_type": "markdown",
   "metadata": {},
   "source": [
    "> * Despite high service fee level at the beginning of the period it dropped from 34% high at Aug 2015 to 24% low at Nov 2015\n",
    "> * Then we see stable gradual growth in service fee rate from 24% to the highest 34.5% in Apr 2017"
   ]
  },
  {
   "cell_type": "markdown",
   "metadata": {},
   "source": [
    "> * Owner Fee and Service Fee are the only contributors to the growth of Take Rate for the last 24 months"
   ]
  },
  {
   "cell_type": "markdown",
   "metadata": {},
   "source": [
    "#### Comment:\n",
    "\n",
    "* Gross Billings and Net Revenue:\n",
    "> * We see confidently growing figures of Gross Billing and Net Revenue over two years\n",
    "> * During 2016 Net Revenue demonstrates slightly lower trend vs. Gross Billing\n",
    "> * Since February 2017 till June 2017 we notice distinct growth in Gross Billings and Net Revenue\n",
    "> * As we already know we should not look at the 2017 July data as soon as it was not updated yet\n",
    "* Take Rate (Net Revenue percentage out of Gross Billing):\n",
    "> * Data range is 25 months: Jul 2015 - Jul 2017\n",
    "> * First months of the period the take rate is almost 17%\n",
    "> * Latest data shows 24% Take Rate in Jul 2017\n",
    "* Trend:\n",
    "> * First observations in 2015 (Jul-Nov) show 16.67% as aggregated Take Rate level\n",
    "> * There is visible growth started Dec 2015 at 17.89% and reached 24.08% Jul 2017\n",
    "> * We can definitely see the growth in Net Revenue share in Gross Billings\n",
    "* Take Rate change causes:\n",
    "> * Owner Fee and Service Fee are the contributors to the growth of Take Rate for the last 24 months"
   ]
  },
  {
   "cell_type": "markdown",
   "metadata": {},
   "source": [
    "---"
   ]
  },
  {
   "cell_type": "markdown",
   "metadata": {},
   "source": [
    "<a href=\"#Head\"><font size=\"1.5\">BACK TO CONTENTS</font></a><a name=\"5.0\"></a><br/>\n",
    "\n",
    "## V. New Conversation Flow"
   ]
  },
  {
   "cell_type": "markdown",
   "metadata": {},
   "source": [
    "* Internal documents indicate that this recently acquired company was performing many A/B tests; we would like to investigate one\n",
    "* This platform had a conversation page where owners and service providers could exchange messages as they organized their booking\n",
    "* The team thought this page could use a re-design and set out to improve its UI\n",
    "* A product manager then set up a test to measure the new page's effectiveness\n",
    "* On 2017-03-13, an A/B test was launched\n",
    "* For those owners who sent a request, they would be randomly assigned to variant or holdout groups\n",
    "* Those users who are in the variant group would see the new conversation flow\n",
    "* However, those in the holdout group would see the old conversation flow\n",
    "* Providers would always see the old conversation flow"
   ]
  },
  {
   "cell_type": "markdown",
   "metadata": {},
   "source": [
    "<a href=\"#Head\"><font size=\"1.5\">BACK TO CONTENTS</font></a><a name=\"5.1\"></a><br/>\n",
    "\n",
    "### 5.1. Did conversations with the new conversation page book at a higher rate?"
   ]
  },
  {
   "cell_type": "code",
   "execution_count": 48,
   "metadata": {},
   "outputs": [
    {
     "data": {
      "text/html": [
       "<div>\n",
       "<style scoped>\n",
       "    .dataframe tbody tr th:only-of-type {\n",
       "        vertical-align: middle;\n",
       "    }\n",
       "\n",
       "    .dataframe tbody tr th {\n",
       "        vertical-align: top;\n",
       "    }\n",
       "\n",
       "    .dataframe thead th {\n",
       "        text-align: right;\n",
       "    }\n",
       "</style>\n",
       "<table border=\"1\" class=\"dataframe\">\n",
       "  <thead>\n",
       "    <tr style=\"text-align: right;\">\n",
       "      <th></th>\n",
       "      <th>id</th>\n",
       "      <th>test_name</th>\n",
       "      <th>test_group</th>\n",
       "      <th>added</th>\n",
       "      <th>person_id</th>\n",
       "    </tr>\n",
       "  </thead>\n",
       "  <tbody>\n",
       "    <tr>\n",
       "      <th>3630</th>\n",
       "      <td>65055</td>\n",
       "      <td>Email Test</td>\n",
       "      <td>variant</td>\n",
       "      <td>2017-04-11 07:16:03.916289</td>\n",
       "      <td>3631</td>\n",
       "    </tr>\n",
       "    <tr>\n",
       "      <th>4541</th>\n",
       "      <td>65966</td>\n",
       "      <td>Email Test</td>\n",
       "      <td>holdout</td>\n",
       "      <td>2016-07-26 17:47:19.431778</td>\n",
       "      <td>4542</td>\n",
       "    </tr>\n",
       "    <tr>\n",
       "      <th>39233</th>\n",
       "      <td>100658</td>\n",
       "      <td>Email Test</td>\n",
       "      <td>holdout</td>\n",
       "      <td>2016-05-25 05:13:44.441968</td>\n",
       "      <td>39234</td>\n",
       "    </tr>\n",
       "    <tr>\n",
       "      <th>30910</th>\n",
       "      <td>92335</td>\n",
       "      <td>Email Test</td>\n",
       "      <td>holdout</td>\n",
       "      <td>2017-07-09 11:25:07.173220</td>\n",
       "      <td>30911</td>\n",
       "    </tr>\n",
       "    <tr>\n",
       "      <th>7984</th>\n",
       "      <td>69409</td>\n",
       "      <td>Email Test</td>\n",
       "      <td>holdout</td>\n",
       "      <td>2016-10-23 16:14:51.518225</td>\n",
       "      <td>7985</td>\n",
       "    </tr>\n",
       "    <tr>\n",
       "      <th>59716</th>\n",
       "      <td>121141</td>\n",
       "      <td>Email Test</td>\n",
       "      <td>holdout</td>\n",
       "      <td>2016-05-22 15:05:46.969491</td>\n",
       "      <td>59717</td>\n",
       "    </tr>\n",
       "    <tr>\n",
       "      <th>18593</th>\n",
       "      <td>80018</td>\n",
       "      <td>Email Test</td>\n",
       "      <td>holdout</td>\n",
       "      <td>2016-05-27 04:01:51.285365</td>\n",
       "      <td>18594</td>\n",
       "    </tr>\n",
       "    <tr>\n",
       "      <th>18936</th>\n",
       "      <td>80361</td>\n",
       "      <td>Email Test</td>\n",
       "      <td>holdout</td>\n",
       "      <td>2015-11-21 02:22:54.458673</td>\n",
       "      <td>18937</td>\n",
       "    </tr>\n",
       "    <tr>\n",
       "      <th>36731</th>\n",
       "      <td>98156</td>\n",
       "      <td>Email Test</td>\n",
       "      <td>holdout</td>\n",
       "      <td>2017-01-29 14:38:02.088089</td>\n",
       "      <td>36732</td>\n",
       "    </tr>\n",
       "    <tr>\n",
       "      <th>66023</th>\n",
       "      <td>127448</td>\n",
       "      <td>New Conversation Flow</td>\n",
       "      <td>variant</td>\n",
       "      <td>2017-04-28 18:58:49.199229</td>\n",
       "      <td>62200</td>\n",
       "    </tr>\n",
       "  </tbody>\n",
       "</table>\n",
       "</div>"
      ],
      "text/plain": [
       "           id              test_name test_group                       added  person_id\n",
       "3630    65055             Email Test    variant  2017-04-11 07:16:03.916289       3631\n",
       "4541    65966             Email Test    holdout  2016-07-26 17:47:19.431778       4542\n",
       "39233  100658             Email Test    holdout  2016-05-25 05:13:44.441968      39234\n",
       "30910   92335             Email Test    holdout  2017-07-09 11:25:07.173220      30911\n",
       "7984    69409             Email Test    holdout  2016-10-23 16:14:51.518225       7985\n",
       "59716  121141             Email Test    holdout  2016-05-22 15:05:46.969491      59717\n",
       "18593   80018             Email Test    holdout  2016-05-27 04:01:51.285365      18594\n",
       "18936   80361             Email Test    holdout  2015-11-21 02:22:54.458673      18937\n",
       "36731   98156             Email Test    holdout  2017-01-29 14:38:02.088089      36732\n",
       "66023  127448  New Conversation Flow    variant  2017-04-28 18:58:49.199229      62200"
      ]
     },
     "execution_count": 48,
     "metadata": {},
     "output_type": "execute_result"
    }
   ],
   "source": [
    "test_data = pd.read_sql_query(\n",
    "'''\n",
    "SELECT\n",
    "    *\n",
    "FROM\n",
    "    people_testsegmentation \n",
    ";\n",
    "'''\n",
    ", connection)\n",
    "test_data.sample(10)"
   ]
  },
  {
   "cell_type": "code",
   "execution_count": 49,
   "metadata": {},
   "outputs": [
    {
     "data": {
      "text/html": [
       "<div>\n",
       "<style scoped>\n",
       "    .dataframe tbody tr th:only-of-type {\n",
       "        vertical-align: middle;\n",
       "    }\n",
       "\n",
       "    .dataframe tbody tr th {\n",
       "        vertical-align: top;\n",
       "    }\n",
       "\n",
       "    .dataframe thead th {\n",
       "        text-align: right;\n",
       "    }\n",
       "</style>\n",
       "<table border=\"1\" class=\"dataframe\">\n",
       "  <thead>\n",
       "    <tr style=\"text-align: right;\">\n",
       "      <th></th>\n",
       "      <th>test_name</th>\n",
       "      <th>test_group</th>\n",
       "      <th>id_number</th>\n",
       "    </tr>\n",
       "  </thead>\n",
       "  <tbody>\n",
       "    <tr>\n",
       "      <th>0</th>\n",
       "      <td>Email Test</td>\n",
       "      <td>holdout</td>\n",
       "      <td>48378</td>\n",
       "    </tr>\n",
       "    <tr>\n",
       "      <th>1</th>\n",
       "      <td>Email Test</td>\n",
       "      <td>variant</td>\n",
       "      <td>16038</td>\n",
       "    </tr>\n",
       "    <tr>\n",
       "      <th>2</th>\n",
       "      <td>New Conversation Flow</td>\n",
       "      <td>holdout</td>\n",
       "      <td>11751</td>\n",
       "    </tr>\n",
       "    <tr>\n",
       "      <th>3</th>\n",
       "      <td>New Conversation Flow</td>\n",
       "      <td>variant</td>\n",
       "      <td>11749</td>\n",
       "    </tr>\n",
       "  </tbody>\n",
       "</table>\n",
       "</div>"
      ],
      "text/plain": [
       "               test_name test_group  id_number\n",
       "0             Email Test    holdout      48378\n",
       "1             Email Test    variant      16038\n",
       "2  New Conversation Flow    holdout      11751\n",
       "3  New Conversation Flow    variant      11749"
      ]
     },
     "execution_count": 49,
     "metadata": {},
     "output_type": "execute_result"
    }
   ],
   "source": [
    "test_data_by_name = pd.read_sql_query(\n",
    "'''\n",
    "SELECT\n",
    "    test_name AS test_name,\n",
    "    test_group AS test_group,\n",
    "    COUNT (person_id) AS id_number\n",
    "    --COUNT (DISTINCT person_id) AS id_unique_number\n",
    "FROM\n",
    "    people_testsegmentation \n",
    "GROUP BY\n",
    "    test_name,\n",
    "    test_group\n",
    ";\n",
    "'''\n",
    ", connection)\n",
    "test_data_by_name"
   ]
  },
  {
   "cell_type": "markdown",
   "metadata": {},
   "source": [
    "> * Two tests were performed: \"Email Test\" and \"New Conversation Flow\"\n",
    "> * We will look at \"New Conversation Flow\" test (23 500 unique id)\n",
    "> * Test groups are equal in quantity (diff<1%) - test possible"
   ]
  },
  {
   "cell_type": "code",
   "execution_count": 50,
   "metadata": {},
   "outputs": [
    {
     "name": "stdout",
     "output_type": "stream",
     "text": [
      "<class 'pandas.core.frame.DataFrame'>\n",
      "Int64Index: 23500 entries, 64416 to 87915\n",
      "Data columns (total 6 columns):\n",
      " #   Column      Non-Null Count  Dtype         \n",
      "---  ------      --------------  -----         \n",
      " 0   id          23500 non-null  int64         \n",
      " 1   test_name   23500 non-null  object        \n",
      " 2   test_group  23500 non-null  object        \n",
      " 3   added       23500 non-null  object        \n",
      " 4   person_id   23500 non-null  int64         \n",
      " 5   date        23500 non-null  datetime64[ns]\n",
      "dtypes: datetime64[ns](1), int64(2), object(3)\n",
      "memory usage: 1.3+ MB\n"
     ]
    }
   ],
   "source": [
    "# check the period of test\n",
    "\n",
    "# set date column\n",
    "test_data['date'] = pd.to_datetime(test_data['added'], format='%Y-%m')\n",
    "\n",
    "# query data for the test\n",
    "focus_test_data = test_data.query('test_name == \"New Conversation Flow\"')\n",
    "focus_test_data.info()"
   ]
  },
  {
   "cell_type": "code",
   "execution_count": 51,
   "metadata": {},
   "outputs": [
    {
     "name": "stdout",
     "output_type": "stream",
     "text": [
      "2017-03-13 03:14:31.362316\n",
      "2017-07-10 21:19:32.859193\n"
     ]
    }
   ],
   "source": [
    "print(focus_test_data['date'].min())\n",
    "print(focus_test_data['date'].max())"
   ]
  },
  {
   "cell_type": "code",
   "execution_count": 52,
   "metadata": {},
   "outputs": [
    {
     "data": {
      "image/png": "[encoded data removed]",
      "text/plain": [
       "<Figure size 1008x288 with 1 Axes>"
      ]
     },
     "metadata": {},
     "output_type": "display_data"
    }
   ],
   "source": [
    "# Hist plot - observations by date\n",
    "\n",
    "plt.figure(figsize=(14,4))\n",
    "focus_test_data['date'].hist(bins=30)\n",
    "plt.title('Observations distribution over test period', fontsize=20)\n",
    "plt.ylabel('Observations', fontsize=16)\n",
    "plt.xlabel('Date', fontsize=16)\n",
    "plt.show()"
   ]
  },
  {
   "cell_type": "markdown",
   "metadata": {},
   "source": [
    "> * Period is given right: starts on 2017-03-13 and end on 2017-07-10"
   ]
  },
  {
   "cell_type": "code",
   "execution_count": 53,
   "metadata": {},
   "outputs": [
    {
     "name": "stdout",
     "output_type": "stream",
     "text": [
      "11751\n",
      "11749\n"
     ]
    }
   ],
   "source": [
    "# check whether person is unique in each test groups\n",
    "focus_test_data_holdout_list = focus_test_data.query('test_group == \"holdout\"')['person_id'].drop_duplicates().to_list()\n",
    "print(len(focus_test_data_holdout_list))\n",
    "focus_test_data_variant_list = focus_test_data.query('test_group == \"variant\"')['person_id'].drop_duplicates().to_list()\n",
    "print(len(focus_test_data_variant_list))"
   ]
  },
  {
   "cell_type": "code",
   "execution_count": 54,
   "metadata": {},
   "outputs": [],
   "source": [
    "# to check if one list contains person id of another list\n",
    "def list_contains(list1, list2): \n",
    "    check = False\n",
    "  \n",
    "    for a in list1:\n",
    "        for b in list2:\n",
    "            if a == b: \n",
    "                check = True\n",
    "                return check  \n",
    "                  \n",
    "    return check"
   ]
  },
  {
   "cell_type": "code",
   "execution_count": 55,
   "metadata": {},
   "outputs": [
    {
     "data": {
      "text/plain": [
       "False"
      ]
     },
     "execution_count": 55,
     "metadata": {},
     "output_type": "execute_result"
    }
   ],
   "source": [
    "list_contains(focus_test_data_holdout_list, focus_test_data_variant_list)"
   ]
  },
  {
   "cell_type": "markdown",
   "metadata": {},
   "source": [
    "> * We have unique users in each test group - test possible"
   ]
  },
  {
   "cell_type": "code",
   "execution_count": 56,
   "metadata": {},
   "outputs": [
    {
     "data": {
      "text/html": [
       "<div>\n",
       "<style scoped>\n",
       "    .dataframe tbody tr th:only-of-type {\n",
       "        vertical-align: middle;\n",
       "    }\n",
       "\n",
       "    .dataframe tbody tr th {\n",
       "        vertical-align: top;\n",
       "    }\n",
       "\n",
       "    .dataframe thead th {\n",
       "        text-align: right;\n",
       "    }\n",
       "</style>\n",
       "<table border=\"1\" class=\"dataframe\">\n",
       "  <thead>\n",
       "    <tr style=\"text-align: right;\">\n",
       "      <th></th>\n",
       "      <th>test_name</th>\n",
       "      <th>test_group</th>\n",
       "      <th>requests_number</th>\n",
       "      <th>booked_number</th>\n",
       "      <th>booking_rate</th>\n",
       "    </tr>\n",
       "  </thead>\n",
       "  <tbody>\n",
       "    <tr>\n",
       "      <th>0</th>\n",
       "      <td>New Conversation Flow</td>\n",
       "      <td>holdout</td>\n",
       "      <td>22895</td>\n",
       "      <td>9174</td>\n",
       "      <td>40.07</td>\n",
       "    </tr>\n",
       "    <tr>\n",
       "      <th>1</th>\n",
       "      <td>New Conversation Flow</td>\n",
       "      <td>variant</td>\n",
       "      <td>22941</td>\n",
       "      <td>10136</td>\n",
       "      <td>44.18</td>\n",
       "    </tr>\n",
       "  </tbody>\n",
       "</table>\n",
       "</div>"
      ],
      "text/plain": [
       "               test_name test_group  requests_number  booked_number booking_rate\n",
       "0  New Conversation Flow    holdout            22895           9174        40.07\n",
       "1  New Conversation Flow    variant            22941          10136        44.18"
      ]
     },
     "execution_count": 56,
     "metadata": {},
     "output_type": "execute_result"
    }
   ],
   "source": [
    "# data for hypothesis testing with \"New Conversation Flow\" data and start date - 2017-03-13\n",
    "\n",
    "booking_rate_by_test_group = pd.read_sql_query(\n",
    "'''\n",
    "SELECT\n",
    "    people_testsegmentation.test_name AS test_name,\n",
    "    people_testsegmentation.test_group AS test_group,\n",
    "    COUNT (conversations_conversation.id) AS requests_number,\n",
    "    COUNT (conversations_conversation.booked_at) AS booked_number,\n",
    "    printf (\"%.2f\", \n",
    "        COUNT (conversations_conversation.booked_at) *100 / \n",
    "            CAST (COUNT (conversations_conversation.id) as real) ) AS booking_rate\n",
    "FROM\n",
    "    conversations_conversation\n",
    "LEFT JOIN services_service ON services_service.id = conversations_conversation.service_id\n",
    "LEFT JOIN people_testsegmentation ON people_testsegmentation.person_id = conversations_conversation.requester_id\n",
    "WHERE\n",
    "    people_testsegmentation.test_name = \"New Conversation Flow\" AND\n",
    "    people_testsegmentation.added >= 2017-03-13\n",
    "GROUP BY\n",
    "    people_testsegmentation.test_name,\n",
    "    people_testsegmentation.test_group    \n",
    ";\n",
    "'''\n",
    ", connection)\n",
    "booking_rate_by_test_group"
   ]
  },
  {
   "cell_type": "markdown",
   "metadata": {},
   "source": [
    "> * There is 4.11 p.p. higher booking rate with new conversation page (44.18 vs. 40.07)"
   ]
  },
  {
   "cell_type": "markdown",
   "metadata": {},
   "source": [
    "<a href=\"#Head\"><font size=\"1.5\">BACK TO CONTENTS</font></a><a name=\"5.2\"></a><br/>\n",
    "\n",
    "### 5.2. Is it statistically significant?"
   ]
  },
  {
   "cell_type": "markdown",
   "metadata": {},
   "source": [
    "* To prove whether this difference is statistically significant we can use Z-test []\n",
    "* Null hypothesis: the share of bookings by group \"variant\" is equal to the share of bookings by group \"holdout\""
   ]
  },
  {
   "cell_type": "code",
   "execution_count": 57,
   "metadata": {},
   "outputs": [],
   "source": [
    "bookings_holdout = booking_rate_by_test_group['booked_number'][0]\n",
    "requests_holdout = booking_rate_by_test_group['requests_number'][0]\n",
    "bookings_variant = booking_rate_by_test_group['booked_number'][1]\n",
    "requests_variant = booking_rate_by_test_group['requests_number'][1]"
   ]
  },
  {
   "cell_type": "code",
   "execution_count": 58,
   "metadata": {},
   "outputs": [
    {
     "name": "stdout",
     "output_type": "stream",
     "text": [
      "p-value:  0.0\n",
      "Reject the null hypothesis: there is a significant difference between shares\n"
     ]
    }
   ],
   "source": [
    "alpha = 0.05\n",
    "\n",
    "bookings = np.array([bookings_variant, bookings_holdout])\n",
    "requests = np.array([requests_variant, requests_holdout])\n",
    "\n",
    "# booking ratio per group\n",
    "p1 = bookings[0]/requests[0]\n",
    "p2 = bookings[1]/requests[1]\n",
    "\n",
    "# booking ratio in combined set:\n",
    "p_combined = (bookings[0] + bookings[1]) / (requests[0] + requests[1])\n",
    "\n",
    "# difference of ratio in sets\n",
    "difference = p1 - p2\n",
    "\n",
    "# get statistics in the standard deviations on standard normal distribution\n",
    "z_score = difference / mth.sqrt(p_combined * (1 - p_combined) * (1/requests[0] + 1/requests[1]))\n",
    "\n",
    "# set standard normal distribution (mean 0, standard deviation 1)\n",
    "distr = st.norm(0, 1)\n",
    "\n",
    "p_value = (1 - distr.cdf(abs(z_score))) * 2\n",
    "\n",
    "print('p-value: ', p_value)\n",
    "\n",
    "if (p_value < alpha):\n",
    "    print(\"Reject the null hypothesis: there is a significant difference between shares\")\n",
    "else:\n",
    "    print(\"Not possible to reject the null hypothesis, there is no reason to consider shares different\")"
   ]
  },
  {
   "cell_type": "markdown",
   "metadata": {},
   "source": [
    "> * Probability: p-value is far less than alpha (5%) - shares are not equil\n",
    "> * Z-test outcome shows a significant difference between share of bookings with \"new\" conversation page vs. share of bookings with \"standard\" conversation page"
   ]
  },
  {
   "cell_type": "markdown",
   "metadata": {},
   "source": [
    "<a href=\"#Head\"><font size=\"1.5\">BACK TO CONTENTS</font></a><a name=\"5.3\"></a><br/>\n",
    "\n",
    "### 5.3. What would you recommend as next steps?"
   ]
  },
  {
   "cell_type": "markdown",
   "metadata": {},
   "source": [
    "> * As we have confirmed that new conversation page brings higher conversion rate, the next step would be to implement it for the permanent usage for owners\n",
    "> * Would be a good idea to run test with the providers to be sure this new feature could be implemented for them as well"
   ]
  },
  {
   "cell_type": "markdown",
   "metadata": {},
   "source": [
    "----"
   ]
  },
  {
   "cell_type": "markdown",
   "metadata": {},
   "source": [
    "<a href=\"#Head\"><font size=\"1.5\">BACK TO CONTENTS</font></a><a name=\"6.0\"></a><br/>\n",
    "\n",
    "## SUMMARY"
   ]
  },
  {
   "cell_type": "markdown",
   "metadata": {},
   "source": [
    "### To summarize all we have got from each step in analysis\n",
    "\n",
    "#### Reviews on service provider or service requester:\n",
    "> * Number of reviews: requesters (owners) give 5 times more reviews than providers\n",
    "> * Owners tend to give more 5-star reviews from total number (76%), providers give reviews to other stars (1 to 4) twice more than requestors: ~11% vs. ~6%\n",
    "> * Totally owners’ share by each star are at least two times higher than providers' one\n",
    "\n",
    "#### Average price per service differs from one to another: \"boarding\" has the highest\n",
    "> * Boarding - the highest price near 34.5 Dollars\n",
    "> * Day-care - second price with 27 Dollars\n",
    "> * Dog-walking - lowest price per service with 22 Dollars\n",
    "\n",
    "#### Booking rate per service: \"dog-walking\" has the highest\n",
    "> * Boarding - 41%\n",
    "> * Day-care - 36%\n",
    "> * Dog-walking - 48%, the highest among all\n",
    "\n",
    "#### Cancellation rates by service: almost equal among all\n",
    "> * Boarding - 9.7%\n",
    "> * Day-care - 9.8%\n",
    "> * Dog-walking - 9.5% - the lowest cancellation rate among all\n",
    "\n",
    "#### Last month data to show decline - causes\n",
    "> * As soon as we have the snapshot of the database which was taken on 2017-07-11 at midnight and only contains data reflecting events prior to that date, there is no data with conversations happened later than this cut and not all of the bookings were uploaded\n",
    "> * There no reason to be concerned about it, data will be uploaded later with next update\n",
    "\n",
    "#### Gross Billings and Net Revenue:\n",
    "> * We see confidently growing figures of Gross Billing and Net Revenue over two years\n",
    "> * During 2016 Net Revenue demonstrates slightly lower trend vs. Gross Billing\n",
    "> * Since February 2017 till June 2017 we notice distinct growth in Gross Billings and Net Revenue\n",
    "> * As we already know we should not look at the 2017 July data as soon as it was not updated yet\n",
    "\n",
    "#### Take Rate (Net Revenue percentage out of Gross Billing):\n",
    "> * Data range is 25 months: Jul 2015 - Jul 2017\n",
    "> * First months of the period the take rate is almost 17%\n",
    "> * Latest data shows 24% Take Rate in Jul 2017\n",
    "\n",
    "#### Trend in Take Rate:\n",
    "> * First observations in 2015 (Jul-Nov) show 16.67% as aggregated Take Rate level\n",
    "> * There is visible growth started Dec 2015 at 17.89% and reached 24.08% Jul 2017\n",
    "> * We can definitely see the growth in Net Revenue share in Gross Billings\n",
    "\n",
    "#### Take Rate change causes:\n",
    "> * Owner Fee and Service Fee are the contributors to the growth of Take Rate for the last 24 months\n",
    "\n",
    "#### A/B Test analysis: \"Did conversations with the new conversation page book at a higher rate?\"\n",
    "> * \"New Conversation Flow\" test covers 23 500 unique owner id\n",
    "> * There is 4.11 p.p. higher booking rate with new conversation page (44.18 vs. 40.07)\n",
    "> * Z-test outcome shows a significant difference between share of bookings with \"new\" conversation page vs. share of bookings with \"standard\" conversation page\n",
    "> * As we have confirmed that new conversation page brings higher conversion rate, the next step would be to implement it for the permanent usage for owners\n",
    "> * Would be a good idea to run test with the providers to be sure this new feature could be implemented for them as well\n"
   ]
  },
  {
   "cell_type": "markdown",
   "metadata": {},
   "source": [
    "<a href=\"#TOP\"><font size=\"0.5\">TO THE TOP</font></a><a name=\"END\"></a><br/>"
   ]
  },
  {
   "cell_type": "markdown",
   "metadata": {},
   "source": [
    "---"
   ]
  }
 ],
 "metadata": {
  "kernelspec": {
   "display_name": "Python 3",
   "language": "python",
   "name": "python3"
  },
  "language_info": {
   "codemirror_mode": {
    "name": "ipython",
    "version": 3
   },
   "file_extension": ".py",
   "mimetype": "text/x-python",
   "name": "python",
   "nbconvert_exporter": "python",
   "pygments_lexer": "ipython3",
   "version": "3.7.7"
  }
 },
 "nbformat": 4,
 "nbformat_minor": 2
}
