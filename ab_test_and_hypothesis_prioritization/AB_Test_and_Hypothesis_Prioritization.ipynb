{
 "cells": [
  {
   "cell_type": "markdown",
   "metadata": {
    "colab_type": "text",
    "id": "kyeXae8zMOSs"
   },
   "source": [
    "# Data Analysis Name: A/B Test and Hypotheses Prioritization"
   ]
  },
  {
   "cell_type": "markdown",
   "metadata": {},
   "source": [
    "<a name=\"Head\"></a>\n",
    "### CONTENTS:\n",
    "* [Project Description](#1.0)\n",
    "* [Data Source](#1.5)\n",
    "* [Part 1. Hypothesis Prioritization](#2.0)\n",
    "> * [Part 1. Conclusion](#2.1)\n",
    "* [Part 2. A / B Test Analysis](#3.0)\n",
    "> * [Part 2.1 Build a plot of cumulative revenue by group.](#3.1)\n",
    "> * [Part 2.2 Build a cumulative average cheque plot for groups.](#3.2)\n",
    "> * [Part 2.3 Build a plot for the relative change in the cumulative average cheque of group B to group A.](#3.3)\n",
    "> * [Part 2.4 Build a cumulative conversion plot for groups.](#3.4)\n",
    "> * [Part 2.5 Build a plot for the relative change in the cumulative conversion of group B to group A.](#3.5)\n",
    "> * [Part 2.6 Build a scatter plot for the number of orders by visitors.](#3.6)\n",
    "> * [Part 2.7 Count the 95th and 99th percentiles of the number of orders per visitor.](#3.7)\n",
    "> * [Part 2.8 Build a scatter plot of order values.](#3.8)\n",
    "> * [Part 2.9 Calculate the 95th and 99th percentiles of order values.](#3.9)\n",
    "> * [Part 2.10 Calculate the statistical significance of difference in conversion between groups from raw data.](#3.10)\n",
    "> * [Part 2.11 Calculate the statistical significance of difference in average cheques between groups by raw data.](#3.11)\n",
    "> * [Part 2.12 Calculate the statistical significance of difference in conversion between groups using refined data.](#3.12)\n",
    "> * [Part 2.13 Calculate the statistical significance of difference in average cheques between groups on refined data.](#3.13)\n",
    "> * [Part 2.14 Decision based on the test results.](#3.14)\n",
    "> * [Part 2. Conclusion](#3.15)\n",
    "* [Project Overall Conclusion](#4.0)"
   ]
  },
  {
   "cell_type": "markdown",
   "metadata": {},
   "source": [
    "<a href=\"#Head\"><font size=\"2\">BACK TO CONTENTS</font></a><a name=\"1.0\"></a><br/>\n",
    "\n",
    "# Project Description \n",
    "- Location: Online Store\n",
    "- Together with the marketing department, prepare a list of hypotheses for increasing revenue\n",
    "- Prioritize hypotheses, run an A / B test and analyze the results"
   ]
  },
  {
   "cell_type": "markdown",
   "metadata": {
    "colab_type": "text",
    "id": "EZmT9L9sMOSw"
   },
   "source": [
    "<a href=\"#Head\"><font size=\"2\">BACK TO CONTENTS</font></a><a name=\"1.5\"></a><br/>\n",
    "\n",
    "## Data Source\n",
    "- We have three dataframes\n",
    "> - Hypotheses list with ranking\n",
    "> - Orders data\n",
    "> - Visitors data"
   ]
  },
  {
   "cell_type": "code",
   "execution_count": 1,
   "metadata": {
    "colab": {},
    "colab_type": "code",
    "id": "A_RfzjMuMOSz"
   },
   "outputs": [],
   "source": [
    "import pandas as pd\n",
    "import datetime as dt\n",
    "import numpy as np\n",
    "import matplotlib.pyplot as plt\n",
    "import seaborn as sns\n",
    "import warnings\n",
    "import scipy.stats as stats"
   ]
  },
  {
   "cell_type": "code",
   "execution_count": 2,
   "metadata": {
    "colab": {},
    "colab_type": "code",
    "id": "d-SpZU-rMOS6"
   },
   "outputs": [],
   "source": [
    "pd.set_option('display.max_rows', 100)\n",
    "pd.set_option('display.max_columns', 100)\n",
    "pd.set_option('display.width', 115)\n",
    "pd.set_option('display.float_format', lambda x: '%.3f' % x)\n",
    "warnings.filterwarnings('ignore')"
   ]
  },
  {
   "cell_type": "code",
   "execution_count": 3,
   "metadata": {},
   "outputs": [],
   "source": [
    "#pwd"
   ]
  },
  {
   "cell_type": "code",
   "execution_count": 4,
   "metadata": {
    "colab": {},
    "colab_type": "code",
    "id": "INcQ8qoPMOTA"
   },
   "outputs": [],
   "source": [
    "hypothesis_list = pd.read_csv('D:/csv_for_data_analysis/hypothesis_list_local_copy.csv')\n",
    "\n",
    "orders_row_data = pd.read_csv('D:/csv_for_data_analysis/orders_row_data_local_copy.csv')\n",
    "\n",
    "visitors_raw_data = pd.read_csv('D:/csv_for_data_analysis/visitors_raw_data_local_copy.csv')"
   ]
  },
  {
   "cell_type": "code",
   "execution_count": 5,
   "metadata": {
    "colab": {},
    "colab_type": "code",
    "id": "KxzepWk9MOTH",
    "outputId": "826c19ba-2014-4872-c757-10b0accbe8f3"
   },
   "outputs": [
    {
     "data": {
      "text/html": [
       "<div>\n",
       "<style scoped>\n",
       "    .dataframe tbody tr th:only-of-type {\n",
       "        vertical-align: middle;\n",
       "    }\n",
       "\n",
       "    .dataframe tbody tr th {\n",
       "        vertical-align: top;\n",
       "    }\n",
       "\n",
       "    .dataframe thead th {\n",
       "        text-align: right;\n",
       "    }\n",
       "</style>\n",
       "<table border=\"1\" class=\"dataframe\">\n",
       "  <thead>\n",
       "    <tr style=\"text-align: right;\">\n",
       "      <th></th>\n",
       "      <th>Hypothesis</th>\n",
       "      <th>Reach</th>\n",
       "      <th>Impact</th>\n",
       "      <th>Confidence</th>\n",
       "      <th>Efforts</th>\n",
       "    </tr>\n",
       "  </thead>\n",
       "  <tbody>\n",
       "    <tr>\n",
       "      <th>0</th>\n",
       "      <td>Add two new channels to attract traffic which ...</td>\n",
       "      <td>3</td>\n",
       "      <td>10</td>\n",
       "      <td>8</td>\n",
       "      <td>6</td>\n",
       "    </tr>\n",
       "    <tr>\n",
       "      <th>1</th>\n",
       "      <td>Launch your own delivery service which will sh...</td>\n",
       "      <td>2</td>\n",
       "      <td>5</td>\n",
       "      <td>4</td>\n",
       "      <td>10</td>\n",
       "    </tr>\n",
       "    <tr>\n",
       "      <th>2</th>\n",
       "      <td>Add blocks of product recommendations to the w...</td>\n",
       "      <td>8</td>\n",
       "      <td>3</td>\n",
       "      <td>7</td>\n",
       "      <td>3</td>\n",
       "    </tr>\n",
       "    <tr>\n",
       "      <th>3</th>\n",
       "      <td>Change the structure of categories which will ...</td>\n",
       "      <td>8</td>\n",
       "      <td>3</td>\n",
       "      <td>3</td>\n",
       "      <td>8</td>\n",
       "    </tr>\n",
       "    <tr>\n",
       "      <th>4</th>\n",
       "      <td>Change the background color of the home page t...</td>\n",
       "      <td>3</td>\n",
       "      <td>1</td>\n",
       "      <td>1</td>\n",
       "      <td>1</td>\n",
       "    </tr>\n",
       "    <tr>\n",
       "      <th>5</th>\n",
       "      <td>Add a page of customer reviews about the store...</td>\n",
       "      <td>3</td>\n",
       "      <td>2</td>\n",
       "      <td>2</td>\n",
       "      <td>3</td>\n",
       "    </tr>\n",
       "    <tr>\n",
       "      <th>6</th>\n",
       "      <td>Show banners with current promotions and sales...</td>\n",
       "      <td>5</td>\n",
       "      <td>3</td>\n",
       "      <td>8</td>\n",
       "      <td>3</td>\n",
       "    </tr>\n",
       "    <tr>\n",
       "      <th>7</th>\n",
       "      <td>Add a subscription form to all the main pages ...</td>\n",
       "      <td>10</td>\n",
       "      <td>7</td>\n",
       "      <td>8</td>\n",
       "      <td>5</td>\n",
       "    </tr>\n",
       "    <tr>\n",
       "      <th>8</th>\n",
       "      <td>Launch a promotion giving a discount on a birt...</td>\n",
       "      <td>1</td>\n",
       "      <td>9</td>\n",
       "      <td>9</td>\n",
       "      <td>5</td>\n",
       "    </tr>\n",
       "  </tbody>\n",
       "</table>\n",
       "</div>"
      ],
      "text/plain": [
       "                                          Hypothesis  Reach  Impact  Confidence  Efforts\n",
       "0  Add two new channels to attract traffic which ...      3      10           8        6\n",
       "1  Launch your own delivery service which will sh...      2       5           4       10\n",
       "2  Add blocks of product recommendations to the w...      8       3           7        3\n",
       "3  Change the structure of categories which will ...      8       3           3        8\n",
       "4  Change the background color of the home page t...      3       1           1        1\n",
       "5  Add a page of customer reviews about the store...      3       2           2        3\n",
       "6  Show banners with current promotions and sales...      5       3           8        3\n",
       "7  Add a subscription form to all the main pages ...     10       7           8        5\n",
       "8  Launch a promotion giving a discount on a birt...      1       9           9        5"
      ]
     },
     "execution_count": 5,
     "metadata": {},
     "output_type": "execute_result"
    }
   ],
   "source": [
    "hypothesis_list"
   ]
  },
  {
   "cell_type": "code",
   "execution_count": 6,
   "metadata": {
    "colab": {},
    "colab_type": "code",
    "id": "wp3PojBrMOTQ",
    "outputId": "5dff59c2-bca9-46ea-b1aa-b046eb88fcd9"
   },
   "outputs": [
    {
     "data": {
      "text/html": [
       "<div>\n",
       "<style scoped>\n",
       "    .dataframe tbody tr th:only-of-type {\n",
       "        vertical-align: middle;\n",
       "    }\n",
       "\n",
       "    .dataframe tbody tr th {\n",
       "        vertical-align: top;\n",
       "    }\n",
       "\n",
       "    .dataframe thead th {\n",
       "        text-align: right;\n",
       "    }\n",
       "</style>\n",
       "<table border=\"1\" class=\"dataframe\">\n",
       "  <thead>\n",
       "    <tr style=\"text-align: right;\">\n",
       "      <th></th>\n",
       "      <th>transactionId</th>\n",
       "      <th>visitorId</th>\n",
       "      <th>date</th>\n",
       "      <th>revenue</th>\n",
       "      <th>group</th>\n",
       "    </tr>\n",
       "  </thead>\n",
       "  <tbody>\n",
       "    <tr>\n",
       "      <th>0</th>\n",
       "      <td>3667963787</td>\n",
       "      <td>3312258926</td>\n",
       "      <td>2019-08-15</td>\n",
       "      <td>1650</td>\n",
       "      <td>B</td>\n",
       "    </tr>\n",
       "    <tr>\n",
       "      <th>1</th>\n",
       "      <td>2804400009</td>\n",
       "      <td>3642806036</td>\n",
       "      <td>2019-08-15</td>\n",
       "      <td>730</td>\n",
       "      <td>B</td>\n",
       "    </tr>\n",
       "    <tr>\n",
       "      <th>2</th>\n",
       "      <td>2961555356</td>\n",
       "      <td>4069496402</td>\n",
       "      <td>2019-08-15</td>\n",
       "      <td>400</td>\n",
       "      <td>A</td>\n",
       "    </tr>\n",
       "    <tr>\n",
       "      <th>3</th>\n",
       "      <td>3797467345</td>\n",
       "      <td>1196621759</td>\n",
       "      <td>2019-08-15</td>\n",
       "      <td>9759</td>\n",
       "      <td>B</td>\n",
       "    </tr>\n",
       "    <tr>\n",
       "      <th>4</th>\n",
       "      <td>2282983706</td>\n",
       "      <td>2322279887</td>\n",
       "      <td>2019-08-15</td>\n",
       "      <td>2308</td>\n",
       "      <td>B</td>\n",
       "    </tr>\n",
       "    <tr>\n",
       "      <th>...</th>\n",
       "      <td>...</td>\n",
       "      <td>...</td>\n",
       "      <td>...</td>\n",
       "      <td>...</td>\n",
       "      <td>...</td>\n",
       "    </tr>\n",
       "    <tr>\n",
       "      <th>1192</th>\n",
       "      <td>2662137336</td>\n",
       "      <td>3733762160</td>\n",
       "      <td>2019-08-14</td>\n",
       "      <td>6490</td>\n",
       "      <td>B</td>\n",
       "    </tr>\n",
       "    <tr>\n",
       "      <th>1193</th>\n",
       "      <td>2203539145</td>\n",
       "      <td>370388673</td>\n",
       "      <td>2019-08-14</td>\n",
       "      <td>3190</td>\n",
       "      <td>A</td>\n",
       "    </tr>\n",
       "    <tr>\n",
       "      <th>1194</th>\n",
       "      <td>1807773912</td>\n",
       "      <td>573423106</td>\n",
       "      <td>2019-08-14</td>\n",
       "      <td>10550</td>\n",
       "      <td>A</td>\n",
       "    </tr>\n",
       "    <tr>\n",
       "      <th>1195</th>\n",
       "      <td>1947021204</td>\n",
       "      <td>1614305549</td>\n",
       "      <td>2019-08-14</td>\n",
       "      <td>100</td>\n",
       "      <td>A</td>\n",
       "    </tr>\n",
       "    <tr>\n",
       "      <th>1196</th>\n",
       "      <td>3936777065</td>\n",
       "      <td>2108080724</td>\n",
       "      <td>2019-08-15</td>\n",
       "      <td>202740</td>\n",
       "      <td>B</td>\n",
       "    </tr>\n",
       "  </tbody>\n",
       "</table>\n",
       "<p>1197 rows × 5 columns</p>\n",
       "</div>"
      ],
      "text/plain": [
       "      transactionId   visitorId        date  revenue group\n",
       "0        3667963787  3312258926  2019-08-15     1650     B\n",
       "1        2804400009  3642806036  2019-08-15      730     B\n",
       "2        2961555356  4069496402  2019-08-15      400     A\n",
       "3        3797467345  1196621759  2019-08-15     9759     B\n",
       "4        2282983706  2322279887  2019-08-15     2308     B\n",
       "...             ...         ...         ...      ...   ...\n",
       "1192     2662137336  3733762160  2019-08-14     6490     B\n",
       "1193     2203539145   370388673  2019-08-14     3190     A\n",
       "1194     1807773912   573423106  2019-08-14    10550     A\n",
       "1195     1947021204  1614305549  2019-08-14      100     A\n",
       "1196     3936777065  2108080724  2019-08-15   202740     B\n",
       "\n",
       "[1197 rows x 5 columns]"
      ]
     },
     "execution_count": 6,
     "metadata": {},
     "output_type": "execute_result"
    }
   ],
   "source": [
    "orders_row_data"
   ]
  },
  {
   "cell_type": "code",
   "execution_count": 7,
   "metadata": {
    "colab": {},
    "colab_type": "code",
    "id": "5mJpSP9vMOTX",
    "outputId": "cbded3be-c2ba-46f5-d021-71a3ddd96ffd"
   },
   "outputs": [
    {
     "data": {
      "text/html": [
       "<div>\n",
       "<style scoped>\n",
       "    .dataframe tbody tr th:only-of-type {\n",
       "        vertical-align: middle;\n",
       "    }\n",
       "\n",
       "    .dataframe tbody tr th {\n",
       "        vertical-align: top;\n",
       "    }\n",
       "\n",
       "    .dataframe thead th {\n",
       "        text-align: right;\n",
       "    }\n",
       "</style>\n",
       "<table border=\"1\" class=\"dataframe\">\n",
       "  <thead>\n",
       "    <tr style=\"text-align: right;\">\n",
       "      <th></th>\n",
       "      <th>date</th>\n",
       "      <th>group</th>\n",
       "      <th>visitors</th>\n",
       "    </tr>\n",
       "  </thead>\n",
       "  <tbody>\n",
       "    <tr>\n",
       "      <th>0</th>\n",
       "      <td>2019-08-01</td>\n",
       "      <td>A</td>\n",
       "      <td>719</td>\n",
       "    </tr>\n",
       "    <tr>\n",
       "      <th>1</th>\n",
       "      <td>2019-08-02</td>\n",
       "      <td>A</td>\n",
       "      <td>619</td>\n",
       "    </tr>\n",
       "    <tr>\n",
       "      <th>2</th>\n",
       "      <td>2019-08-03</td>\n",
       "      <td>A</td>\n",
       "      <td>507</td>\n",
       "    </tr>\n",
       "    <tr>\n",
       "      <th>3</th>\n",
       "      <td>2019-08-04</td>\n",
       "      <td>A</td>\n",
       "      <td>717</td>\n",
       "    </tr>\n",
       "    <tr>\n",
       "      <th>4</th>\n",
       "      <td>2019-08-05</td>\n",
       "      <td>A</td>\n",
       "      <td>756</td>\n",
       "    </tr>\n",
       "  </tbody>\n",
       "</table>\n",
       "</div>"
      ],
      "text/plain": [
       "         date group  visitors\n",
       "0  2019-08-01     A       719\n",
       "1  2019-08-02     A       619\n",
       "2  2019-08-03     A       507\n",
       "3  2019-08-04     A       717\n",
       "4  2019-08-05     A       756"
      ]
     },
     "execution_count": 7,
     "metadata": {},
     "output_type": "execute_result"
    }
   ],
   "source": [
    "visitors_raw_data.head()"
   ]
  },
  {
   "cell_type": "markdown",
   "metadata": {
    "colab_type": "text",
    "id": "cF-lYY7uMOTd"
   },
   "source": [
    "<a href=\"#Head\"><font size=\"2\">BACK TO CONTENTS</font></a><a name=\"2.0\"></a><br/>\n",
    "\n",
    "\n",
    "## Part 1. Hypotheses Prioritization\n",
    "#### In the file \"hypothesis_list_local_copy.csv\" there are 9 hypotheses for increasing the revenue of an online store with the specified parameters Reach, Impact, Confidence, Effort\n",
    "> Task\n",
    "> - Use the ICE framework to prioritize hypotheses. Sort in descending order of priority\n",
    "> - Use the RICE framework to prioritize hypotheses. Sort in descending order of priority\n",
    "> - Let's look how the prioritization of hypotheses has changed when applying RICE instead of ICE. What is an explaination."
   ]
  },
  {
   "cell_type": "code",
   "execution_count": 8,
   "metadata": {
    "colab": {},
    "colab_type": "code",
    "id": "a9bnkeYlMOTe",
    "outputId": "835da25c-1b86-46d5-8368-c4206a387351"
   },
   "outputs": [
    {
     "data": {
      "text/html": [
       "<div>\n",
       "<style scoped>\n",
       "    .dataframe tbody tr th:only-of-type {\n",
       "        vertical-align: middle;\n",
       "    }\n",
       "\n",
       "    .dataframe tbody tr th {\n",
       "        vertical-align: top;\n",
       "    }\n",
       "\n",
       "    .dataframe thead th {\n",
       "        text-align: right;\n",
       "    }\n",
       "</style>\n",
       "<table border=\"1\" class=\"dataframe\">\n",
       "  <thead>\n",
       "    <tr style=\"text-align: right;\">\n",
       "      <th></th>\n",
       "      <th>Hypothesis</th>\n",
       "      <th>ICE_score</th>\n",
       "    </tr>\n",
       "  </thead>\n",
       "  <tbody>\n",
       "    <tr>\n",
       "      <th>8</th>\n",
       "      <td>Launch a promotion giving a discount on a birt...</td>\n",
       "      <td>16.200</td>\n",
       "    </tr>\n",
       "    <tr>\n",
       "      <th>0</th>\n",
       "      <td>Add two new channels to attract traffic which ...</td>\n",
       "      <td>13.333</td>\n",
       "    </tr>\n",
       "    <tr>\n",
       "      <th>7</th>\n",
       "      <td>Add a subscription form to all the main pages ...</td>\n",
       "      <td>11.200</td>\n",
       "    </tr>\n",
       "    <tr>\n",
       "      <th>6</th>\n",
       "      <td>Show banners with current promotions and sales...</td>\n",
       "      <td>8.000</td>\n",
       "    </tr>\n",
       "    <tr>\n",
       "      <th>2</th>\n",
       "      <td>Add blocks of product recommendations to the w...</td>\n",
       "      <td>7.000</td>\n",
       "    </tr>\n",
       "    <tr>\n",
       "      <th>1</th>\n",
       "      <td>Launch your own delivery service which will sh...</td>\n",
       "      <td>2.000</td>\n",
       "    </tr>\n",
       "    <tr>\n",
       "      <th>5</th>\n",
       "      <td>Add a page of customer reviews about the store...</td>\n",
       "      <td>1.333</td>\n",
       "    </tr>\n",
       "    <tr>\n",
       "      <th>3</th>\n",
       "      <td>Change the structure of categories which will ...</td>\n",
       "      <td>1.125</td>\n",
       "    </tr>\n",
       "    <tr>\n",
       "      <th>4</th>\n",
       "      <td>Change the background color of the home page t...</td>\n",
       "      <td>1.000</td>\n",
       "    </tr>\n",
       "  </tbody>\n",
       "</table>\n",
       "</div>"
      ],
      "text/plain": [
       "                                          Hypothesis  ICE_score\n",
       "8  Launch a promotion giving a discount on a birt...     16.200\n",
       "0  Add two new channels to attract traffic which ...     13.333\n",
       "7  Add a subscription form to all the main pages ...     11.200\n",
       "6  Show banners with current promotions and sales...      8.000\n",
       "2  Add blocks of product recommendations to the w...      7.000\n",
       "1  Launch your own delivery service which will sh...      2.000\n",
       "5  Add a page of customer reviews about the store...      1.333\n",
       "3  Change the structure of categories which will ...      1.125\n",
       "4  Change the background color of the home page t...      1.000"
      ]
     },
     "execution_count": 8,
     "metadata": {},
     "output_type": "execute_result"
    }
   ],
   "source": [
    "# ICE\n",
    "hypothesis_list_ice = hypothesis_list\n",
    "hypothesis_list_ice['ICE_score'] = (\n",
    "    hypothesis_list_ice['Impact'] * hypothesis_list_ice['Confidence']) / hypothesis_list_ice['Efforts']\n",
    "\n",
    "hypothesis_list_ice[['Hypothesis','ICE_score']].sort_values(by='ICE_score', ascending=False)"
   ]
  },
  {
   "cell_type": "markdown",
   "metadata": {
    "colab_type": "text",
    "id": "aRpXfOvZMOTl"
   },
   "source": [
    "- ICE framework: leaders - ## 8-0-7, second group - ## 6-2-1, last priority - ## 5-3-4"
   ]
  },
  {
   "cell_type": "code",
   "execution_count": 9,
   "metadata": {
    "colab": {},
    "colab_type": "code",
    "id": "olXi9X0yMOTm",
    "outputId": "ebfc963b-ae01-44b0-b049-0fec8e924865"
   },
   "outputs": [
    {
     "data": {
      "text/html": [
       "<div>\n",
       "<style scoped>\n",
       "    .dataframe tbody tr th:only-of-type {\n",
       "        vertical-align: middle;\n",
       "    }\n",
       "\n",
       "    .dataframe tbody tr th {\n",
       "        vertical-align: top;\n",
       "    }\n",
       "\n",
       "    .dataframe thead th {\n",
       "        text-align: right;\n",
       "    }\n",
       "</style>\n",
       "<table border=\"1\" class=\"dataframe\">\n",
       "  <thead>\n",
       "    <tr style=\"text-align: right;\">\n",
       "      <th></th>\n",
       "      <th>Hypothesis</th>\n",
       "      <th>RICE_score</th>\n",
       "    </tr>\n",
       "  </thead>\n",
       "  <tbody>\n",
       "    <tr>\n",
       "      <th>7</th>\n",
       "      <td>Add a subscription form to all the main pages ...</td>\n",
       "      <td>112.000</td>\n",
       "    </tr>\n",
       "    <tr>\n",
       "      <th>2</th>\n",
       "      <td>Add blocks of product recommendations to the w...</td>\n",
       "      <td>56.000</td>\n",
       "    </tr>\n",
       "    <tr>\n",
       "      <th>0</th>\n",
       "      <td>Add two new channels to attract traffic which ...</td>\n",
       "      <td>40.000</td>\n",
       "    </tr>\n",
       "    <tr>\n",
       "      <th>6</th>\n",
       "      <td>Show banners with current promotions and sales...</td>\n",
       "      <td>40.000</td>\n",
       "    </tr>\n",
       "    <tr>\n",
       "      <th>8</th>\n",
       "      <td>Launch a promotion giving a discount on a birt...</td>\n",
       "      <td>16.200</td>\n",
       "    </tr>\n",
       "    <tr>\n",
       "      <th>3</th>\n",
       "      <td>Change the structure of categories which will ...</td>\n",
       "      <td>9.000</td>\n",
       "    </tr>\n",
       "    <tr>\n",
       "      <th>1</th>\n",
       "      <td>Launch your own delivery service which will sh...</td>\n",
       "      <td>4.000</td>\n",
       "    </tr>\n",
       "    <tr>\n",
       "      <th>5</th>\n",
       "      <td>Add a page of customer reviews about the store...</td>\n",
       "      <td>4.000</td>\n",
       "    </tr>\n",
       "    <tr>\n",
       "      <th>4</th>\n",
       "      <td>Change the background color of the home page t...</td>\n",
       "      <td>3.000</td>\n",
       "    </tr>\n",
       "  </tbody>\n",
       "</table>\n",
       "</div>"
      ],
      "text/plain": [
       "                                          Hypothesis  RICE_score\n",
       "7  Add a subscription form to all the main pages ...     112.000\n",
       "2  Add blocks of product recommendations to the w...      56.000\n",
       "0  Add two new channels to attract traffic which ...      40.000\n",
       "6  Show banners with current promotions and sales...      40.000\n",
       "8  Launch a promotion giving a discount on a birt...      16.200\n",
       "3  Change the structure of categories which will ...       9.000\n",
       "1  Launch your own delivery service which will sh...       4.000\n",
       "5  Add a page of customer reviews about the store...       4.000\n",
       "4  Change the background color of the home page t...       3.000"
      ]
     },
     "execution_count": 9,
     "metadata": {},
     "output_type": "execute_result"
    }
   ],
   "source": [
    "# RICE\n",
    "hypothesis_list_rice = hypothesis_list\n",
    "hypothesis_list_rice['RICE_score'] = (\n",
    "    hypothesis_list_rice['Reach'] * hypothesis_list_rice['Impact'] * \n",
    "    hypothesis_list_rice['Confidence']) / hypothesis_list_rice['Efforts']\n",
    "\n",
    "hypothesis_list_rice[['Hypothesis','RICE_score']].sort_values(by='RICE_score', ascending=False)"
   ]
  },
  {
   "cell_type": "markdown",
   "metadata": {
    "colab_type": "text",
    "id": "mj1vn5jxMOTt"
   },
   "source": [
    "- RICE framework: first leader group - ## 7-2-0, second group - ##6-8-3, least priority group - ## 1-5-4"
   ]
  },
  {
   "cell_type": "markdown",
   "metadata": {
    "colab_type": "text",
    "id": "1gx_PyGvMOTu"
   },
   "source": [
    "<a href=\"#Head\"><font size=\"2\">BACK TO CONTENTS</font></a><a name=\"2.1\"></a><br/>\n",
    "\n",
    "## Part 1. Conclusion:\n",
    "* Hypotheses 7, 2, 3 got higher places through the RICE calculation because the Reach parameter (\"how many users will be affected by the change you want to make\") in the RICE calculation for these hypotheses gave a high aggregate numerator with equal Efforts efforts in the denominator"
   ]
  },
  {
   "cell_type": "markdown",
   "metadata": {
    "colab_type": "text",
    "id": "Wi18-XzqMOTw"
   },
   "source": [
    "<a href=\"#Head\"><font size=\"2\">BACK TO CONTENTS</font></a><a name=\"3.0\"></a><br/>\n",
    "\n",
    "## Part 2. A / B Test Analysis\n",
    "#### We have already did an A / B test and got the results described in the files /orders*.csv и /visitors*.csv\n",
    "> Task\n",
    "> - Analyze A / B Test\n",
    "> - Сonclude whether to continue the test or to stop it"
   ]
  },
  {
   "cell_type": "markdown",
   "metadata": {},
   "source": [
    "#### Make some data research to find extremes or unusual data"
   ]
  },
  {
   "cell_type": "code",
   "execution_count": 10,
   "metadata": {
    "colab": {},
    "colab_type": "code",
    "id": "ht34yLYKMOT1",
    "outputId": "539c9501-a030-4452-ed99-e108cc01c599"
   },
   "outputs": [
    {
     "name": "stdout",
     "output_type": "stream",
     "text": [
      "<class 'pandas.core.frame.DataFrame'>\n",
      "RangeIndex: 1197 entries, 0 to 1196\n",
      "Data columns (total 5 columns):\n",
      " #   Column         Non-Null Count  Dtype \n",
      "---  ------         --------------  ----- \n",
      " 0   transactionId  1197 non-null   int64 \n",
      " 1   visitorId      1197 non-null   int64 \n",
      " 2   date           1197 non-null   object\n",
      " 3   revenue        1197 non-null   int64 \n",
      " 4   group          1197 non-null   object\n",
      "dtypes: int64(3), object(2)\n",
      "memory usage: 46.9+ KB\n"
     ]
    }
   ],
   "source": [
    "orders_row_data.info()"
   ]
  },
  {
   "cell_type": "code",
   "execution_count": 11,
   "metadata": {
    "colab": {},
    "colab_type": "code",
    "id": "oR1mqZoxMOT6"
   },
   "outputs": [],
   "source": [
    "# date data to date format - ! no need (left as str)\n",
    "\n",
    "orders_data = orders_row_data\n",
    "\n",
    "#orders_data['date'] = orders_data['date'].map(lambda x: dt.datetime.strptime(x, '%Y-%m-%d')) #datetime64[ns]\n",
    "\n",
    "#orders_data['date'] = pd.to_datetime(orders_data['date'], format='%Y-%m-%d') #datetime64[ns]"
   ]
  },
  {
   "cell_type": "code",
   "execution_count": 12,
   "metadata": {
    "colab": {},
    "colab_type": "code",
    "id": "flBPfcGcMOUE",
    "outputId": "2137260c-5092-4189-8f9b-aa9a1f42ef8b"
   },
   "outputs": [
    {
     "name": "stdout",
     "output_type": "stream",
     "text": [
      "<class 'pandas.core.frame.DataFrame'>\n",
      "RangeIndex: 1197 entries, 0 to 1196\n",
      "Data columns (total 5 columns):\n",
      " #   Column         Non-Null Count  Dtype \n",
      "---  ------         --------------  ----- \n",
      " 0   transactionId  1197 non-null   int64 \n",
      " 1   visitorId      1197 non-null   int64 \n",
      " 2   date           1197 non-null   object\n",
      " 3   revenue        1197 non-null   int64 \n",
      " 4   group          1197 non-null   object\n",
      "dtypes: int64(3), object(2)\n",
      "memory usage: 46.9+ KB\n"
     ]
    }
   ],
   "source": [
    "orders_data.info()"
   ]
  },
  {
   "cell_type": "code",
   "execution_count": 13,
   "metadata": {},
   "outputs": [
    {
     "data": {
      "text/plain": [
       "'2019-08-01'"
      ]
     },
     "execution_count": 13,
     "metadata": {},
     "output_type": "execute_result"
    }
   ],
   "source": [
    "orders_data['date'].min()"
   ]
  },
  {
   "cell_type": "code",
   "execution_count": 14,
   "metadata": {},
   "outputs": [
    {
     "data": {
      "text/plain": [
       "'2019-08-31'"
      ]
     },
     "execution_count": 14,
     "metadata": {},
     "output_type": "execute_result"
    }
   ],
   "source": [
    "orders_data['date'].max()"
   ]
  },
  {
   "cell_type": "markdown",
   "metadata": {},
   "source": [
    "> time period is limited by August"
   ]
  },
  {
   "cell_type": "code",
   "execution_count": 15,
   "metadata": {},
   "outputs": [
    {
     "data": {
      "text/plain": [
       "0"
      ]
     },
     "execution_count": 15,
     "metadata": {},
     "output_type": "execute_result"
    }
   ],
   "source": [
    "orders_data.duplicated().sum()"
   ]
  },
  {
   "cell_type": "code",
   "execution_count": 16,
   "metadata": {},
   "outputs": [
    {
     "data": {
      "text/plain": [
       "0"
      ]
     },
     "execution_count": 16,
     "metadata": {},
     "output_type": "execute_result"
    }
   ],
   "source": [
    "orders_data['transactionId'].duplicated().sum()"
   ]
  },
  {
   "cell_type": "code",
   "execution_count": 17,
   "metadata": {},
   "outputs": [
    {
     "data": {
      "text/html": [
       "<div>\n",
       "<style scoped>\n",
       "    .dataframe tbody tr th:only-of-type {\n",
       "        vertical-align: middle;\n",
       "    }\n",
       "\n",
       "    .dataframe tbody tr th {\n",
       "        vertical-align: top;\n",
       "    }\n",
       "\n",
       "    .dataframe thead th {\n",
       "        text-align: right;\n",
       "    }\n",
       "</style>\n",
       "<table border=\"1\" class=\"dataframe\">\n",
       "  <thead>\n",
       "    <tr style=\"text-align: right;\">\n",
       "      <th></th>\n",
       "      <th>transactionId</th>\n",
       "      <th>visitorId</th>\n",
       "      <th>revenue</th>\n",
       "    </tr>\n",
       "  </thead>\n",
       "  <tbody>\n",
       "    <tr>\n",
       "      <th>count</th>\n",
       "      <td>1197.000</td>\n",
       "      <td>1197.000</td>\n",
       "      <td>1197.000</td>\n",
       "    </tr>\n",
       "    <tr>\n",
       "      <th>mean</th>\n",
       "      <td>2155621385.530</td>\n",
       "      <td>2165960143.099</td>\n",
       "      <td>8348.006</td>\n",
       "    </tr>\n",
       "    <tr>\n",
       "      <th>std</th>\n",
       "      <td>1229084904.760</td>\n",
       "      <td>1236014192.147</td>\n",
       "      <td>39191.132</td>\n",
       "    </tr>\n",
       "    <tr>\n",
       "      <th>min</th>\n",
       "      <td>1062393.000</td>\n",
       "      <td>5114589.000</td>\n",
       "      <td>50.000</td>\n",
       "    </tr>\n",
       "    <tr>\n",
       "      <th>25%</th>\n",
       "      <td>1166775572.000</td>\n",
       "      <td>1111826046.000</td>\n",
       "      <td>1220.000</td>\n",
       "    </tr>\n",
       "    <tr>\n",
       "      <th>50%</th>\n",
       "      <td>2145193898.000</td>\n",
       "      <td>2217984702.000</td>\n",
       "      <td>2978.000</td>\n",
       "    </tr>\n",
       "    <tr>\n",
       "      <th>75%</th>\n",
       "      <td>3237740112.000</td>\n",
       "      <td>3177606451.000</td>\n",
       "      <td>8290.000</td>\n",
       "    </tr>\n",
       "    <tr>\n",
       "      <th>max</th>\n",
       "      <td>4293855558.000</td>\n",
       "      <td>4283872382.000</td>\n",
       "      <td>1294500.000</td>\n",
       "    </tr>\n",
       "  </tbody>\n",
       "</table>\n",
       "</div>"
      ],
      "text/plain": [
       "       transactionId      visitorId     revenue\n",
       "count       1197.000       1197.000    1197.000\n",
       "mean  2155621385.530 2165960143.099    8348.006\n",
       "std   1229084904.760 1236014192.147   39191.132\n",
       "min      1062393.000    5114589.000      50.000\n",
       "25%   1166775572.000 1111826046.000    1220.000\n",
       "50%   2145193898.000 2217984702.000    2978.000\n",
       "75%   3237740112.000 3177606451.000    8290.000\n",
       "max   4293855558.000 4283872382.000 1294500.000"
      ]
     },
     "execution_count": 17,
     "metadata": {},
     "output_type": "execute_result"
    }
   ],
   "source": [
    "# check statistical data\n",
    "\n",
    "orders_data.describe()"
   ]
  },
  {
   "cell_type": "markdown",
   "metadata": {},
   "source": [
    "> looks like we have extreme high numbers in revenue column"
   ]
  },
  {
   "cell_type": "code",
   "execution_count": 18,
   "metadata": {},
   "outputs": [
    {
     "data": {
      "text/html": [
       "<div>\n",
       "<style scoped>\n",
       "    .dataframe tbody tr th:only-of-type {\n",
       "        vertical-align: middle;\n",
       "    }\n",
       "\n",
       "    .dataframe tbody tr th {\n",
       "        vertical-align: top;\n",
       "    }\n",
       "\n",
       "    .dataframe thead th {\n",
       "        text-align: right;\n",
       "    }\n",
       "</style>\n",
       "<table border=\"1\" class=\"dataframe\">\n",
       "  <thead>\n",
       "    <tr style=\"text-align: right;\">\n",
       "      <th></th>\n",
       "      <th>revenue</th>\n",
       "    </tr>\n",
       "    <tr>\n",
       "      <th>transactionId</th>\n",
       "      <th></th>\n",
       "    </tr>\n",
       "  </thead>\n",
       "  <tbody>\n",
       "    <tr>\n",
       "      <th>590470918</th>\n",
       "      <td>1294500</td>\n",
       "    </tr>\n",
       "    <tr>\n",
       "      <th>3936777065</th>\n",
       "      <td>202740</td>\n",
       "    </tr>\n",
       "    <tr>\n",
       "      <th>192721366</th>\n",
       "      <td>93940</td>\n",
       "    </tr>\n",
       "    <tr>\n",
       "      <th>666610489</th>\n",
       "      <td>92550</td>\n",
       "    </tr>\n",
       "    <tr>\n",
       "      <th>3668308183</th>\n",
       "      <td>86620</td>\n",
       "    </tr>\n",
       "    <tr>\n",
       "      <th>1216533772</th>\n",
       "      <td>78990</td>\n",
       "    </tr>\n",
       "    <tr>\n",
       "      <th>1811671147</th>\n",
       "      <td>78990</td>\n",
       "    </tr>\n",
       "    <tr>\n",
       "      <th>3603576309</th>\n",
       "      <td>67990</td>\n",
       "    </tr>\n",
       "    <tr>\n",
       "      <th>1348774318</th>\n",
       "      <td>66350</td>\n",
       "    </tr>\n",
       "    <tr>\n",
       "      <th>316924019</th>\n",
       "      <td>65710</td>\n",
       "    </tr>\n",
       "  </tbody>\n",
       "</table>\n",
       "</div>"
      ],
      "text/plain": [
       "               revenue\n",
       "transactionId         \n",
       "590470918      1294500\n",
       "3936777065      202740\n",
       "192721366        93940\n",
       "666610489        92550\n",
       "3668308183       86620\n",
       "1216533772       78990\n",
       "1811671147       78990\n",
       "3603576309       67990\n",
       "1348774318       66350\n",
       "316924019        65710"
      ]
     },
     "execution_count": 18,
     "metadata": {},
     "output_type": "execute_result"
    }
   ],
   "source": [
    "# check top10 purchases by revenue\n",
    "\n",
    "pivot_top10_purchases = orders_data.pivot_table(\n",
    "    index='transactionId', values = 'revenue').sort_values(by='revenue', ascending=False).head(10)\n",
    "pivot_top10_purchases"
   ]
  },
  {
   "cell_type": "markdown",
   "metadata": {},
   "source": [
    "> two top purchases too high for our 75% purchases, others in top 10 are expensive as well"
   ]
  },
  {
   "cell_type": "code",
   "execution_count": 19,
   "metadata": {},
   "outputs": [
    {
     "data": {
      "image/png": "[encoded data removed]",
      "text/plain": [
       "<Figure size 864x432 with 1 Axes>"
      ]
     },
     "metadata": {
      "needs_background": "light"
     },
     "output_type": "display_data"
    }
   ],
   "source": [
    "# plot transactions' costs on date\n",
    "\n",
    "plt.figure(figsize=(12,6))\n",
    "plt.scatter(orders_data['date'], orders_data['revenue'])\n",
    "#plt.xlim(['2019-07-30', '2019-09-02'])\n",
    "plt.title('Purchases, cost and date')\n",
    "plt.xlabel('Date')\n",
    "plt.xticks(rotation=45)\n",
    "plt.ylabel('Cost of purchase')\n",
    "plt.show()"
   ]
  },
  {
   "cell_type": "markdown",
   "metadata": {},
   "source": [
    "> two most expensive purchases appeared on Aug 15 and Aug 19"
   ]
  },
  {
   "cell_type": "code",
   "execution_count": 20,
   "metadata": {},
   "outputs": [
    {
     "data": {
      "text/plain": [
       "B    640\n",
       "A    557\n",
       "Name: group, dtype: int64"
      ]
     },
     "execution_count": 20,
     "metadata": {},
     "output_type": "execute_result"
    }
   ],
   "source": [
    "# group A and B\n",
    "\n",
    "orders_data['group'].value_counts()"
   ]
  },
  {
   "cell_type": "markdown",
   "metadata": {},
   "source": [
    "> groups are represented by 557 (A) and 640 (B) transactions"
   ]
  },
  {
   "cell_type": "code",
   "execution_count": 21,
   "metadata": {},
   "outputs": [
    {
     "data": {
      "text/plain": [
       "4256040402    11\n",
       "2458001652    11\n",
       "2378935119     9\n",
       "2038680547     8\n",
       "3717692402     5\n",
       "              ..\n",
       "3254689071     1\n",
       "4186744110     1\n",
       "1455861274     1\n",
       "3612778094     1\n",
       "3149228032     1\n",
       "Name: visitorId, Length: 1031, dtype: int64"
      ]
     },
     "execution_count": 21,
     "metadata": {},
     "output_type": "execute_result"
    }
   ],
   "source": [
    "visitors_purchases_number = orders_data['visitorId'].value_counts()\n",
    "#visitors_purchases_number = orders_data['visitorId'].value_counts().mean()\n",
    "visitors_purchases_number#.head(20)"
   ]
  },
  {
   "cell_type": "markdown",
   "metadata": {},
   "source": [
    "> two costomers have 11 purchases, few have - 9 & 8, then the number stays on 5 and drops gradually down to 1"
   ]
  },
  {
   "cell_type": "code",
   "execution_count": 22,
   "metadata": {},
   "outputs": [
    {
     "data": {
      "text/plain": [
       "Text(0, 0.5, 'Number of purchases')"
      ]
     },
     "execution_count": 22,
     "metadata": {},
     "output_type": "execute_result"
    },
    {
     "data": {
      "image/png": "[encoded data removed]",
      "text/plain": [
       "<Figure size 864x432 with 1 Axes>"
      ]
     },
     "metadata": {
      "needs_background": "light"
     },
     "output_type": "display_data"
    }
   ],
   "source": [
    "plt.figure(figsize=(12,6))\n",
    "x_values = pd.Series(range(0,len(visitors_purchases_number)))\n",
    "plt.scatter(x_values, visitors_purchases_number)\n",
    "plt.title('Purchases per number of visitors')\n",
    "plt.xlabel('Number of visitors')\n",
    "plt.ylabel('Number of purchases')"
   ]
  },
  {
   "cell_type": "markdown",
   "metadata": {},
   "source": [
    "> is not a normal distribution: most purchase ones, much less purchase twice and more"
   ]
  },
  {
   "cell_type": "code",
   "execution_count": 23,
   "metadata": {},
   "outputs": [
    {
     "data": {
      "text/html": [
       "<div>\n",
       "<style scoped>\n",
       "    .dataframe tbody tr th:only-of-type {\n",
       "        vertical-align: middle;\n",
       "    }\n",
       "\n",
       "    .dataframe tbody tr th {\n",
       "        vertical-align: top;\n",
       "    }\n",
       "\n",
       "    .dataframe thead th {\n",
       "        text-align: right;\n",
       "    }\n",
       "</style>\n",
       "<table border=\"1\" class=\"dataframe\">\n",
       "  <thead>\n",
       "    <tr style=\"text-align: right;\">\n",
       "      <th></th>\n",
       "      <th>revenue</th>\n",
       "    </tr>\n",
       "    <tr>\n",
       "      <th>visitorId</th>\n",
       "      <th></th>\n",
       "    </tr>\n",
       "  </thead>\n",
       "  <tbody>\n",
       "    <tr>\n",
       "      <th>1920142716</th>\n",
       "      <td>1294500</td>\n",
       "    </tr>\n",
       "    <tr>\n",
       "      <th>2108080724</th>\n",
       "      <td>202740</td>\n",
       "    </tr>\n",
       "    <tr>\n",
       "      <th>4256040402</th>\n",
       "      <td>176490</td>\n",
       "    </tr>\n",
       "    <tr>\n",
       "      <th>4266935830</th>\n",
       "      <td>157980</td>\n",
       "    </tr>\n",
       "    <tr>\n",
       "      <th>2378935119</th>\n",
       "      <td>142939</td>\n",
       "    </tr>\n",
       "    <tr>\n",
       "      <th>...</th>\n",
       "      <td>...</td>\n",
       "    </tr>\n",
       "    <tr>\n",
       "      <th>1995481842</th>\n",
       "      <td>70</td>\n",
       "    </tr>\n",
       "    <tr>\n",
       "      <th>3577713868</th>\n",
       "      <td>60</td>\n",
       "    </tr>\n",
       "    <tr>\n",
       "      <th>2738601405</th>\n",
       "      <td>50</td>\n",
       "    </tr>\n",
       "    <tr>\n",
       "      <th>3423937755</th>\n",
       "      <td>50</td>\n",
       "    </tr>\n",
       "    <tr>\n",
       "      <th>2705308997</th>\n",
       "      <td>50</td>\n",
       "    </tr>\n",
       "  </tbody>\n",
       "</table>\n",
       "<p>1031 rows × 1 columns</p>\n",
       "</div>"
      ],
      "text/plain": [
       "            revenue\n",
       "visitorId          \n",
       "1920142716  1294500\n",
       "2108080724   202740\n",
       "4256040402   176490\n",
       "4266935830   157980\n",
       "2378935119   142939\n",
       "...             ...\n",
       "1995481842       70\n",
       "3577713868       60\n",
       "2738601405       50\n",
       "3423937755       50\n",
       "2705308997       50\n",
       "\n",
       "[1031 rows x 1 columns]"
      ]
     },
     "execution_count": 23,
     "metadata": {},
     "output_type": "execute_result"
    }
   ],
   "source": [
    "# check the revenue per visitor\n",
    "\n",
    "visitor_id_revenue = orders_data.pivot_table(\n",
    "    index='visitorId', values = 'revenue', aggfunc='sum').sort_values(by='revenue', ascending=False)\n",
    "visitor_id_revenue"
   ]
  },
  {
   "cell_type": "code",
   "execution_count": 24,
   "metadata": {},
   "outputs": [
    {
     "name": "stdout",
     "output_type": "stream",
     "text": [
      "            revenue\n",
      "visitorId          \n",
      "4256040402   176490\n",
      "\n",
      "            revenue\n",
      "visitorId          \n",
      "2458001652    62098\n"
     ]
    }
   ],
   "source": [
    "# check total revenue from those visitors who made 11 purchases\n",
    "\n",
    "print(visitor_id_revenue.query('visitorId == 4256040402'))\n",
    "print()\n",
    "print(visitor_id_revenue.query('visitorId == 2458001652'))"
   ]
  },
  {
   "cell_type": "markdown",
   "metadata": {},
   "source": [
    "> those visitors not bringing extreme revenue: 176 490 & 62 098 rubles"
   ]
  },
  {
   "cell_type": "code",
   "execution_count": 25,
   "metadata": {},
   "outputs": [
    {
     "data": {
      "text/html": [
       "<div>\n",
       "<style scoped>\n",
       "    .dataframe tbody tr th:only-of-type {\n",
       "        vertical-align: middle;\n",
       "    }\n",
       "\n",
       "    .dataframe tbody tr th {\n",
       "        vertical-align: top;\n",
       "    }\n",
       "\n",
       "    .dataframe thead th {\n",
       "        text-align: right;\n",
       "    }\n",
       "</style>\n",
       "<table border=\"1\" class=\"dataframe\">\n",
       "  <thead>\n",
       "    <tr style=\"text-align: right;\">\n",
       "      <th></th>\n",
       "      <th>transactionId</th>\n",
       "      <th>visitorId</th>\n",
       "      <th>date</th>\n",
       "      <th>revenue</th>\n",
       "      <th>group</th>\n",
       "    </tr>\n",
       "  </thead>\n",
       "  <tbody>\n",
       "    <tr>\n",
       "      <th>425</th>\n",
       "      <td>590470918</td>\n",
       "      <td>1920142716</td>\n",
       "      <td>2019-08-19</td>\n",
       "      <td>1294500</td>\n",
       "      <td>B</td>\n",
       "    </tr>\n",
       "  </tbody>\n",
       "</table>\n",
       "</div>"
      ],
      "text/plain": [
       "     transactionId   visitorId        date  revenue group\n",
       "425      590470918  1920142716  2019-08-19  1294500     B"
      ]
     },
     "execution_count": 25,
     "metadata": {},
     "output_type": "execute_result"
    }
   ],
   "source": [
    "orders_data.query('revenue == 1294500')"
   ]
  },
  {
   "cell_type": "code",
   "execution_count": 26,
   "metadata": {},
   "outputs": [
    {
     "data": {
      "text/html": [
       "<div>\n",
       "<style scoped>\n",
       "    .dataframe tbody tr th:only-of-type {\n",
       "        vertical-align: middle;\n",
       "    }\n",
       "\n",
       "    .dataframe tbody tr th {\n",
       "        vertical-align: top;\n",
       "    }\n",
       "\n",
       "    .dataframe thead th {\n",
       "        text-align: right;\n",
       "    }\n",
       "</style>\n",
       "<table border=\"1\" class=\"dataframe\">\n",
       "  <thead>\n",
       "    <tr style=\"text-align: right;\">\n",
       "      <th></th>\n",
       "      <th>transactionId</th>\n",
       "      <th>visitorId</th>\n",
       "      <th>date</th>\n",
       "      <th>revenue</th>\n",
       "      <th>group</th>\n",
       "    </tr>\n",
       "  </thead>\n",
       "  <tbody>\n",
       "    <tr>\n",
       "      <th>425</th>\n",
       "      <td>590470918</td>\n",
       "      <td>1920142716</td>\n",
       "      <td>2019-08-19</td>\n",
       "      <td>1294500</td>\n",
       "      <td>B</td>\n",
       "    </tr>\n",
       "  </tbody>\n",
       "</table>\n",
       "</div>"
      ],
      "text/plain": [
       "     transactionId   visitorId        date  revenue group\n",
       "425      590470918  1920142716  2019-08-19  1294500     B"
      ]
     },
     "execution_count": 26,
     "metadata": {},
     "output_type": "execute_result"
    }
   ],
   "source": [
    "orders_data.query('visitorId == 1920142716')"
   ]
  },
  {
   "cell_type": "markdown",
   "metadata": {},
   "source": [
    "> the most expensive purchase (1 294 500) was made by one visitor from group B who performed just one purchase per period"
   ]
  },
  {
   "cell_type": "code",
   "execution_count": 27,
   "metadata": {},
   "outputs": [
    {
     "data": {
      "text/html": [
       "<div>\n",
       "<style scoped>\n",
       "    .dataframe tbody tr th:only-of-type {\n",
       "        vertical-align: middle;\n",
       "    }\n",
       "\n",
       "    .dataframe tbody tr th {\n",
       "        vertical-align: top;\n",
       "    }\n",
       "\n",
       "    .dataframe thead th {\n",
       "        text-align: right;\n",
       "    }\n",
       "</style>\n",
       "<table border=\"1\" class=\"dataframe\">\n",
       "  <thead>\n",
       "    <tr style=\"text-align: right;\">\n",
       "      <th>group</th>\n",
       "      <th>date</th>\n",
       "      <th>A</th>\n",
       "      <th>B</th>\n",
       "    </tr>\n",
       "  </thead>\n",
       "  <tbody>\n",
       "    <tr>\n",
       "      <th>0</th>\n",
       "      <td>2019-08-01</td>\n",
       "      <td>24</td>\n",
       "      <td>21</td>\n",
       "    </tr>\n",
       "    <tr>\n",
       "      <th>1</th>\n",
       "      <td>2019-08-02</td>\n",
       "      <td>20</td>\n",
       "      <td>24</td>\n",
       "    </tr>\n",
       "    <tr>\n",
       "      <th>2</th>\n",
       "      <td>2019-08-03</td>\n",
       "      <td>24</td>\n",
       "      <td>16</td>\n",
       "    </tr>\n",
       "    <tr>\n",
       "      <th>3</th>\n",
       "      <td>2019-08-04</td>\n",
       "      <td>16</td>\n",
       "      <td>17</td>\n",
       "    </tr>\n",
       "    <tr>\n",
       "      <th>4</th>\n",
       "      <td>2019-08-05</td>\n",
       "      <td>25</td>\n",
       "      <td>23</td>\n",
       "    </tr>\n",
       "  </tbody>\n",
       "</table>\n",
       "</div>"
      ],
      "text/plain": [
       "group        date   A   B\n",
       "0      2019-08-01  24  21\n",
       "1      2019-08-02  20  24\n",
       "2      2019-08-03  24  16\n",
       "3      2019-08-04  16  17\n",
       "4      2019-08-05  25  23"
      ]
     },
     "execution_count": 27,
     "metadata": {},
     "output_type": "execute_result"
    }
   ],
   "source": [
    "# transactions by date by groups\n",
    "\n",
    "pivot_plot_transactions = orders_data.pivot_table(\n",
    "    index='date', columns='group', values='transactionId', aggfunc='count').reset_index()\n",
    "\n",
    "pivot_plot_transactions.head()"
   ]
  },
  {
   "cell_type": "code",
   "execution_count": 28,
   "metadata": {},
   "outputs": [
    {
     "data": {
      "image/png": "[encoded data removed]",
      "text/plain": [
       "<Figure size 864x432 with 1 Axes>"
      ]
     },
     "metadata": {
      "needs_background": "light"
     },
     "output_type": "display_data"
    }
   ],
   "source": [
    "plt.figure(figsize=(12,6))\n",
    "plt.bar(pivot_plot_transactions['date'], pivot_plot_transactions['A'], label='Group A Transactions', color='grey')\n",
    "plt.plot(\n",
    "    pivot_plot_transactions['date'], pivot_plot_transactions['B'], label='Group B Transactions', color='green', linewidth=2)\n",
    "plt.title('Transactions per date')\n",
    "plt.xlabel('Date')\n",
    "plt.xticks(rotation=45)\n",
    "plt.ylabel('Transactions')\n",
    "plt.legend()\n",
    "plt.show()"
   ]
  },
  {
   "cell_type": "markdown",
   "metadata": {},
   "source": [
    "> transactions - no extremes"
   ]
  },
  {
   "cell_type": "markdown",
   "metadata": {
    "colab_type": "text",
    "id": "BsDtyTWzMOT0"
   },
   "source": [
    "<a href=\"#Head\"><font size=\"2\">BACK TO CONTENTS</font></a><a name=\"3.1\"></a><br/>\n",
    "\n",
    "### 2.1. Build a plot of cumulative revenue by group. Draw conclusions and assumptions."
   ]
  },
  {
   "cell_type": "code",
   "execution_count": 29,
   "metadata": {
    "colab": {},
    "colab_type": "code",
    "id": "kYRFfJG8MOUJ",
    "outputId": "b90f12d4-9ad3-41ee-a38a-6cc846cece20"
   },
   "outputs": [
    {
     "data": {
      "text/html": [
       "<div>\n",
       "<style scoped>\n",
       "    .dataframe tbody tr th:only-of-type {\n",
       "        vertical-align: middle;\n",
       "    }\n",
       "\n",
       "    .dataframe tbody tr th {\n",
       "        vertical-align: top;\n",
       "    }\n",
       "\n",
       "    .dataframe thead th {\n",
       "        text-align: right;\n",
       "    }\n",
       "</style>\n",
       "<table border=\"1\" class=\"dataframe\">\n",
       "  <thead>\n",
       "    <tr style=\"text-align: right;\">\n",
       "      <th></th>\n",
       "      <th>date</th>\n",
       "      <th>group</th>\n",
       "    </tr>\n",
       "  </thead>\n",
       "  <tbody>\n",
       "    <tr>\n",
       "      <th>0</th>\n",
       "      <td>2019-08-15</td>\n",
       "      <td>B</td>\n",
       "    </tr>\n",
       "    <tr>\n",
       "      <th>2</th>\n",
       "      <td>2019-08-15</td>\n",
       "      <td>A</td>\n",
       "    </tr>\n",
       "    <tr>\n",
       "      <th>45</th>\n",
       "      <td>2019-08-16</td>\n",
       "      <td>A</td>\n",
       "    </tr>\n",
       "    <tr>\n",
       "      <th>47</th>\n",
       "      <td>2019-08-16</td>\n",
       "      <td>B</td>\n",
       "    </tr>\n",
       "    <tr>\n",
       "      <th>55</th>\n",
       "      <td>2019-08-01</td>\n",
       "      <td>A</td>\n",
       "    </tr>\n",
       "  </tbody>\n",
       "</table>\n",
       "</div>"
      ],
      "text/plain": [
       "          date group\n",
       "0   2019-08-15     B\n",
       "2   2019-08-15     A\n",
       "45  2019-08-16     A\n",
       "47  2019-08-16     B\n",
       "55  2019-08-01     A"
      ]
     },
     "execution_count": 29,
     "metadata": {},
     "output_type": "execute_result"
    }
   ],
   "source": [
    "# define groups by months\n",
    "\n",
    "date_groups = orders_data[['date','group']].drop_duplicates()\n",
    "date_groups.head()"
   ]
  },
  {
   "cell_type": "code",
   "execution_count": 30,
   "metadata": {
    "colab": {},
    "colab_type": "code",
    "id": "z05UmLn2MOUR",
    "outputId": "2ce95a0f-18e4-421b-c259-534477f2c59c"
   },
   "outputs": [
    {
     "data": {
      "text/html": [
       "<div>\n",
       "<style scoped>\n",
       "    .dataframe tbody tr th:only-of-type {\n",
       "        vertical-align: middle;\n",
       "    }\n",
       "\n",
       "    .dataframe tbody tr th {\n",
       "        vertical-align: top;\n",
       "    }\n",
       "\n",
       "    .dataframe thead th {\n",
       "        text-align: right;\n",
       "    }\n",
       "</style>\n",
       "<table border=\"1\" class=\"dataframe\">\n",
       "  <thead>\n",
       "    <tr style=\"text-align: right;\">\n",
       "      <th></th>\n",
       "      <th>date</th>\n",
       "      <th>group</th>\n",
       "      <th>transactionId</th>\n",
       "      <th>visitorId</th>\n",
       "      <th>revenue</th>\n",
       "    </tr>\n",
       "  </thead>\n",
       "  <tbody>\n",
       "    <tr>\n",
       "      <th>55</th>\n",
       "      <td>2019-08-01</td>\n",
       "      <td>A</td>\n",
       "      <td>24</td>\n",
       "      <td>20</td>\n",
       "      <td>148579</td>\n",
       "    </tr>\n",
       "    <tr>\n",
       "      <th>66</th>\n",
       "      <td>2019-08-01</td>\n",
       "      <td>B</td>\n",
       "      <td>21</td>\n",
       "      <td>20</td>\n",
       "      <td>101217</td>\n",
       "    </tr>\n",
       "    <tr>\n",
       "      <th>175</th>\n",
       "      <td>2019-08-02</td>\n",
       "      <td>A</td>\n",
       "      <td>44</td>\n",
       "      <td>38</td>\n",
       "      <td>242401</td>\n",
       "    </tr>\n",
       "    <tr>\n",
       "      <th>173</th>\n",
       "      <td>2019-08-02</td>\n",
       "      <td>B</td>\n",
       "      <td>45</td>\n",
       "      <td>43</td>\n",
       "      <td>266748</td>\n",
       "    </tr>\n",
       "    <tr>\n",
       "      <th>291</th>\n",
       "      <td>2019-08-03</td>\n",
       "      <td>A</td>\n",
       "      <td>68</td>\n",
       "      <td>62</td>\n",
       "      <td>354874</td>\n",
       "    </tr>\n",
       "  </tbody>\n",
       "</table>\n",
       "</div>"
      ],
      "text/plain": [
       "           date group  transactionId  visitorId  revenue\n",
       "55   2019-08-01     A             24         20   148579\n",
       "66   2019-08-01     B             21         20   101217\n",
       "175  2019-08-02     A             44         38   242401\n",
       "173  2019-08-02     B             45         43   266748\n",
       "291  2019-08-03     A             68         62   354874"
      ]
     },
     "execution_count": 30,
     "metadata": {},
     "output_type": "execute_result"
    }
   ],
   "source": [
    "# aggregated orders by date with: transactionId-number of unique, visitorId-number of unique, revenue-cumulative\n",
    "\n",
    "orders_aggregated = date_groups.apply(\n",
    "    lambda x: orders_data[np.logical_and(orders_data['date'] <= x['date'], orders_data['group'] == \n",
    "    x['group'])].agg({\n",
    "    'date':'max',\n",
    "    'group':'max',\n",
    "    'transactionId':pd.Series.nunique,\n",
    "    'visitorId':pd.Series.nunique,\n",
    "    'revenue':'sum'}),axis=1).sort_values(by=['date','group'])\n",
    "\n",
    "orders_aggregated.head()"
   ]
  },
  {
   "cell_type": "code",
   "execution_count": 31,
   "metadata": {
    "colab": {},
    "colab_type": "code",
    "id": "Lc-o4lebMOUa"
   },
   "outputs": [],
   "source": [
    "visitors_data = visitors_raw_data\n",
    "\n",
    "# date data to date format - ! no need (left as str)\n",
    "\n",
    "#visitors_data['date'] = visitors_data['date'].map(lambda x: dt.datetime.strptime(x, '%Y-%m-%d'))"
   ]
  },
  {
   "cell_type": "code",
   "execution_count": 32,
   "metadata": {
    "colab": {},
    "colab_type": "code",
    "id": "abEs0fcnMOUj",
    "outputId": "ef01792d-5345-4039-d02a-fc917c8f05ed"
   },
   "outputs": [
    {
     "data": {
      "text/html": [
       "<div>\n",
       "<style scoped>\n",
       "    .dataframe tbody tr th:only-of-type {\n",
       "        vertical-align: middle;\n",
       "    }\n",
       "\n",
       "    .dataframe tbody tr th {\n",
       "        vertical-align: top;\n",
       "    }\n",
       "\n",
       "    .dataframe thead th {\n",
       "        text-align: right;\n",
       "    }\n",
       "</style>\n",
       "<table border=\"1\" class=\"dataframe\">\n",
       "  <thead>\n",
       "    <tr style=\"text-align: right;\">\n",
       "      <th></th>\n",
       "      <th>date</th>\n",
       "      <th>group</th>\n",
       "      <th>visitors</th>\n",
       "    </tr>\n",
       "  </thead>\n",
       "  <tbody>\n",
       "    <tr>\n",
       "      <th>55</th>\n",
       "      <td>2019-08-01</td>\n",
       "      <td>A</td>\n",
       "      <td>719</td>\n",
       "    </tr>\n",
       "    <tr>\n",
       "      <th>66</th>\n",
       "      <td>2019-08-01</td>\n",
       "      <td>B</td>\n",
       "      <td>713</td>\n",
       "    </tr>\n",
       "    <tr>\n",
       "      <th>175</th>\n",
       "      <td>2019-08-02</td>\n",
       "      <td>A</td>\n",
       "      <td>1338</td>\n",
       "    </tr>\n",
       "    <tr>\n",
       "      <th>173</th>\n",
       "      <td>2019-08-02</td>\n",
       "      <td>B</td>\n",
       "      <td>1294</td>\n",
       "    </tr>\n",
       "    <tr>\n",
       "      <th>291</th>\n",
       "      <td>2019-08-03</td>\n",
       "      <td>A</td>\n",
       "      <td>1845</td>\n",
       "    </tr>\n",
       "  </tbody>\n",
       "</table>\n",
       "</div>"
      ],
      "text/plain": [
       "           date group  visitors\n",
       "55   2019-08-01     A       719\n",
       "66   2019-08-01     B       713\n",
       "175  2019-08-02     A      1338\n",
       "173  2019-08-02     B      1294\n",
       "291  2019-08-03     A      1845"
      ]
     },
     "execution_count": 32,
     "metadata": {},
     "output_type": "execute_result"
    }
   ],
   "source": [
    "# aggregated visitors by date with: visitors-cumulative\n",
    "\n",
    "visitors_aggregated = date_groups.apply(\n",
    "    lambda x: visitors_data[np.logical_and(visitors_data['date'] <= x['date'], visitors_data['group'] == \n",
    "    x['group'])].agg({\n",
    "    'date':'max',\n",
    "    'group':'max',\n",
    "    'visitors':'sum'}),axis=1).sort_values(by=['date','group'])\n",
    "\n",
    "visitors_aggregated.head()"
   ]
  },
  {
   "cell_type": "code",
   "execution_count": 33,
   "metadata": {
    "colab": {},
    "colab_type": "code",
    "id": "wQyy9VLTMOUo"
   },
   "outputs": [],
   "source": [
    "cummulative_data = orders_aggregated.merge(visitors_aggregated, left_on=['date', 'group'], \n",
    "    right_on=['date', 'group'])\n",
    "\n",
    "#cummulative_data.head()"
   ]
  },
  {
   "cell_type": "code",
   "execution_count": 34,
   "metadata": {
    "colab": {},
    "colab_type": "code",
    "id": "cpbnujVTMOUs",
    "outputId": "f78e9d86-bf07-4e29-b3f4-a41ed04e86af"
   },
   "outputs": [
    {
     "data": {
      "text/html": [
       "<div>\n",
       "<style scoped>\n",
       "    .dataframe tbody tr th:only-of-type {\n",
       "        vertical-align: middle;\n",
       "    }\n",
       "\n",
       "    .dataframe tbody tr th {\n",
       "        vertical-align: top;\n",
       "    }\n",
       "\n",
       "    .dataframe thead th {\n",
       "        text-align: right;\n",
       "    }\n",
       "</style>\n",
       "<table border=\"1\" class=\"dataframe\">\n",
       "  <thead>\n",
       "    <tr style=\"text-align: right;\">\n",
       "      <th></th>\n",
       "      <th>date</th>\n",
       "      <th>group</th>\n",
       "      <th>orders</th>\n",
       "      <th>buyers</th>\n",
       "      <th>revenue</th>\n",
       "      <th>visitors</th>\n",
       "    </tr>\n",
       "  </thead>\n",
       "  <tbody>\n",
       "    <tr>\n",
       "      <th>0</th>\n",
       "      <td>2019-08-01</td>\n",
       "      <td>A</td>\n",
       "      <td>24</td>\n",
       "      <td>20</td>\n",
       "      <td>148579</td>\n",
       "      <td>719</td>\n",
       "    </tr>\n",
       "    <tr>\n",
       "      <th>1</th>\n",
       "      <td>2019-08-01</td>\n",
       "      <td>B</td>\n",
       "      <td>21</td>\n",
       "      <td>20</td>\n",
       "      <td>101217</td>\n",
       "      <td>713</td>\n",
       "    </tr>\n",
       "    <tr>\n",
       "      <th>2</th>\n",
       "      <td>2019-08-02</td>\n",
       "      <td>A</td>\n",
       "      <td>44</td>\n",
       "      <td>38</td>\n",
       "      <td>242401</td>\n",
       "      <td>1338</td>\n",
       "    </tr>\n",
       "    <tr>\n",
       "      <th>3</th>\n",
       "      <td>2019-08-02</td>\n",
       "      <td>B</td>\n",
       "      <td>45</td>\n",
       "      <td>43</td>\n",
       "      <td>266748</td>\n",
       "      <td>1294</td>\n",
       "    </tr>\n",
       "    <tr>\n",
       "      <th>4</th>\n",
       "      <td>2019-08-03</td>\n",
       "      <td>A</td>\n",
       "      <td>68</td>\n",
       "      <td>62</td>\n",
       "      <td>354874</td>\n",
       "      <td>1845</td>\n",
       "    </tr>\n",
       "  </tbody>\n",
       "</table>\n",
       "</div>"
      ],
      "text/plain": [
       "         date group  orders  buyers  revenue  visitors\n",
       "0  2019-08-01     A      24      20   148579       719\n",
       "1  2019-08-01     B      21      20   101217       713\n",
       "2  2019-08-02     A      44      38   242401      1338\n",
       "3  2019-08-02     B      45      43   266748      1294\n",
       "4  2019-08-03     A      68      62   354874      1845"
      ]
     },
     "execution_count": 34,
     "metadata": {},
     "output_type": "execute_result"
    }
   ],
   "source": [
    "cummulative_data.columns = ['date','group','orders','buyers','revenue','visitors']\n",
    "cummulative_data.head()"
   ]
  },
  {
   "cell_type": "code",
   "execution_count": 35,
   "metadata": {
    "colab": {},
    "colab_type": "code",
    "id": "rUaMvyxyMOUw"
   },
   "outputs": [],
   "source": [
    "cummulative_revenue_A = cummulative_data[cummulative_data['group'] == 'A'][['date','revenue','orders']]\n",
    "cummulative_revenue_B = cummulative_data[cummulative_data['group'] == 'B'][['date','revenue','orders']]"
   ]
  },
  {
   "cell_type": "code",
   "execution_count": 36,
   "metadata": {
    "colab": {},
    "colab_type": "code",
    "id": "_WzQX2rIMOU4",
    "outputId": "2cd8a6f1-9532-4ef3-c524-a7ca1d613ff1"
   },
   "outputs": [
    {
     "data": {
      "image/png": "[encoded data removed]",
      "text/plain": [
       "<Figure size 864x432 with 1 Axes>"
      ]
     },
     "metadata": {
      "needs_background": "light"
     },
     "output_type": "display_data"
    }
   ],
   "source": [
    "plt.figure(figsize=(12,6))\n",
    "plt.plot(cummulative_revenue_A['date'], cummulative_revenue_A['revenue'], label='A', marker='o', linestyle='dashed')\n",
    "plt.plot(cummulative_revenue_B['date'], cummulative_revenue_B['revenue'], label='B', marker='o', linestyle='dashed')\n",
    "plt.grid()\n",
    "plt.legend(loc='upper left')\n",
    "plt.title('Cumulative revenue by groups')\n",
    "plt.xlabel('Date')\n",
    "plt.xticks(rotation=45)\n",
    "plt.ylabel('Revenue')\n",
    "plt.show()"
   ]
  },
  {
   "cell_type": "markdown",
   "metadata": {
    "colab_type": "text",
    "id": "9Gby-Ji6MOU8"
   },
   "source": [
    "#### 1. Groups' cumulative revenue chart\n",
    "#### Conclusions and Assumptions\n",
    "- groups start the same growth\n",
    "- group B begins to lead in a week of test\n",
    "- after 2 weeks of the test, group A almost overtakes group B\n",
    "- August 19, group B quickly breaks away; more than a million\n",
    "- the last segment of the group runs almost parallel\n",
    "- it can be assumed that the sharp increase in the cumulative revenue of group B is caused by abnormally large orders"
   ]
  },
  {
   "cell_type": "markdown",
   "metadata": {
    "colab_type": "text",
    "id": "cEZflBojMOVA"
   },
   "source": [
    "<a href=\"#Head\"><font size=\"2\">BACK TO CONTENTS</font></a><a name=\"3.2\"></a><br/>\n",
    "\n",
    "### 2.2. Build a cumulative average cheque plot for groups. Draw conclusions and assumptions."
   ]
  },
  {
   "cell_type": "code",
   "execution_count": 37,
   "metadata": {
    "colab": {},
    "colab_type": "code",
    "id": "473P5qlhMOVC",
    "outputId": "609d0527-f9ec-425c-9eda-62ebb0322cdc"
   },
   "outputs": [
    {
     "data": {
      "image/png": "[encoded data removed]",
      "text/plain": [
       "<Figure size 864x432 with 1 Axes>"
      ]
     },
     "metadata": {
      "needs_background": "light"
     },
     "output_type": "display_data"
    }
   ],
   "source": [
    "plt.figure(figsize=(12,6))\n",
    "plt.plot(cummulative_revenue_A['date'], \n",
    "         cummulative_revenue_A['revenue'] / cummulative_revenue_A['orders'], label='A', marker='o', linestyle='dashed')\n",
    "plt.plot(cummulative_revenue_B['date'], \n",
    "         cummulative_revenue_B['revenue'] / cummulative_revenue_B['orders'], label='B', marker='o', linestyle='dashed')\n",
    "plt.grid()\n",
    "plt.legend(loc='upper left')\n",
    "plt.title('Cumulative average cheque by groups')\n",
    "plt.xlabel('Date')\n",
    "plt.xticks(rotation=45)\n",
    "plt.ylabel('Cost of an average cheque')\n",
    "plt.show()"
   ]
  },
  {
   "cell_type": "markdown",
   "metadata": {
    "colab_type": "text",
    "id": "p2z1jEedMOVJ"
   },
   "source": [
    "#### 2. Cumulative average cheque by groups\n",
    "#### Conclusions and Assumptions\n",
    "- the average cheque of group A sags sharply at the beginning of the test, group B goes in waves\n",
    "- by the end of two weeks of the test, the average cheque of group A for a short period exceeds the average cheque of group B\n",
    "- On August 19, the average cheque of group B increases sharply by 3 thousand, and then gradually decreases by 1 thousand units over the past 12 days: the cause is the expensive purchase on this date\n",
    "- the average cheque of group A remains at the level of 7000 units and gradually increases towards the end of the test\n",
    "- based on the fact that the fluctuations are very strong, it is too early to decide on this metric\n",
    "- An additional analysis of extreme values is required: it affects the results so much"
   ]
  },
  {
   "cell_type": "markdown",
   "metadata": {
    "colab_type": "text",
    "id": "-34_9MKSMOVK"
   },
   "source": [
    "<a href=\"#Head\"><font size=\"2\">BACK TO CONTENTS</font></a><a name=\"3.3\"></a><br/>\n",
    "\n",
    "### 2.3. Build a plot of the relative change in the cumulative average cheque of group B to group A. Draw conclusions and assumptions."
   ]
  },
  {
   "cell_type": "code",
   "execution_count": 38,
   "metadata": {
    "colab": {},
    "colab_type": "code",
    "id": "1Q6SZ5mNMOVM",
    "outputId": "c97e0d14-1663-472a-ae39-05d12e7e5962"
   },
   "outputs": [
    {
     "data": {
      "text/html": [
       "<div>\n",
       "<style scoped>\n",
       "    .dataframe tbody tr th:only-of-type {\n",
       "        vertical-align: middle;\n",
       "    }\n",
       "\n",
       "    .dataframe tbody tr th {\n",
       "        vertical-align: top;\n",
       "    }\n",
       "\n",
       "    .dataframe thead th {\n",
       "        text-align: right;\n",
       "    }\n",
       "</style>\n",
       "<table border=\"1\" class=\"dataframe\">\n",
       "  <thead>\n",
       "    <tr style=\"text-align: right;\">\n",
       "      <th></th>\n",
       "      <th>date</th>\n",
       "      <th>revenueA</th>\n",
       "      <th>ordersA</th>\n",
       "      <th>revenueB</th>\n",
       "      <th>ordersB</th>\n",
       "    </tr>\n",
       "  </thead>\n",
       "  <tbody>\n",
       "    <tr>\n",
       "      <th>0</th>\n",
       "      <td>2019-08-01</td>\n",
       "      <td>148579</td>\n",
       "      <td>24</td>\n",
       "      <td>101217</td>\n",
       "      <td>21</td>\n",
       "    </tr>\n",
       "    <tr>\n",
       "      <th>1</th>\n",
       "      <td>2019-08-02</td>\n",
       "      <td>242401</td>\n",
       "      <td>44</td>\n",
       "      <td>266748</td>\n",
       "      <td>45</td>\n",
       "    </tr>\n",
       "    <tr>\n",
       "      <th>2</th>\n",
       "      <td>2019-08-03</td>\n",
       "      <td>354874</td>\n",
       "      <td>68</td>\n",
       "      <td>380996</td>\n",
       "      <td>61</td>\n",
       "    </tr>\n",
       "    <tr>\n",
       "      <th>3</th>\n",
       "      <td>2019-08-04</td>\n",
       "      <td>425699</td>\n",
       "      <td>84</td>\n",
       "      <td>489567</td>\n",
       "      <td>78</td>\n",
       "    </tr>\n",
       "    <tr>\n",
       "      <th>4</th>\n",
       "      <td>2019-08-05</td>\n",
       "      <td>549917</td>\n",
       "      <td>109</td>\n",
       "      <td>581995</td>\n",
       "      <td>101</td>\n",
       "    </tr>\n",
       "  </tbody>\n",
       "</table>\n",
       "</div>"
      ],
      "text/plain": [
       "         date  revenueA  ordersA  revenueB  ordersB\n",
       "0  2019-08-01    148579       24    101217       21\n",
       "1  2019-08-02    242401       44    266748       45\n",
       "2  2019-08-03    354874       68    380996       61\n",
       "3  2019-08-04    425699       84    489567       78\n",
       "4  2019-08-05    549917      109    581995      101"
      ]
     },
     "execution_count": 38,
     "metadata": {},
     "output_type": "execute_result"
    }
   ],
   "source": [
    "merged_сummulative_revenue = cummulative_revenue_A.merge(\n",
    "    cummulative_revenue_B, left_on='date', right_on='date', how='left', suffixes=['A', 'B'])\n",
    "\n",
    "merged_сummulative_revenue.head()"
   ]
  },
  {
   "cell_type": "code",
   "execution_count": 39,
   "metadata": {
    "colab": {},
    "colab_type": "code",
    "id": "Ht1ynQ7vMOVR",
    "outputId": "b806d985-8404-43f0-c90f-edad46a6be43"
   },
   "outputs": [
    {
     "data": {
      "image/png": "[encoded data removed]",
      "text/plain": [
       "<Figure size 864x432 with 1 Axes>"
      ]
     },
     "metadata": {
      "needs_background": "light"
     },
     "output_type": "display_data"
    }
   ],
   "source": [
    "plt.figure(figsize=(12,6))\n",
    "plt.plot(merged_сummulative_revenue['date'], (\n",
    "    merged_сummulative_revenue['revenueB'] / merged_сummulative_revenue['ordersB']) / (\n",
    "    merged_сummulative_revenue['revenueA'] / merged_сummulative_revenue['ordersA']) -1, \n",
    "    marker='o', linestyle='dashed', color='g')\n",
    "\n",
    "plt.axhline(y=0, color='black', linestyle='--')\n",
    "plt.title('Relative change in the cumulative average cheque of group B to group A')\n",
    "plt.xlabel('Date')\n",
    "plt.xticks(rotation=45)\n",
    "plt.ylabel('Ratio of a change')\n",
    "plt.show()"
   ]
  },
  {
   "cell_type": "markdown",
   "metadata": {
    "colab_type": "text",
    "id": "8DjraPz7MOVX"
   },
   "source": [
    "#### 3. Plot for the relative change in the cumulative average cheque of group B to group A\n",
    "#### Conclusions and Assumptions\n",
    "- significant fluctuations are observed from the first days of the test and last 2 weeks from -2 to +4\n",
    "- and the anomaly is confirmed on August 19\n",
    "- it is necessary to search for abnormal orders in the dataset"
   ]
  },
  {
   "cell_type": "markdown",
   "metadata": {
    "colab_type": "text",
    "id": "CKK2Tj2eMOVY"
   },
   "source": [
    "<a href=\"#Head\"><font size=\"2\">BACK TO CONTENTS</font></a><a name=\"3.4\"></a><br/>\n",
    "\n",
    "### 2.4. Build a cumulative conversion plot for groups. Draw conclusions and assumptions."
   ]
  },
  {
   "cell_type": "code",
   "execution_count": 40,
   "metadata": {
    "colab": {},
    "colab_type": "code",
    "id": "ZtROxLaXMOVZ",
    "outputId": "9a23379b-dc47-4653-d207-5c66426ba059"
   },
   "outputs": [
    {
     "data": {
      "text/html": [
       "<div>\n",
       "<style scoped>\n",
       "    .dataframe tbody tr th:only-of-type {\n",
       "        vertical-align: middle;\n",
       "    }\n",
       "\n",
       "    .dataframe tbody tr th {\n",
       "        vertical-align: top;\n",
       "    }\n",
       "\n",
       "    .dataframe thead th {\n",
       "        text-align: right;\n",
       "    }\n",
       "</style>\n",
       "<table border=\"1\" class=\"dataframe\">\n",
       "  <thead>\n",
       "    <tr style=\"text-align: right;\">\n",
       "      <th></th>\n",
       "      <th>date</th>\n",
       "      <th>group</th>\n",
       "      <th>orders</th>\n",
       "      <th>buyers</th>\n",
       "      <th>revenue</th>\n",
       "      <th>visitors</th>\n",
       "      <th>conversion</th>\n",
       "    </tr>\n",
       "  </thead>\n",
       "  <tbody>\n",
       "    <tr>\n",
       "      <th>0</th>\n",
       "      <td>2019-08-01</td>\n",
       "      <td>A</td>\n",
       "      <td>24</td>\n",
       "      <td>20</td>\n",
       "      <td>148579</td>\n",
       "      <td>719</td>\n",
       "      <td>0.033</td>\n",
       "    </tr>\n",
       "    <tr>\n",
       "      <th>1</th>\n",
       "      <td>2019-08-01</td>\n",
       "      <td>B</td>\n",
       "      <td>21</td>\n",
       "      <td>20</td>\n",
       "      <td>101217</td>\n",
       "      <td>713</td>\n",
       "      <td>0.029</td>\n",
       "    </tr>\n",
       "    <tr>\n",
       "      <th>2</th>\n",
       "      <td>2019-08-02</td>\n",
       "      <td>A</td>\n",
       "      <td>44</td>\n",
       "      <td>38</td>\n",
       "      <td>242401</td>\n",
       "      <td>1338</td>\n",
       "      <td>0.033</td>\n",
       "    </tr>\n",
       "    <tr>\n",
       "      <th>3</th>\n",
       "      <td>2019-08-02</td>\n",
       "      <td>B</td>\n",
       "      <td>45</td>\n",
       "      <td>43</td>\n",
       "      <td>266748</td>\n",
       "      <td>1294</td>\n",
       "      <td>0.035</td>\n",
       "    </tr>\n",
       "    <tr>\n",
       "      <th>4</th>\n",
       "      <td>2019-08-03</td>\n",
       "      <td>A</td>\n",
       "      <td>68</td>\n",
       "      <td>62</td>\n",
       "      <td>354874</td>\n",
       "      <td>1845</td>\n",
       "      <td>0.037</td>\n",
       "    </tr>\n",
       "  </tbody>\n",
       "</table>\n",
       "</div>"
      ],
      "text/plain": [
       "         date group  orders  buyers  revenue  visitors  conversion\n",
       "0  2019-08-01     A      24      20   148579       719       0.033\n",
       "1  2019-08-01     B      21      20   101217       713       0.029\n",
       "2  2019-08-02     A      44      38   242401      1338       0.033\n",
       "3  2019-08-02     B      45      43   266748      1294       0.035\n",
       "4  2019-08-03     A      68      62   354874      1845       0.037"
      ]
     },
     "execution_count": 40,
     "metadata": {},
     "output_type": "execute_result"
    }
   ],
   "source": [
    "cummulative_data['conversion'] = cummulative_data['orders'] / cummulative_data['visitors']\n",
    "\n",
    "cummulative_data.head()"
   ]
  },
  {
   "cell_type": "code",
   "execution_count": 41,
   "metadata": {
    "colab": {},
    "colab_type": "code",
    "id": "SnHlGKnRMOVf"
   },
   "outputs": [],
   "source": [
    "cummulative_data_A = cummulative_data[cummulative_data['group']=='A']\n",
    "cummulative_data_B = cummulative_data[cummulative_data['group']=='B']"
   ]
  },
  {
   "cell_type": "code",
   "execution_count": 42,
   "metadata": {
    "colab": {},
    "colab_type": "code",
    "id": "Gp-1TJSRMOVk",
    "outputId": "8d8648d1-c095-4f0a-9b0c-596230a74907"
   },
   "outputs": [
    {
     "data": {
      "image/png": "[encoded data removed]",
      "text/plain": [
       "<Figure size 864x432 with 1 Axes>"
      ]
     },
     "metadata": {
      "needs_background": "light"
     },
     "output_type": "display_data"
    }
   ],
   "source": [
    "plt.figure(figsize=(12,6))\n",
    "plt.plot(cummulative_data_A['date'], cummulative_data_A['conversion'], label='A', marker='o', linestyle='dashed')\n",
    "plt.plot(cummulative_data_B['date'], cummulative_data_B['conversion'], label='B', marker='o', linestyle='dashed')\n",
    "plt.grid()\n",
    "plt.legend()\n",
    "plt.title('Cumulative conversion by groups')\n",
    "plt.xlabel('Date')\n",
    "plt.xticks(rotation=45)\n",
    "plt.ylabel('Conversion rate')\n",
    "plt.show()"
   ]
  },
  {
   "cell_type": "code",
   "execution_count": 43,
   "metadata": {},
   "outputs": [
    {
     "name": "stdout",
     "output_type": "stream",
     "text": [
      "<class 'pandas.core.frame.DataFrame'>\n",
      "Int64Index: 31 entries, 0 to 60\n",
      "Data columns (total 7 columns):\n",
      " #   Column      Non-Null Count  Dtype  \n",
      "---  ------      --------------  -----  \n",
      " 0   date        31 non-null     object \n",
      " 1   group       31 non-null     object \n",
      " 2   orders      31 non-null     int64  \n",
      " 3   buyers      31 non-null     int64  \n",
      " 4   revenue     31 non-null     int64  \n",
      " 5   visitors    31 non-null     int64  \n",
      " 6   conversion  31 non-null     float64\n",
      "dtypes: float64(1), int64(4), object(2)\n",
      "memory usage: 1.9+ KB\n"
     ]
    }
   ],
   "source": [
    "cummulative_data_A.info()"
   ]
  },
  {
   "cell_type": "code",
   "execution_count": 44,
   "metadata": {
    "colab": {},
    "colab_type": "code",
    "id": "9Q2ylY4OMOVt",
    "outputId": "dea59ab3-ee93-4fba-d033-9046f60fe73a"
   },
   "outputs": [
    {
     "data": {
      "image/png": "[encoded data removed]",
      "text/plain": [
       "<Figure size 864x432 with 1 Axes>"
      ]
     },
     "metadata": {
      "needs_background": "light"
     },
     "output_type": "display_data"
    }
   ],
   "source": [
    "plt.figure(figsize=(12,6))\n",
    "plt.plot(cummulative_data_A['date'], cummulative_data_A['conversion'], label='A', marker='o', linestyle='dashed')\n",
    "plt.plot(cummulative_data_B['date'], cummulative_data_B['conversion'], label='B', marker='o', linestyle='dashed')\n",
    "plt.grid()\n",
    "plt.legend()\n",
    "plt.axis([\"2019-08-10\", \"2019-09-01\", 0, 0.05])\n",
    "plt.title('Cumulative conversion by groups')\n",
    "plt.xlabel('Date')\n",
    "plt.xticks(rotation=45)\n",
    "plt.ylabel('Conversion rate')\n",
    "plt.show()"
   ]
  },
  {
   "cell_type": "markdown",
   "metadata": {
    "colab_type": "text",
    "id": "J0xsYAOHMOVz"
   },
   "source": [
    "#### 4. Group cumulative conversion chart\n",
    "#### Conclusions and Assumptions\n",
    "- the first 5 days of the test, the conversion of group A was in the lead\n",
    "- then the conversion of group B came in first place\n",
    "- from the 10th conversion stabilized around their average\n",
    "- the conversion of group B is consistently higher than the last two weeks of the test, however, in the long term, the advantage can be nullified"
   ]
  },
  {
   "cell_type": "markdown",
   "metadata": {
    "colab_type": "text",
    "id": "nLCKhJHoMOV1"
   },
   "source": [
    "<a href=\"#Head\"><font size=\"2\">BACK TO CONTENTS</font></a><a name=\"3.5\"></a><br/>\n",
    "\n",
    "### 2.5. Build a plot for the relative change in the cumulative conversion of group B to group A. Draw conclusions and assumptions."
   ]
  },
  {
   "cell_type": "code",
   "execution_count": 45,
   "metadata": {
    "colab": {},
    "colab_type": "code",
    "id": "IBkxSUYNMOV4",
    "outputId": "46c085c3-1d41-4942-c3db-f0081ddb4c2c"
   },
   "outputs": [
    {
     "data": {
      "text/html": [
       "<div>\n",
       "<style scoped>\n",
       "    .dataframe tbody tr th:only-of-type {\n",
       "        vertical-align: middle;\n",
       "    }\n",
       "\n",
       "    .dataframe tbody tr th {\n",
       "        vertical-align: top;\n",
       "    }\n",
       "\n",
       "    .dataframe thead th {\n",
       "        text-align: right;\n",
       "    }\n",
       "</style>\n",
       "<table border=\"1\" class=\"dataframe\">\n",
       "  <thead>\n",
       "    <tr style=\"text-align: right;\">\n",
       "      <th></th>\n",
       "      <th>date</th>\n",
       "      <th>conversionA</th>\n",
       "      <th>conversionB</th>\n",
       "    </tr>\n",
       "  </thead>\n",
       "  <tbody>\n",
       "    <tr>\n",
       "      <th>0</th>\n",
       "      <td>2019-08-01</td>\n",
       "      <td>0.033</td>\n",
       "      <td>0.029</td>\n",
       "    </tr>\n",
       "    <tr>\n",
       "      <th>1</th>\n",
       "      <td>2019-08-02</td>\n",
       "      <td>0.033</td>\n",
       "      <td>0.035</td>\n",
       "    </tr>\n",
       "    <tr>\n",
       "      <th>2</th>\n",
       "      <td>2019-08-03</td>\n",
       "      <td>0.037</td>\n",
       "      <td>0.034</td>\n",
       "    </tr>\n",
       "    <tr>\n",
       "      <th>3</th>\n",
       "      <td>2019-08-04</td>\n",
       "      <td>0.033</td>\n",
       "      <td>0.030</td>\n",
       "    </tr>\n",
       "    <tr>\n",
       "      <th>4</th>\n",
       "      <td>2019-08-05</td>\n",
       "      <td>0.033</td>\n",
       "      <td>0.031</td>\n",
       "    </tr>\n",
       "  </tbody>\n",
       "</table>\n",
       "</div>"
      ],
      "text/plain": [
       "         date  conversionA  conversionB\n",
       "0  2019-08-01        0.033        0.029\n",
       "1  2019-08-02        0.033        0.035\n",
       "2  2019-08-03        0.037        0.034\n",
       "3  2019-08-04        0.033        0.030\n",
       "4  2019-08-05        0.033        0.031"
      ]
     },
     "execution_count": 45,
     "metadata": {},
     "output_type": "execute_result"
    }
   ],
   "source": [
    "merged_сummulative_сonversions = cummulative_data_A[['date','conversion']].merge(\n",
    "    cummulative_data_B[['date','conversion']], left_on='date', right_on='date', how='left', suffixes=['A', 'B'])\n",
    "\n",
    "merged_сummulative_сonversions.head()"
   ]
  },
  {
   "cell_type": "code",
   "execution_count": 46,
   "metadata": {
    "colab": {},
    "colab_type": "code",
    "id": "iio5NSQRMOV_",
    "outputId": "05e78d32-2d2b-4623-f2c3-f11fba9960f4"
   },
   "outputs": [
    {
     "data": {
      "image/png": "[encoded data removed]",
      "text/plain": [
       "<Figure size 864x432 with 1 Axes>"
      ]
     },
     "metadata": {
      "needs_background": "light"
     },
     "output_type": "display_data"
    }
   ],
   "source": [
    "plt.figure(figsize=(12,6))\n",
    "plt.plot(merged_сummulative_сonversions['date'], merged_сummulative_сonversions['conversionB'] / \n",
    "         merged_сummulative_сonversions['conversionA'] - 1, \n",
    "         label=\"Relative change in cumulative conversion group B to group A\", marker='o', linestyle='dashed', color='g')\n",
    "plt.grid()\n",
    "plt.legend()\n",
    "plt.axhline(y=0, color='black', linestyle='--')\n",
    "plt.axhline(y=0.12, color='grey', linestyle='--')\n",
    "plt.title('Relative change in the cumulative conversion of group B to group A')\n",
    "plt.xlabel('Date')\n",
    "plt.xticks(rotation=45)\n",
    "plt.ylabel('Ratio of a change')\n",
    "plt.show()"
   ]
  },
  {
   "cell_type": "code",
   "execution_count": 47,
   "metadata": {
    "colab": {},
    "colab_type": "code",
    "id": "rhBLUu2kMOWE",
    "outputId": "357537fb-8367-41d2-9dc8-bb8c1980762c"
   },
   "outputs": [
    {
     "data": {
      "image/png": "[encoded data removed]",
      "text/plain": [
       "<Figure size 864x432 with 1 Axes>"
      ]
     },
     "metadata": {
      "needs_background": "light"
     },
     "output_type": "display_data"
    }
   ],
   "source": [
    "plt.figure(figsize=(12,6))\n",
    "plt.plot(merged_сummulative_сonversions['date'], merged_сummulative_сonversions['conversionB'] / \n",
    "         merged_сummulative_сonversions['conversionA'] - 1, \n",
    "         label=\"Relative change in cumulative conversion group B to group A\", marker='o', linestyle='dashed', color='g')\n",
    "plt.grid()\n",
    "plt.legend()\n",
    "#plt.axhline(y=0, color='black', linestyle='--')\n",
    "plt.axhline(y=0.12, color='grey', linestyle='--')\n",
    "plt.axis([\"2019-08-21\", '2019-09-01', 0, 0.5])\n",
    "plt.title('Relative change in the cumulative conversion of group B to group A')\n",
    "plt.xlabel('Date')\n",
    "plt.xticks(rotation=45)\n",
    "plt.ylabel('Ratio of a change')\n",
    "plt.show()"
   ]
  },
  {
   "cell_type": "markdown",
   "metadata": {
    "colab_type": "text",
    "id": "56vPEGa-MOWI"
   },
   "source": [
    "#### 5. Plot for the relative change in the cumulative conversion of group B to group A\n",
    "#### Conclusions and Assumptions\n",
    "- strong fluctuations of the first 9 days have come to naught in the middle part of the test\n",
    "- after the 21st, the conversion gain stabilized around the figure of 0.12\n",
    "- the relative change in the conversion of group B is stably positive after the first week of the test"
   ]
  },
  {
   "cell_type": "markdown",
   "metadata": {
    "colab_type": "text",
    "id": "qw_qc-d6MOWK"
   },
   "source": [
    "<a href=\"#Head\"><font size=\"2\">BACK TO CONTENTS</font></a><a name=\"3.6\"></a><br/>\n",
    "\n",
    "### 2.6. Build a scatter plot for the number of orders by visitors. Draw conclusions and assumptions."
   ]
  },
  {
   "cell_type": "code",
   "execution_count": 48,
   "metadata": {
    "colab": {},
    "colab_type": "code",
    "id": "WVNJsV1DMOWL",
    "outputId": "79987cae-2c7b-4ee6-efa3-c982c9863d88"
   },
   "outputs": [
    {
     "data": {
      "text/html": [
       "<div>\n",
       "<style scoped>\n",
       "    .dataframe tbody tr th:only-of-type {\n",
       "        vertical-align: middle;\n",
       "    }\n",
       "\n",
       "    .dataframe tbody tr th {\n",
       "        vertical-align: top;\n",
       "    }\n",
       "\n",
       "    .dataframe thead th {\n",
       "        text-align: right;\n",
       "    }\n",
       "</style>\n",
       "<table border=\"1\" class=\"dataframe\">\n",
       "  <thead>\n",
       "    <tr style=\"text-align: right;\">\n",
       "      <th></th>\n",
       "      <th>userId</th>\n",
       "      <th>orders</th>\n",
       "    </tr>\n",
       "  </thead>\n",
       "  <tbody>\n",
       "    <tr>\n",
       "      <th>1023</th>\n",
       "      <td>4256040402</td>\n",
       "      <td>11</td>\n",
       "    </tr>\n",
       "    <tr>\n",
       "      <th>591</th>\n",
       "      <td>2458001652</td>\n",
       "      <td>11</td>\n",
       "    </tr>\n",
       "    <tr>\n",
       "      <th>569</th>\n",
       "      <td>2378935119</td>\n",
       "      <td>9</td>\n",
       "    </tr>\n",
       "    <tr>\n",
       "      <th>487</th>\n",
       "      <td>2038680547</td>\n",
       "      <td>8</td>\n",
       "    </tr>\n",
       "    <tr>\n",
       "      <th>44</th>\n",
       "      <td>199603092</td>\n",
       "      <td>5</td>\n",
       "    </tr>\n",
       "  </tbody>\n",
       "</table>\n",
       "</div>"
      ],
      "text/plain": [
       "          userId  orders\n",
       "1023  4256040402      11\n",
       "591   2458001652      11\n",
       "569   2378935119       9\n",
       "487   2038680547       8\n",
       "44     199603092       5"
      ]
     },
     "execution_count": 48,
     "metadata": {},
     "output_type": "execute_result"
    }
   ],
   "source": [
    "orders_by_user = orders_data.drop(['group','revenue','date'], axis=1).groupby(\n",
    "    'visitorId', as_index=False).agg({'transactionId':pd.Series.nunique})\n",
    "orders_by_user.columns = ['userId','orders']\n",
    "\n",
    "orders_by_user.sort_values(by='orders', ascending=False).head()"
   ]
  },
  {
   "cell_type": "code",
   "execution_count": 49,
   "metadata": {
    "colab": {},
    "colab_type": "code",
    "id": "D704YfULMOWR",
    "outputId": "aba20e74-e4d5-497a-d1c1-2f23a898f234"
   },
   "outputs": [
    {
     "data": {
      "image/png": "[encoded data removed]",
      "text/plain": [
       "<Figure size 864x432 with 1 Axes>"
      ]
     },
     "metadata": {
      "needs_background": "light"
     },
     "output_type": "display_data"
    }
   ],
   "source": [
    "# Series from 0 to observation number in orders_by_user\n",
    "x_values = pd.Series(range(0,len(orders_by_user)))\n",
    "plt.figure(figsize=(12,6))\n",
    "plt.scatter(x_values, orders_by_user['orders'])\n",
    "plt.axhline(y=2.5, color='grey', linestyle='--')\n",
    "plt.title('Number of orders per visitor')\n",
    "plt.xlabel('Visitor')\n",
    "plt.ylabel('Order quantity')\n",
    "plt.show()"
   ]
  },
  {
   "cell_type": "markdown",
   "metadata": {
    "colab_type": "text",
    "id": "EUgabIjKMOWX"
   },
   "source": [
    "#### 6. Scatter chart of the number of orders per users\n",
    "#### Conclusions and Assumptions\n",
    "- most of the users ordered one-time\n",
    "- a relatively large portion of users ordered twice\n",
    "- 3 or more orders are rare\n",
    "- must be calculated through percentiles"
   ]
  },
  {
   "cell_type": "markdown",
   "metadata": {
    "colab_type": "text",
    "id": "D3w6B1GiMOWa"
   },
   "source": [
    "<a href=\"#Head\"><font size=\"2\">BACK TO CONTENTS</font></a><a name=\"3.7\"></a><br/>\n",
    "\n",
    "### 2.7. Count the 95th and 99th percentiles of the number of orders per user. Select a border to identify abnormal users."
   ]
  },
  {
   "cell_type": "code",
   "execution_count": 50,
   "metadata": {
    "colab": {},
    "colab_type": "code",
    "id": "pqlBtM5jMOWb",
    "outputId": "1013fee4-d40b-4be9-cb1c-3cf5da0e5756"
   },
   "outputs": [
    {
     "data": {
      "text/plain": [
       "array([2., 4.])"
      ]
     },
     "execution_count": 50,
     "metadata": {},
     "output_type": "execute_result"
    }
   ],
   "source": [
    "np.percentile(orders_by_user['orders'], [95, 99])"
   ]
  },
  {
   "cell_type": "code",
   "execution_count": 51,
   "metadata": {
    "colab": {},
    "colab_type": "code",
    "id": "fOxOpRtuMOWh",
    "outputId": "31cc3b7b-dea6-4ae6-edb7-d200339151a3"
   },
   "outputs": [
    {
     "data": {
      "text/plain": [
       "array([3., 4.])"
      ]
     },
     "execution_count": 51,
     "metadata": {},
     "output_type": "execute_result"
    }
   ],
   "source": [
    "np.percentile(orders_by_user['orders'], [97.2, 98.9])"
   ]
  },
  {
   "cell_type": "markdown",
   "metadata": {
    "colab_type": "text",
    "id": "hCr6J7x7MOWk"
   },
   "source": [
    "#### 7. 95th and 99th percentiles of the number of orders per user\n",
    "#### Border to identify abnormal users\n",
    "- no more than 5% of users ordered 3 or more times (more precisely - 2.8%)\n",
    "- no more than 1% of users ordered 4 or more times (more precisely - 1.1%)\n",
    "- most likely we need to have a limit after 2 orders"
   ]
  },
  {
   "cell_type": "markdown",
   "metadata": {
    "colab_type": "text",
    "id": "xNfrbJuHMOWl"
   },
   "source": [
    "<a href=\"#Head\"><font size=\"2\">BACK TO CONTENTS</font></a><a name=\"3.8\"></a><br/>\n",
    "\n",
    "### 2.8. Build a scatter plot of order values. Draw conclusions and assumptions."
   ]
  },
  {
   "cell_type": "code",
   "execution_count": 52,
   "metadata": {
    "colab": {},
    "colab_type": "code",
    "id": "x71Y3tQkMOWm",
    "outputId": "abc96388-9085-4691-e452-c99c2620a3fb"
   },
   "outputs": [
    {
     "data": {
      "image/png": "[encoded data removed]",
      "text/plain": [
       "<Figure size 864x432 with 1 Axes>"
      ]
     },
     "metadata": {
      "needs_background": "light"
     },
     "output_type": "display_data"
    }
   ],
   "source": [
    "# Series from 0 to observation number in orders_by_user\n",
    "x_values = pd.Series(range(0,len(orders_data['revenue'])))\n",
    "plt.figure(figsize=(12,6))\n",
    "plt.scatter(x_values, orders_data['revenue'])\n",
    "plt.axhline(y=50000, color='grey', linestyle='--')\n",
    "plt.title('Order value')\n",
    "plt.xlabel('Visitor')\n",
    "plt.ylabel('Value')\n",
    "plt.show()"
   ]
  },
  {
   "cell_type": "markdown",
   "metadata": {
    "colab_type": "text",
    "id": "RGwc1HX8MOWv"
   },
   "source": [
    "#### 8. Scatter plot of order values\n",
    "#### Conclusions and Assumptions\n",
    "- if most of the orders are within 50,000 rubles, we see several orders of very high cost, more than a million rubles and about 200,000 rubles\n",
    "- it can be assumed that the border should be set at about 50,000 rubles\n",
    "- check through percentiles\n",
    "- we observe two large orders which are ubnormal in our case"
   ]
  },
  {
   "cell_type": "markdown",
   "metadata": {
    "colab_type": "text",
    "id": "Tg4-kEuCMOWy"
   },
   "source": [
    "<a href=\"#Head\"><font size=\"2\">BACK TO CONTENTS</font></a><a name=\"3.9\"></a><br/>\n",
    "\n",
    "### 2.9. Calculate the 95th and 99th percentiles of order values. Select a boundary to determine abnormal orders."
   ]
  },
  {
   "cell_type": "code",
   "execution_count": 53,
   "metadata": {
    "colab": {},
    "colab_type": "code",
    "id": "TVT5eNXrMOWz",
    "outputId": "c19f1670-0f22-45f7-e092-3d9804a58ee5"
   },
   "outputs": [
    {
     "data": {
      "text/plain": [
       "array([28000. , 58233.2])"
      ]
     },
     "execution_count": 53,
     "metadata": {},
     "output_type": "execute_result"
    }
   ],
   "source": [
    "np.percentile(orders_data['revenue'], [95, 99])"
   ]
  },
  {
   "cell_type": "code",
   "execution_count": 54,
   "metadata": {
    "colab": {},
    "colab_type": "code",
    "id": "fQlnMP27MOW5",
    "outputId": "f7b8da84-b133-4b51-82f5-3901b7398930"
   },
   "outputs": [
    {
     "data": {
      "text/plain": [
       "array([31382. , 35485. , 44133.2])"
      ]
     },
     "execution_count": 54,
     "metadata": {},
     "output_type": "execute_result"
    }
   ],
   "source": [
    "np.percentile(orders_data['revenue'], [96, 97, 98])"
   ]
  },
  {
   "cell_type": "markdown",
   "metadata": {
    "colab_type": "text",
    "id": "gPQCdrOLMOXA"
   },
   "source": [
    "#### 9. 95th and 99th percentiles of order value\n",
    "#### Boundary for determining abnormal orders\n",
    "- no more than 5% of orders have a value above 28,000 rubles\n",
    "- no more than 1% of orders have a value above 58 233 rubles\n",
    "- between 2 and 1 percent a big step: from 44 and 58 thousand rubles\n",
    "- most likely the border must be after the 98th percentile, i.e. 44 133 rubles"
   ]
  },
  {
   "cell_type": "markdown",
   "metadata": {
    "colab_type": "text",
    "id": "jyt-H9SZMOXB"
   },
   "source": [
    "<a href=\"#Head\"><font size=\"2\">BACK TO CONTENTS</font></a><a name=\"3.10\"></a><br/>\n",
    "\n",
    "### 2.10. Calculate the statistical significance of differences in conversion between groups from raw data. Draw conclusions and assumptions."
   ]
  },
  {
   "cell_type": "markdown",
   "metadata": {},
   "source": [
    "> Let us state the Null Hypothesis H0 that the conversions by groups based on 'raw' data are equal using the Mann-Whitney U test; The alternative hypothesis H1 is that the conversions are not equal"
   ]
  },
  {
   "cell_type": "code",
   "execution_count": 55,
   "metadata": {
    "colab": {},
    "colab_type": "code",
    "id": "oJlTBiAwMOXF"
   },
   "outputs": [],
   "source": [
    "# Get aggregated table for the calculation of statistical significances\n",
    "\n",
    "visitors_A_daily = visitors_data[visitors_data['group']=='A'][['date', 'visitors']]\n",
    "visitors_A_daily.columns = ['date', 'visitorsPerDateA']\n",
    "\n",
    "visitors_A_cummulative = visitors_A_daily.apply(\n",
    "    lambda x: visitors_A_daily[visitors_A_daily['date'] <= x['date']].agg(\n",
    "        {'date' : 'max', 'visitorsPerDateA' : 'sum'}), axis=1)\n",
    "visitors_A_cummulative.columns = ['date', 'visitorsCummulativeA']\n",
    "\n",
    "visitors_B_daily = visitors_data[visitors_data['group']=='B'][['date', 'visitors']]\n",
    "visitors_B_daily.columns = ['date', 'visitorsPerDateB']\n",
    "\n",
    "visitors_B_cummulative = visitors_B_daily.apply(\n",
    "    lambda x: visitors_B_daily[visitors_B_daily['date'] <= x['date']].agg(\n",
    "        {'date' : 'max', 'visitorsPerDateB' : 'sum'}), axis=1)\n",
    "visitors_B_cummulative.columns = ['date', 'visitorsCummulativeB']"
   ]
  },
  {
   "cell_type": "code",
   "execution_count": 56,
   "metadata": {
    "colab": {},
    "colab_type": "code",
    "id": "fttfd7pwMOXQ"
   },
   "outputs": [],
   "source": [
    "orders_A_daily = orders_data[orders_data['group']=='A'][['date', 'transactionId', 'visitorId', 'revenue']].groupby(\n",
    "    'date', as_index=False).agg({'transactionId' : pd.Series.nunique, 'revenue' : 'sum'})\n",
    "orders_A_daily.columns = ['date', 'ordersPerDateA', 'revenuePerDateA']\n",
    "\n",
    "orders_A_cummulative = orders_A_daily.apply(\n",
    "    lambda x:orders_A_daily[orders_A_daily['date'] <= x['date']].agg({\n",
    "        'date' : 'max', 'ordersPerDateA' : 'sum', 'revenuePerDateA' : 'sum'}), axis=1).sort_values(by=['date'])\n",
    "orders_A_cummulative.columns = ['date', 'ordersCummulativeA', 'revenueCummulativeA']"
   ]
  },
  {
   "cell_type": "code",
   "execution_count": 57,
   "metadata": {
    "colab": {},
    "colab_type": "code",
    "id": "W5WdMJ_5MOXV"
   },
   "outputs": [],
   "source": [
    "orders_B_daily = orders_data[orders_data['group']=='B'][['date', 'transactionId', 'visitorId', 'revenue']].groupby(\n",
    "    'date', as_index=False).agg({'transactionId' : pd.Series.nunique, 'revenue' : 'sum'})\n",
    "orders_B_daily.columns = ['date', 'ordersPerDateB', 'revenuePerDateB']\n",
    "\n",
    "orders_B_cummulative = orders_B_daily.apply(\n",
    "    lambda x:orders_B_daily[orders_B_daily['date'] <= x['date']].agg(\n",
    "        {'date' : 'max', 'ordersPerDateB' : 'sum', 'revenuePerDateB' : 'sum'}), axis=1).sort_values(by=['date'])\n",
    "orders_B_cummulative.columns = ['date', 'ordersCummulativeB', 'revenueCummulativeB']"
   ]
  },
  {
   "cell_type": "code",
   "execution_count": 58,
   "metadata": {
    "colab": {},
    "colab_type": "code",
    "id": "WlLyNNG1MOXe"
   },
   "outputs": [],
   "source": [
    "data_aggregated = orders_A_daily.merge(orders_B_daily, left_on='date', right_on='date', how='left')\\\n",
    "    .merge(orders_A_cummulative, left_on='date', right_on='date', how='left')\\\n",
    "    .merge(orders_B_cummulative, left_on='date', right_on='date', how='left')\\\n",
    "    .merge(visitors_A_daily, left_on='date', right_on='date', how='left')\\\n",
    "    .merge(visitors_B_daily, left_on='date', right_on='date', how='left')\\\n",
    "    .merge(visitors_A_cummulative, left_on='date', right_on='date', how='left')\\\n",
    "    .merge(visitors_B_cummulative, left_on='date', right_on='date', how='left')\n",
    "\n",
    "#data_aggregated.head()"
   ]
  },
  {
   "cell_type": "code",
   "execution_count": 59,
   "metadata": {
    "colab": {},
    "colab_type": "code",
    "id": "OQkBA4KFMOXl"
   },
   "outputs": [],
   "source": [
    "orders_by_users_A = orders_data[orders_data['group'] == 'A'].groupby('visitorId', as_index=False).agg(\n",
    "    {'transactionId' : pd.Series.nunique})\n",
    "orders_by_users_A.columns = ['userId', 'orders']\n",
    "\n",
    "orders_by_users_B = orders_data[orders_data['group'] == 'B'].groupby('visitorId', as_index=False).agg(\n",
    "    {'transactionId' : pd.Series.nunique})\n",
    "orders_by_users_B.columns = ['userId', 'orders']"
   ]
  },
  {
   "cell_type": "code",
   "execution_count": 60,
   "metadata": {
    "colab": {},
    "colab_type": "code",
    "id": "HGwnDYcaMOXs"
   },
   "outputs": [],
   "source": [
    "sample_A = pd.concat([orders_by_users_A['orders'],pd.Series(0, index=np.arange(\n",
    "    data_aggregated['visitorsPerDateA'].sum() - len(orders_by_users_A['orders'])), name='orders')],axis=0)\n",
    "\n",
    "sample_B = pd.concat([orders_by_users_B['orders'],pd.Series(0, index=np.arange(\n",
    "    data_aggregated['visitorsPerDateB'].sum() - len(orders_by_users_B['orders'])), name='orders')],axis=0)"
   ]
  },
  {
   "cell_type": "code",
   "execution_count": 61,
   "metadata": {
    "colab": {},
    "colab_type": "code",
    "id": "ju5wMkxeMOXw",
    "outputId": "41d0de58-cd65-4a8a-8b83-41265040f14b"
   },
   "outputs": [
    {
     "name": "stdout",
     "output_type": "stream",
     "text": [
      "Statistical significance of differences in conversions by groups (based on raw data) (p-value): 0.00840\n"
     ]
    }
   ],
   "source": [
    "# Statistical significance of differences in conversion by groups (p-value):\n",
    "print(\"Statistical significance of differences in conversions by groups (based on raw data) (p-value): {0:.5f}\".\n",
    "      format(stats.mannwhitneyu(sample_A, sample_B)[1]))"
   ]
  },
  {
   "cell_type": "code",
   "execution_count": 62,
   "metadata": {
    "colab": {},
    "colab_type": "code",
    "id": "ms7iZZOyMOX0",
    "outputId": "9b24bbc2-058c-452e-f9e5-9cee33d27545"
   },
   "outputs": [
    {
     "name": "stdout",
     "output_type": "stream",
     "text": [
      "Relative conversion difference of group B to group A (raw data): 0.138\n"
     ]
    }
   ],
   "source": [
    "# Relative conversion difference group B to group A\n",
    "print(\"Relative conversion difference of group B to group A (raw data): {0:.3f}\".\n",
    "      format((data_aggregated['ordersPerDateB'].sum()/data_aggregated['visitorsPerDateB'].sum())/\n",
    "                       (data_aggregated['ordersPerDateA'].sum()/data_aggregated['visitorsPerDateA'].sum())-1))"
   ]
  },
  {
   "cell_type": "markdown",
   "metadata": {
    "colab_type": "text",
    "id": "ZLZNpA3uMOX4"
   },
   "source": [
    "#### 10. The statistical significance of differences in conversion between groups according to the \"raw\" data\n",
    "#### Conclusions and Assumptions\n",
    "- P-value is significantly less than 0.05: the difference in conversions between groups according to the \"raw\" data is significant\n",
    "- the difference in conversion gain is high = 14%\n",
    "- we need to clean the data and repeat the comparison"
   ]
  },
  {
   "cell_type": "markdown",
   "metadata": {
    "colab_type": "text",
    "id": "LnCvIIFMMOX5"
   },
   "source": [
    "<a href=\"#Head\"><font size=\"2\">BACK TO CONTENTS</font></a><a name=\"3.11\"></a><br/>\n",
    "\n",
    "### 2.11. Calculate the statistical significance of the difference in the average cheques between groups by raw data. Draw conclusions and assumptions."
   ]
  },
  {
   "cell_type": "markdown",
   "metadata": {},
   "source": [
    "> Let us state the Null Hypothesis H0 that average cheques by groups based on 'raw' data are equal using the Mann-Whitney U test; The alternative hypothesis H1 is that average cheques of each group are not equal"
   ]
  },
  {
   "cell_type": "code",
   "execution_count": 63,
   "metadata": {
    "colab": {},
    "colab_type": "code",
    "id": "CvdEknN5MOX6",
    "outputId": "d73c1d02-d37e-41e5-88ff-cc2f25e96309"
   },
   "outputs": [
    {
     "name": "stdout",
     "output_type": "stream",
     "text": [
      "Statistical significance of difference in the average cheques of each group (raw data): 0.365\n"
     ]
    }
   ],
   "source": [
    "# p-value to compare average cheque between groups (raw data)\n",
    "print(\"Statistical significance of difference in the average cheques of each group (raw data): {0:.3f}\".format(\n",
    "    stats.mannwhitneyu(orders_data[orders_data['group']=='A']['revenue'], \n",
    "                                           orders_data[orders_data['group']=='B']['revenue'])[1]))"
   ]
  },
  {
   "cell_type": "code",
   "execution_count": 64,
   "metadata": {
    "colab": {},
    "colab_type": "code",
    "id": "F2_x-z_wMOX_",
    "outputId": "ca8262a7-18c0-4fc9-a29b-f5ec0d0e434c"
   },
   "outputs": [
    {
     "name": "stdout",
     "output_type": "stream",
     "text": [
      "Relative increase in the average cheque of group B to group A (raw data): 0.259\n"
     ]
    }
   ],
   "source": [
    "# Relative increase in the average cheque of group B (\"raw\" data)\n",
    "print(\"Relative increase in the average cheque of group B to group A (raw data): {0:.3f}\".format(\n",
    "    orders_data[orders_data['group']=='B']['revenue'].\n",
    "                       mean()/orders_data[orders_data['group']=='A']['revenue'].mean()-1))"
   ]
  },
  {
   "cell_type": "markdown",
   "metadata": {
    "colab_type": "text",
    "id": "s2D-rs68MOYE"
   },
   "source": [
    "#### 11. The statistical significance of differences in the average order receipt between groups according to raw data\n",
    "#### Conclusions and Assumptions\n",
    "- P-value greater than 0.05: there are no statistically significant differences in the average cheque between groups\n",
    "- relative increase is significant = 26%\n",
    "- we need to clean the data and repeat the comparison"
   ]
  },
  {
   "cell_type": "markdown",
   "metadata": {
    "colab_type": "text",
    "id": "hhNdxQcUMOYE"
   },
   "source": [
    "<a href=\"#Head\"><font size=\"2\">BACK TO CONTENTS</font></a><a name=\"3.12\"></a><br/>\n",
    "\n",
    "### 2.12. Calculate the statistical significance of differences in conversion between groups using “cleaned” data. Draw conclusions and assumptions."
   ]
  },
  {
   "cell_type": "markdown",
   "metadata": {},
   "source": [
    "> Let us state the Null Hypothesis H0 that the conversions by groups based on 'refined' data are equal using the Mann-Whitney U test; The alternative hypothesis H1 is that the conversions are not equal"
   ]
  },
  {
   "cell_type": "code",
   "execution_count": 65,
   "metadata": {
    "colab": {},
    "colab_type": "code",
    "id": "ecYmxeDUMOYF"
   },
   "outputs": [],
   "source": [
    "# Clean data: anomalies > 2 purchases и > 44 133 rubles\n",
    "\n",
    "users_with_many_orders = pd.concat([orders_by_users_A[orders_by_users_A['orders'] >= 3]['userId'],\n",
    "                                 orders_by_users_B[orders_by_users_B['orders'] >= 3]['userId']], axis = 0)\n",
    "#users_with_many_orders\n",
    "\n",
    "users_with_expensive_orders = orders_data[orders_data['revenue'] > 44133]['visitorId']\n",
    "#users_with_expensive_orders\n",
    "\n",
    "abnormal_users = pd.concat([users_with_many_orders,users_with_expensive_orders],\n",
    "                          axis = 0).drop_duplicates().sort_values(ascending=True)\n",
    "#abnormal_users.shape"
   ]
  },
  {
   "cell_type": "code",
   "execution_count": 66,
   "metadata": {
    "colab": {},
    "colab_type": "code",
    "id": "oYdIc7hcMOYI"
   },
   "outputs": [],
   "source": [
    "# Variables sample_A_filtered & sample_B_filtered with refined order data - not including abnormal users.\n",
    "sample_A_filtered = pd.concat([orders_by_users_A[np.logical_not(\n",
    "    orders_by_users_A['userId'].isin(abnormal_users))]['orders'],pd.Series(\n",
    "    0, index=np.arange(data_aggregated['visitorsPerDateA'].sum() - len(orders_by_users_A['orders'])),name='orders')],axis=0)\n",
    "\n",
    "sample_B_filtered = pd.concat([orders_by_users_B[np.logical_not(\n",
    "    orders_by_users_B['userId'].isin(abnormal_users))]['orders'],pd.Series(\n",
    "    0, index=np.arange(data_aggregated['visitorsPerDateB'].sum() - len(orders_by_users_B['orders'])),name='orders')],axis=0)"
   ]
  },
  {
   "cell_type": "code",
   "execution_count": 67,
   "metadata": {
    "colab": {},
    "colab_type": "code",
    "id": "UhZ3TUL6MOYK",
    "outputId": "2946cb48-d2bd-473e-be79-b0a071c23f1e"
   },
   "outputs": [
    {
     "name": "stdout",
     "output_type": "stream",
     "text": [
      "Statistical significance of differences in conversions by groups (refined data) p-value: 0.00370\n"
     ]
    }
   ],
   "source": [
    "# Comparison of conversion between refined groups\n",
    "print(\"Statistical significance of differences in conversions by groups (refined data) p-value: {0:.5f}\".\n",
    "      format(stats.mannwhitneyu(sample_A_filtered, sample_B_filtered)[1]))"
   ]
  },
  {
   "cell_type": "code",
   "execution_count": 68,
   "metadata": {
    "colab": {},
    "colab_type": "code",
    "id": "l2U2_6S0MOYM",
    "outputId": "0b9fab9f-172e-4a0a-a9e6-2aa35ea532bb"
   },
   "outputs": [
    {
     "name": "stdout",
     "output_type": "stream",
     "text": [
      "Relative conversion difference of group B to group A (refined data): 0.185\n"
     ]
    }
   ],
   "source": [
    "# The relative increase in the conversion of refined group B to refined group A\n",
    "print(\"Relative conversion difference of group B to group A (refined data): {0:.3f}\".\n",
    "      format(sample_B_filtered.mean()/sample_A_filtered.mean()-1))"
   ]
  },
  {
   "cell_type": "markdown",
   "metadata": {
    "colab_type": "text",
    "id": "mIXqYl1uMOYO"
   },
   "source": [
    "#### 12. The statistical significance of differences in conversion between groups according to the \"refined\" data\n",
    "#### Conclusions and Assumptions\n",
    "- P-value is much less than 0.05: = 0.00370, which is even lower than before the \"cleansing\" of the data (0.00840)\n",
    "- we can conclude that the increase in the conversion of group B really takes place"
   ]
  },
  {
   "cell_type": "markdown",
   "metadata": {
    "colab_type": "text",
    "id": "s4WijmRjMOYP"
   },
   "source": [
    "<a href=\"#Head\"><font size=\"2\">BACK TO CONTENTS</font></a><a name=\"3.13\"></a><br/>\n",
    "\n",
    "### 2.13. Calculate the statistical significance of the differences in the average cheque between groups according to the “refined” data. Draw conclusions and assumptions."
   ]
  },
  {
   "cell_type": "markdown",
   "metadata": {},
   "source": [
    "> Let us state the Null Hypothesis H0 that average cheques by groups based on 'refined' data are equal using the Mann-Whitney U test; The alternative hypothesis H1 is that average cheques of each group are not equal"
   ]
  },
  {
   "cell_type": "code",
   "execution_count": 69,
   "metadata": {
    "colab": {},
    "colab_type": "code",
    "id": "V1vEZZJKMOYQ",
    "outputId": "edf4287b-f242-437e-b173-13be70c64405"
   },
   "outputs": [
    {
     "name": "stdout",
     "output_type": "stream",
     "text": [
      "Statistical significance of difference in the average cheques of each group (refined data): 0.497\n"
     ]
    }
   ],
   "source": [
    "# p-value to compare average cheques between refined groups\n",
    "print(\"Statistical significance of difference in the average cheques of each group (refined data): {0:.3f}\".\n",
    "      format(stats.mannwhitneyu(\n",
    "    orders_data[np.logical_and(orders_data['group']=='A',\n",
    "        np.logical_not(orders_data['visitorId'].isin(abnormal_users)))]['revenue'],\n",
    "    orders_data[np.logical_and(orders_data['group']=='B',\n",
    "        np.logical_not(orders_data['visitorId'].isin(abnormal_users)))]['revenue'])[1]))"
   ]
  },
  {
   "cell_type": "code",
   "execution_count": 70,
   "metadata": {
    "colab": {},
    "colab_type": "code",
    "id": "VueHfr9IMOYV",
    "outputId": "a6963870-9c33-4562-cd69-dfaac7ba4b82"
   },
   "outputs": [
    {
     "name": "stdout",
     "output_type": "stream",
     "text": [
      "Relative increase in the average cheque of group B to group A (refined data): 0.037\n"
     ]
    }
   ],
   "source": [
    "# The relative increase in the average cheque of the refined group B\n",
    "print(\"Relative increase in the average cheque of group B to group A (refined data): {0:.3f}\".\n",
    "      format(orders_data[np.logical_and(orders_data['group']=='B',\n",
    "        np.logical_not(orders_data['visitorId'].isin(abnormal_users)))]['revenue'].mean()/\n",
    "    orders_data[np.logical_and(orders_data['group']=='A',\n",
    "        np.logical_not(orders_data['visitorId'].isin(abnormal_users)))]['revenue'].mean() - 1))"
   ]
  },
  {
   "cell_type": "markdown",
   "metadata": {
    "colab_type": "text",
    "id": "fhZ0TY7PMOYY"
   },
   "source": [
    "#### 13. The statistical significance of the differences in the average order receipt between groups according to the “refined” data\n",
    "#### Conclusions and Assumptions\n",
    "- P-value is significantly higher than 0.05: = 0.497; the average cheque of both groups after removing the extremes is the same\n",
    "- relative increase insignificant = 3.7%"
   ]
  },
  {
   "cell_type": "markdown",
   "metadata": {
    "colab_type": "text",
    "id": "NwkoKx5OMOYY"
   },
   "source": [
    "<a href=\"#Head\"><font size=\"2\">BACK TO CONTENTS</font></a><a name=\"3.14\"></a><br/>\n",
    "\n",
    "### 2.14. Make a decision based on the test results and explain it.\n",
    "##### Solution Options:\n",
    "1. Stop the test, record the win of one of the groups.\n",
    "2. Stop the test, record the absence of differences between the groups.\n",
    "3. Continue the test."
   ]
  },
  {
   "cell_type": "markdown",
   "metadata": {
    "colab_type": "text",
    "id": "e6C_8y_yMOYZ"
   },
   "source": [
    "<a href=\"#Head\"><font size=\"2\">BACK TO CONTENTS</font></a><a name=\"3.15\"></a><br/>\n",
    "\n",
    "## Part 2. Conclusion:\n",
    "\n",
    "#### Summary\n",
    "- Conversion (p-value) 0.0084 (\"raw\") vs 0.0037 (\"refined\")\n",
    "- Conversion (change) 0.138 vs 0.185\n",
    "- Avg.cheque (p-value) 0.365 vs 0.497\n",
    "- Avg.cheque (change) 0.259 vs 0.037\n",
    "- The conversion rate of group B is higher (and not equal to) than the conversion values of group A\n",
    "- The average cheque of group B is higher (and not equal to) than that of group A, but not much\n",
    "- The test was carried out for one month\n",
    "- Over the past two weeks, metric values have stabilized\n",
    "- Data cleansing confirms the difference for the positive for the metrics of group B\n",
    "- The relative increase in the conversion of group B to the conversion of group A was 18.5%, this is significant, even with a possible adjustment of the metric in the coming weeks"
   ]
  },
  {
   "cell_type": "markdown",
   "metadata": {
    "colab_type": "text",
    "id": "t5SFBxJGMOYa"
   },
   "source": [
    "<a href=\"#Head\"><font size=\"2\">BACK TO CONTENTS</font></a><a name=\"4.0\"></a><br/>\n",
    "\n",
    "# Solution: stop the test, record that group B has higher conversion rate"
   ]
  }
 ],
 "metadata": {
  "colab": {
   "collapsed_sections": [],
   "name": "Data_Analysis_A_B_Test_S8.ipynb",
   "provenance": []
  },
  "kernelspec": {
   "display_name": "Python 3",
   "language": "python",
   "name": "python3"
  },
  "language_info": {
   "codemirror_mode": {
    "name": "ipython",
    "version": 3
   },
   "file_extension": ".py",
   "mimetype": "text/x-python",
   "name": "python",
   "nbconvert_exporter": "python",
   "pygments_lexer": "ipython3",
   "version": "3.7.7"
  }
 },
 "nbformat": 4,
 "nbformat_minor": 1
}
